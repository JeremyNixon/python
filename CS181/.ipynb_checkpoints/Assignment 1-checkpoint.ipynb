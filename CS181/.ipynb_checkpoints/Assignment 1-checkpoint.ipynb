{
 "metadata": {
  "name": "",
  "signature": "sha256:66a23ea4d90d1fdea85a10bc66e266c73fff8c0a62b1e868b5b6aa5ea7287e73"
 },
 "nbformat": 3,
 "nbformat_minor": 0,
 "worksheets": []
}