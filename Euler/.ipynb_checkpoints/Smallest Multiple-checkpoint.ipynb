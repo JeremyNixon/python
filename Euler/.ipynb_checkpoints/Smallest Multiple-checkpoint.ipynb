{
 "metadata": {
  "name": "",
  "signature": "sha256:791693da3a89ccf7dbba4293992c874808305567b3a8502363f3d6a9e50e953a"
 },
 "nbformat": 3,
 "nbformat_minor": 0,
 "worksheets": [
  {
   "cells": [
    {
     "cell_type": "code",
     "collapsed": false,
     "input": [
      "arr = []\n",
      "weird = 0\n",
      "number = 1\n",
      "while(weird == 0):\n",
      "    indicator = 1\n",
      "    for i in range(1,20):\n",
      "        if number % i != 0:\n",
      "            indicator = 0\n",
      "    if indicator == 1:\n",
      "        weird = 1\n",
      "        print number\n",
      "    number+= 1"
     ],
     "language": "python",
     "metadata": {},
     "outputs": []
    },
    {
     "cell_type": "code",
     "collapsed": false,
     "input": [],
     "language": "python",
     "metadata": {},
     "outputs": []
    }
   ],
   "metadata": {}
  }
 ]
}