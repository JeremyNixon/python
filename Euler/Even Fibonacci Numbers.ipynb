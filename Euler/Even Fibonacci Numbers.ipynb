{
 "metadata": {
  "name": "",
  "signature": "sha256:4925fd55266e040e32930f4fd8e2bc0e24da3b9341304ccab183f53e10852f22"
 },
 "nbformat": 3,
 "nbformat_minor": 0,
 "worksheets": [
  {
   "cells": [
    {
     "cell_type": "code",
     "collapsed": false,
     "input": [
      "import numpy as np"
     ],
     "language": "python",
     "metadata": {},
     "outputs": [],
     "prompt_number": 1
    },
    {
     "cell_type": "code",
     "collapsed": false,
     "input": [
      "fib = []\n",
      "fib.append(1)\n",
      "fib.append(1)\n",
      "for i in range(2,33):\n",
      "    fib.append(fib[i-1] + fib[i-2])"
     ],
     "language": "python",
     "metadata": {},
     "outputs": [],
     "prompt_number": 12
    },
    {
     "cell_type": "code",
     "collapsed": false,
     "input": [
      "# Another method for building fib\n",
      "fib = []\n",
      "for i in range(0,33):\n",
      "    if(i == 0): fib.append(0)\n",
      "    elif(i == 1): fib.append(1)\n",
      "    else:fib.append(fib[i-1] + fib[i-2])"
     ],
     "language": "python",
     "metadata": {},
     "outputs": []
    },
    {
     "cell_type": "code",
     "collapsed": false,
     "input": [
      "arr = []\n",
      "for i in fib:\n",
      "    if i % 2 == 0:\n",
      "        arr.append(i)\n",
      "sum(arr)"
     ],
     "language": "python",
     "metadata": {},
     "outputs": [
      {
       "metadata": {},
       "output_type": "pyout",
       "prompt_number": 3,
       "text": [
        "4613732"
       ]
      }
     ],
     "prompt_number": 3
    },
    {
     "cell_type": "code",
     "collapsed": false,
     "input": [
      "fib"
     ],
     "language": "python",
     "metadata": {},
     "outputs": [
      {
       "metadata": {},
       "output_type": "pyout",
       "prompt_number": 13,
       "text": [
        "[0,\n",
        " 1,\n",
        " 1,\n",
        " 2,\n",
        " 3,\n",
        " 5,\n",
        " 8,\n",
        " 13,\n",
        " 21,\n",
        " 34,\n",
        " 55,\n",
        " 89,\n",
        " 144,\n",
        " 233,\n",
        " 377,\n",
        " 610,\n",
        " 987,\n",
        " 1597,\n",
        " 2584,\n",
        " 4181,\n",
        " 6765,\n",
        " 10946,\n",
        " 17711,\n",
        " 28657,\n",
        " 46368,\n",
        " 75025,\n",
        " 121393,\n",
        " 196418,\n",
        " 317811,\n",
        " 514229,\n",
        " 832040,\n",
        " 1346269,\n",
        " 2178309]"
       ]
      }
     ],
     "prompt_number": 13
    },
    {
     "cell_type": "code",
     "collapsed": false,
     "input": [
      "ans = []\n",
      "n = 5\n",
      "for i in range(0,n):\n",
      "    "
     ],
     "language": "python",
     "metadata": {},
     "outputs": []
    }
   ],
   "metadata": {}
  }
 ]
}