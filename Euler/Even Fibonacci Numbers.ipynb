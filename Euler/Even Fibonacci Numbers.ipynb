{
 "metadata": {
  "name": "",
  "signature": "sha256:aeac2441e7cb5cdb8db3e2d75a0f48075ba7d28d5c1d572ed7619a9c1c6e0674"
 },
 "nbformat": 3,
 "nbformat_minor": 0,
 "worksheets": [
  {
   "cells": [
    {
     "cell_type": "code",
     "collapsed": false,
     "input": [
      "import numpy as np"
     ],
     "language": "python",
     "metadata": {},
     "outputs": [],
     "prompt_number": 3
    },
    {
     "cell_type": "code",
     "collapsed": false,
     "input": [
      "fib = []\n",
      "fib.append(1)\n",
      "fib.append(1)\n",
      "for i in range(2,33):\n",
      "    fib.append(fib[i-1] + fib[i-2])"
     ],
     "language": "python",
     "metadata": {},
     "outputs": [],
     "prompt_number": 11
    },
    {
     "cell_type": "code",
     "collapsed": false,
     "input": [
      "arr = []\n",
      "for i in fib:\n",
      "    if i % 2 == 0:\n",
      "        arr.append(i)\n",
      "sum(arr)"
     ],
     "language": "python",
     "metadata": {},
     "outputs": [
      {
       "metadata": {},
       "output_type": "pyout",
       "prompt_number": 15,
       "text": [
        "4613732"
       ]
      }
     ],
     "prompt_number": 15
    },
    {
     "cell_type": "code",
     "collapsed": false,
     "input": [],
     "language": "python",
     "metadata": {},
     "outputs": []
    }
   ],
   "metadata": {}
  }
 ]
}