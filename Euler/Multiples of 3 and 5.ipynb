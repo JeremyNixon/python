{
 "metadata": {
  "name": "",
  "signature": "sha256:1d3488cd81018fb00cabb6ac1df69dfb3584c58fe45d5cefb8251ed309856495"
 },
 "nbformat": 3,
 "nbformat_minor": 0,
 "worksheets": [
  {
   "cells": [
    {
     "cell_type": "code",
     "collapsed": false,
     "input": [
      "import numpy as np"
     ],
     "language": "python",
     "metadata": {},
     "outputs": [],
     "prompt_number": 5
    },
    {
     "cell_type": "code",
     "collapsed": false,
     "input": [
      "arr = []\n",
      "for i in range(1,1000):\n",
      "    if i % 3 == 0 or i % 5 == 0:\n",
      "        arr.append(i)\n",
      "sum(arr)\n",
      "# count = 0\n",
      "# for i in arr:\n",
      "#     count = count + arr\n",
      "\n",
      "# count"
     ],
     "language": "python",
     "metadata": {},
     "outputs": [
      {
       "metadata": {},
       "output_type": "pyout",
       "prompt_number": 9,
       "text": [
        "233168"
       ]
      }
     ],
     "prompt_number": 9
    },
    {
     "cell_type": "code",
     "collapsed": false,
     "input": [],
     "language": "python",
     "metadata": {},
     "outputs": []
    }
   ],
   "metadata": {}
  }
 ]
}