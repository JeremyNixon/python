{
 "metadata": {
  "name": "",
  "signature": "sha256:91ee7736a34f1f00a3ce881960d712e521b714b291cce8d06086eaccd7fc4469"
 },
 "nbformat": 3,
 "nbformat_minor": 0,
 "worksheets": [
  {
   "cells": [
    {
     "cell_type": "code",
     "collapsed": false,
     "input": [
      "i=j=k=l=2\n",
      "while(600851475143 % i != 0):\n",
      "    i+= 1\n",
      "j = i\n",
      "while(600851475143/i % j!= 0):\n",
      "    j+= 1\n",
      "k = j\n",
      "while(600851475143/j % k!= 0):\n",
      "    k+= 1\n",
      "l = k\n",
      "while(600851475143/k % l!= 0):\n",
      "    l+= 1\n",
      "l"
     ],
     "language": "python",
     "metadata": {},
     "outputs": [
      {
       "metadata": {},
       "output_type": "pyout",
       "prompt_number": 20,
       "text": [
        "6857"
       ]
      }
     ],
     "prompt_number": 20
    },
    {
     "cell_type": "code",
     "collapsed": false,
     "input": [
      "m = l\n",
      "while(600851475143/l % m!= 0):\n",
      "    m+= 1\n",
      "m"
     ],
     "language": "python",
     "metadata": {},
     "outputs": [
      {
       "metadata": {},
       "output_type": "pyout",
       "prompt_number": 23,
       "text": [
        "59569"
       ]
      }
     ],
     "prompt_number": 23
    },
    {
     "cell_type": "code",
     "collapsed": false,
     "input": [
      "primes = []\n",
      "for i in range(1,10000):\n",
      "    indicator = 1\n",
      "    for j in range(2,i-1):\n",
      "        if i % j == 0:\n",
      "            indicator = 0\n",
      "    if indicator == 1:\n",
      "        primes.append(i)\n",
      "devisors = []\n",
      "for i in primes:\n",
      "    if 600851475143 % i == 0:\n",
      "        devisors.append(i)\n",
      "devisors"
     ],
     "language": "python",
     "metadata": {},
     "outputs": [
      {
       "metadata": {},
       "output_type": "pyout",
       "prompt_number": 21,
       "text": [
        "[1, 71, 839, 1471, 6857]"
       ]
      }
     ],
     "prompt_number": 21
    },
    {
     "cell_type": "markdown",
     "metadata": {},
     "source": [
      "devisors = []\n",
      "for i in primes:\n",
      "    if 600851475143 % i == 0:\n",
      "        devisors.append(i)\n",
      "devisors"
     ]
    },
    {
     "cell_type": "code",
     "collapsed": false,
     "input": [],
     "language": "python",
     "metadata": {},
     "outputs": []
    }
   ],
   "metadata": {}
  }
 ]
}