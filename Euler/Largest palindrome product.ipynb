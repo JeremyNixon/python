{
 "metadata": {
  "name": "",
  "signature": "sha256:f1374e47515b4a177f8298bc8c02ff409d11b32ac06b8139d41d600d827bc006"
 },
 "nbformat": 3,
 "nbformat_minor": 0,
 "worksheets": [
  {
   "cells": [
    {
     "cell_type": "code",
     "collapsed": false,
     "input": [
      "# Palindromes:\n",
      "# 1001\n",
      "# 76567\n",
      "# 812218"
     ],
     "language": "python",
     "metadata": {},
     "outputs": [],
     "prompt_number": 1
    },
    {
     "cell_type": "code",
     "collapsed": false,
     "input": [
      "999*999"
     ],
     "language": "python",
     "metadata": {},
     "outputs": [
      {
       "metadata": {},
       "output_type": "pyout",
       "prompt_number": 2,
       "text": [
        "998001"
       ]
      }
     ],
     "prompt_number": 2
    },
    {
     "cell_type": "code",
     "collapsed": false,
     "input": [
      "987789//10000"
     ],
     "language": "python",
     "metadata": {},
     "outputs": [
      {
       "metadata": {},
       "output_type": "pyout",
       "prompt_number": 18,
       "text": [
        "98"
       ]
      }
     ],
     "prompt_number": 18
    },
    {
     "cell_type": "code",
     "collapsed": false,
     "input": [
      "# Get palindromes for 6 didget numbers\n",
      "\n",
      "def palindrome(number):\n",
      "    first = (number//100000)\n",
      "    number = number - first * 100000\n",
      "    second = number//10000\n",
      "    number = number - second * 10000\n",
      "    third = number//1000\n",
      "    number = number - third * 1000\n",
      "    fourth = number//100\n",
      "    number = number - fourth * 100\n",
      "    fifth = number//10\n",
      "    number = number - fifth * 10\n",
      "    sixth = number\n",
      "    half1 = 100 * first + 10 * second + third\n",
      "    half2 = 100 * sixth + 10 * fifth + fourth\n",
      "    return(half1, half2)"
     ],
     "language": "python",
     "metadata": {},
     "outputs": [],
     "prompt_number": 38
    },
    {
     "cell_type": "code",
     "collapsed": false,
     "input": [
      "palindrome(423321)"
     ],
     "language": "python",
     "metadata": {},
     "outputs": [
      {
       "metadata": {},
       "output_type": "pyout",
       "prompt_number": 36,
       "text": [
        "(423, 321)"
       ]
      }
     ],
     "prompt_number": 36
    },
    {
     "cell_type": "code",
     "collapsed": false,
     "input": [
      "arr = []\n",
      "for i in range (700000,1000000):\n",
      "    a,b = palindrome(i)\n",
      "    if a == b:\n",
      "        arr.append(i)\n",
      "arr"
     ],
     "language": "python",
     "metadata": {},
     "outputs": [
      {
       "metadata": {},
       "output_type": "pyout",
       "prompt_number": 42,
       "text": [
        "[800008,\n",
        " 801108,\n",
        " 802208,\n",
        " 803308,\n",
        " 804408,\n",
        " 805508,\n",
        " 806608,\n",
        " 807708,\n",
        " 808808,\n",
        " 809908,\n",
        " 810018,\n",
        " 811118,\n",
        " 812218,\n",
        " 813318,\n",
        " 814418,\n",
        " 815518,\n",
        " 816618,\n",
        " 817718,\n",
        " 818818,\n",
        " 819918,\n",
        " 820028,\n",
        " 821128,\n",
        " 822228,\n",
        " 823328,\n",
        " 824428,\n",
        " 825528,\n",
        " 826628,\n",
        " 827728,\n",
        " 828828,\n",
        " 829928,\n",
        " 830038,\n",
        " 831138,\n",
        " 832238,\n",
        " 833338,\n",
        " 834438,\n",
        " 835538,\n",
        " 836638,\n",
        " 837738,\n",
        " 838838,\n",
        " 839938,\n",
        " 840048,\n",
        " 841148,\n",
        " 842248,\n",
        " 843348,\n",
        " 844448,\n",
        " 845548,\n",
        " 846648,\n",
        " 847748,\n",
        " 848848,\n",
        " 849948,\n",
        " 850058,\n",
        " 851158,\n",
        " 852258,\n",
        " 853358,\n",
        " 854458,\n",
        " 855558,\n",
        " 856658,\n",
        " 857758,\n",
        " 858858,\n",
        " 859958,\n",
        " 860068,\n",
        " 861168,\n",
        " 862268,\n",
        " 863368,\n",
        " 864468,\n",
        " 865568,\n",
        " 866668,\n",
        " 867768,\n",
        " 868868,\n",
        " 869968,\n",
        " 870078,\n",
        " 871178,\n",
        " 872278,\n",
        " 873378,\n",
        " 874478,\n",
        " 875578,\n",
        " 876678,\n",
        " 877778,\n",
        " 878878,\n",
        " 879978,\n",
        " 880088,\n",
        " 881188,\n",
        " 882288,\n",
        " 883388,\n",
        " 884488,\n",
        " 885588,\n",
        " 886688,\n",
        " 887788,\n",
        " 888888,\n",
        " 889988,\n",
        " 890098,\n",
        " 891198,\n",
        " 892298,\n",
        " 893398,\n",
        " 894498,\n",
        " 895598,\n",
        " 896698,\n",
        " 897798,\n",
        " 898898,\n",
        " 899998,\n",
        " 900009,\n",
        " 901109,\n",
        " 902209,\n",
        " 903309,\n",
        " 904409,\n",
        " 905509,\n",
        " 906609,\n",
        " 907709,\n",
        " 908809,\n",
        " 909909,\n",
        " 910019,\n",
        " 911119,\n",
        " 912219,\n",
        " 913319,\n",
        " 914419,\n",
        " 915519,\n",
        " 916619,\n",
        " 917719,\n",
        " 918819,\n",
        " 919919,\n",
        " 920029,\n",
        " 921129,\n",
        " 922229,\n",
        " 923329,\n",
        " 924429,\n",
        " 925529,\n",
        " 926629,\n",
        " 927729,\n",
        " 928829,\n",
        " 929929,\n",
        " 930039,\n",
        " 931139,\n",
        " 932239,\n",
        " 933339,\n",
        " 934439,\n",
        " 935539,\n",
        " 936639,\n",
        " 937739,\n",
        " 938839,\n",
        " 939939,\n",
        " 940049,\n",
        " 941149,\n",
        " 942249,\n",
        " 943349,\n",
        " 944449,\n",
        " 945549,\n",
        " 946649,\n",
        " 947749,\n",
        " 948849,\n",
        " 949949,\n",
        " 950059,\n",
        " 951159,\n",
        " 952259,\n",
        " 953359,\n",
        " 954459,\n",
        " 955559,\n",
        " 956659,\n",
        " 957759,\n",
        " 958859,\n",
        " 959959,\n",
        " 960069,\n",
        " 961169,\n",
        " 962269,\n",
        " 963369,\n",
        " 964469,\n",
        " 965569,\n",
        " 966669,\n",
        " 967769,\n",
        " 968869,\n",
        " 969969,\n",
        " 970079,\n",
        " 971179,\n",
        " 972279,\n",
        " 973379,\n",
        " 974479,\n",
        " 975579,\n",
        " 976679,\n",
        " 977779,\n",
        " 978879,\n",
        " 979979,\n",
        " 980089,\n",
        " 981189,\n",
        " 982289,\n",
        " 983389,\n",
        " 984489,\n",
        " 985589,\n",
        " 986689,\n",
        " 987789,\n",
        " 988889,\n",
        " 989989,\n",
        " 990099,\n",
        " 991199,\n",
        " 992299,\n",
        " 993399,\n",
        " 994499,\n",
        " 995599,\n",
        " 996699,\n",
        " 997799,\n",
        " 998899,\n",
        " 999999]"
       ]
      }
     ],
     "prompt_number": 42
    },
    {
     "cell_type": "code",
     "collapsed": false,
     "input": [
      "successful = []\n",
      "factor1 = []\n",
      "factor2 = []\n",
      "for number in arr:\n",
      "    for i in range(700,1000):\n",
      "        for j in range(700,1000):\n",
      "            if i * j == number:\n",
      "                successful.append(number)\n",
      "                factor1.append(i)\n",
      "                factor2.append(j)\n",
      "successful\n",
      "    "
     ],
     "language": "python",
     "metadata": {},
     "outputs": [
      {
       "metadata": {},
       "output_type": "pyout",
       "prompt_number": 44,
       "text": [
        "[801108,\n",
        " 801108,\n",
        " 802208,\n",
        " 802208,\n",
        " 804408,\n",
        " 804408,\n",
        " 807708,\n",
        " 807708,\n",
        " 809908,\n",
        " 809908,\n",
        " 819918,\n",
        " 819918,\n",
        " 821128,\n",
        " 821128,\n",
        " 824428,\n",
        " 824428,\n",
        " 828828,\n",
        " 828828,\n",
        " 828828,\n",
        " 828828,\n",
        " 840048,\n",
        " 840048,\n",
        " 853358,\n",
        " 853358,\n",
        " 855558,\n",
        " 855558,\n",
        " 861168,\n",
        " 861168,\n",
        " 886688,\n",
        " 886688,\n",
        " 888888,\n",
        " 888888,\n",
        " 906609,\n",
        " 906609]"
       ]
      }
     ],
     "prompt_number": 44
    },
    {
     "cell_type": "code",
     "collapsed": false,
     "input": [
      "print factor1"
     ],
     "language": "python",
     "metadata": {},
     "outputs": [
      {
       "output_type": "stream",
       "stream": "stdout",
       "text": [
        "[867, 924, 848, 946, 831, 968, 844, 957, 869, 932, 902, 909, 868, 946, 902, 914, 858, 897, 924, 966, 888, 946, 869, 982, 894, 957, 924, 932, 916, 968, 924, 962, 913, 993]\n"
       ]
      }
     ],
     "prompt_number": 45
    },
    {
     "cell_type": "code",
     "collapsed": false,
     "input": [
      "print factor2"
     ],
     "language": "python",
     "metadata": {},
     "outputs": [
      {
       "output_type": "stream",
       "stream": "stdout",
       "text": [
        "[924, 867, 946, 848, 968, 831, 957, 844, 932, 869, 909, 902, 946, 868, 914, 902, 966, 924, 897, 858, 946, 888, 982, 869, 957, 894, 932, 924, 968, 916, 962, 924, 993, 913]\n"
       ]
      }
     ],
     "prompt_number": 46
    },
    {
     "cell_type": "code",
     "collapsed": false,
     "input": [],
     "language": "python",
     "metadata": {},
     "outputs": []
    }
   ],
   "metadata": {}
  }
 ]
}