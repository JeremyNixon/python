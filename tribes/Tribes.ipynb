{
 "metadata": {
  "name": "",
  "signature": "sha256:cc4f4afe657289742f183b3bb04628b7f033aebf202d3084bfdae52a9419d355"
 },
 "nbformat": 3,
 "nbformat_minor": 0,
 "worksheets": [
  {
   "cells": [
    {
     "cell_type": "code",
     "collapsed": false,
     "input": [
      "import pandas as pd\n",
      "import numpy as np\n",
      "%matplotlib inline\n",
      "from collections import Counter\n",
      "import matplotlib.pyplot as plt"
     ],
     "language": "python",
     "metadata": {},
     "outputs": [],
     "prompt_number": 79
    },
    {
     "cell_type": "code",
     "collapsed": false,
     "input": [
      "data = pd.read_csv('Parking_meters.csv')"
     ],
     "language": "python",
     "metadata": {},
     "outputs": [],
     "prompt_number": 23
    },
    {
     "cell_type": "code",
     "collapsed": false,
     "input": [
      "print \"Total meters in the data set = %i\" %len(data)\n",
      "\n",
      "smart = data[data['SMART_METE'] == 'Y']\n",
      "print \"Total smart meters in the data set = %i\" %len(smart)\n",
      "\n",
      "smart_geary = smart[smart['STREETNAME'] == 'GEARY BLVD']\n",
      "print \"Number of smart meters on Geary Blvd = %i\" %len(smart_geary)"
     ],
     "language": "python",
     "metadata": {},
     "outputs": [
      {
       "output_type": "stream",
       "stream": "stdout",
       "text": [
        "Total meters in the data set = 29253\n",
        "Total smart meters in the data set = 8013"
       ]
      },
      {
       "output_type": "stream",
       "stream": "stdout",
       "text": [
        "\n",
        "Number of smart meters on Geary Blvd = 163\n"
       ]
      }
     ],
     "prompt_number": 24
    },
    {
     "cell_type": "code",
     "collapsed": false,
     "input": [
      "data1 = data\n",
      "data1['POST_ID_COUNT'] = 1\n",
      "by_streetname = data1.groupby(['STREETNAME'],as_index=False).sum()\n",
      "print len(by_streetname)\n",
      "by_streetname[:5]"
     ],
     "language": "python",
     "metadata": {},
     "outputs": [
      {
       "output_type": "stream",
       "stream": "stdout",
       "text": [
        "297\n"
       ]
      },
      {
       "html": [
        "<div style=\"max-height:1000px;max-width:1500px;overflow:auto;\">\n",
        "<table border=\"1\" class=\"dataframe\">\n",
        "  <thead>\n",
        "    <tr style=\"text-align: right;\">\n",
        "      <th></th>\n",
        "      <th>STREETNAME</th>\n",
        "      <th>MS_SPACEID</th>\n",
        "      <th>OSP_ID</th>\n",
        "      <th>STREET_NUM</th>\n",
        "      <th>STREET_SEG</th>\n",
        "      <th>POST_ID_COUNT</th>\n",
        "    </tr>\n",
        "  </thead>\n",
        "  <tbody>\n",
        "    <tr>\n",
        "      <th>0</th>\n",
        "      <td>  01ST ST</td>\n",
        "      <td>   0</td>\n",
        "      <td> 0</td>\n",
        "      <td>  22585</td>\n",
        "      <td> 13221014</td>\n",
        "      <td> 124</td>\n",
        "    </tr>\n",
        "    <tr>\n",
        "      <th>1</th>\n",
        "      <td> 02ND AVE</td>\n",
        "      <td>   0</td>\n",
        "      <td> 0</td>\n",
        "      <td>   5848</td>\n",
        "      <td>  1833000</td>\n",
        "      <td>  15</td>\n",
        "    </tr>\n",
        "    <tr>\n",
        "      <th>2</th>\n",
        "      <td>  02ND ST</td>\n",
        "      <td> 207</td>\n",
        "      <td> 0</td>\n",
        "      <td>  98224</td>\n",
        "      <td> 38092000</td>\n",
        "      <td> 274</td>\n",
        "    </tr>\n",
        "    <tr>\n",
        "      <th>3</th>\n",
        "      <td> 03RD AVE</td>\n",
        "      <td>   0</td>\n",
        "      <td> 0</td>\n",
        "      <td>  18834</td>\n",
        "      <td>  4230000</td>\n",
        "      <td>  27</td>\n",
        "    </tr>\n",
        "    <tr>\n",
        "      <th>4</th>\n",
        "      <td>  03RD ST</td>\n",
        "      <td>   0</td>\n",
        "      <td> 0</td>\n",
        "      <td> 560684</td>\n",
        "      <td> 54404596</td>\n",
        "      <td> 291</td>\n",
        "    </tr>\n",
        "  </tbody>\n",
        "</table>\n",
        "</div>"
       ],
       "metadata": {},
       "output_type": "pyout",
       "prompt_number": 25,
       "text": [
        "  STREETNAME  MS_SPACEID  OSP_ID  STREET_NUM  STREET_SEG  POST_ID_COUNT\n",
        "0    01ST ST           0       0       22585    13221014            124\n",
        "1   02ND AVE           0       0        5848     1833000             15\n",
        "2    02ND ST         207       0       98224    38092000            274\n",
        "3   03RD AVE           0       0       18834     4230000             27\n",
        "4    03RD ST           0       0      560684    54404596            291"
       ]
      }
     ],
     "prompt_number": 25
    },
    {
     "cell_type": "code",
     "collapsed": false,
     "input": [
      "Counter(data['STREETNAME']).most_common(5)"
     ],
     "language": "python",
     "metadata": {},
     "outputs": [
      {
       "metadata": {},
       "output_type": "pyout",
       "prompt_number": 26,
       "text": [
        "[('MISSION ST', 1432),\n",
        " ('GEARY BLVD', 899),\n",
        " ('HOWARD ST', 581),\n",
        " ('VALENCIA ST', 565),\n",
        " ('POST ST', 506)]"
       ]
      }
     ],
     "prompt_number": 26
    },
    {
     "cell_type": "code",
     "collapsed": false,
     "input": [
      "print by_streetname['POST_ID_COUNT'].mean()\n",
      "print by_streetname['POST_ID_COUNT'].median()\n",
      "print by_streetname['POST_ID_COUNT'].max()\n",
      "print by_streetname['POST_ID_COUNT'].min()"
     ],
     "language": "python",
     "metadata": {},
     "outputs": [
      {
       "output_type": "stream",
       "stream": "stdout",
       "text": [
        "98.4949494949\n",
        "39.0"
       ]
      },
      {
       "output_type": "stream",
       "stream": "stdout",
       "text": [
        "\n",
        "1432"
       ]
      },
      {
       "output_type": "stream",
       "stream": "stdout",
       "text": [
        "\n",
        "1\n"
       ]
      }
     ],
     "prompt_number": 65
    },
    {
     "cell_type": "code",
     "collapsed": false,
     "input": [
      "data[:5]"
     ],
     "language": "python",
     "metadata": {},
     "outputs": [
      {
       "html": [
        "<div style=\"max-height:1000px;max-width:1500px;overflow:auto;\">\n",
        "<table border=\"1\" class=\"dataframe\">\n",
        "  <thead>\n",
        "    <tr style=\"text-align: right;\">\n",
        "      <th></th>\n",
        "      <th>POST_ID</th>\n",
        "      <th>MS_ID</th>\n",
        "      <th>MS_SPACEID</th>\n",
        "      <th>CAP_COLOR</th>\n",
        "      <th>METER_TYPE</th>\n",
        "      <th>SMART_METE</th>\n",
        "      <th>ACTIVESENS</th>\n",
        "      <th>JURISDICTI</th>\n",
        "      <th>ON_OFF_STR</th>\n",
        "      <th>OSP_ID</th>\n",
        "      <th>STREET_NUM</th>\n",
        "      <th>STREETNAME</th>\n",
        "      <th>STREET_SEG</th>\n",
        "      <th>RATEAREA</th>\n",
        "      <th>SFPARKAREA</th>\n",
        "      <th>LOCATION</th>\n",
        "      <th>POST_ID_COUNT</th>\n",
        "    </tr>\n",
        "  </thead>\n",
        "  <tbody>\n",
        "    <tr>\n",
        "      <th>0</th>\n",
        "      <td> 354-20160</td>\n",
        "      <td> -</td>\n",
        "      <td> 0</td>\n",
        "      <td>   Grey</td>\n",
        "      <td> SS</td>\n",
        "      <td> Y</td>\n",
        "      <td> Y</td>\n",
        "      <td> SFMTA</td>\n",
        "      <td> ON</td>\n",
        "      <td> 0</td>\n",
        "      <td> 2016</td>\n",
        "      <td>  CHESTNUT ST</td>\n",
        "      <td> 3977000</td>\n",
        "      <td> Area 5</td>\n",
        "      <td> Marina</td>\n",
        "      <td>  (37.800798, -122.43687)</td>\n",
        "      <td> 1</td>\n",
        "    </tr>\n",
        "    <tr>\n",
        "      <th>1</th>\n",
        "      <td> 354-21030</td>\n",
        "      <td> -</td>\n",
        "      <td> 0</td>\n",
        "      <td>  Green</td>\n",
        "      <td> SS</td>\n",
        "      <td> Y</td>\n",
        "      <td> Y</td>\n",
        "      <td> SFMTA</td>\n",
        "      <td> ON</td>\n",
        "      <td> 0</td>\n",
        "      <td> 2103</td>\n",
        "      <td>  CHESTNUT ST</td>\n",
        "      <td> 3979000</td>\n",
        "      <td> Area 5</td>\n",
        "      <td> Marina</td>\n",
        "      <td> (37.800522, -122.438067)</td>\n",
        "      <td> 1</td>\n",
        "    </tr>\n",
        "    <tr>\n",
        "      <th>2</th>\n",
        "      <td> 354-21160</td>\n",
        "      <td> -</td>\n",
        "      <td> 0</td>\n",
        "      <td> Yellow</td>\n",
        "      <td> SS</td>\n",
        "      <td> Y</td>\n",
        "      <td> Y</td>\n",
        "      <td> SFMTA</td>\n",
        "      <td> ON</td>\n",
        "      <td> 0</td>\n",
        "      <td> 2116</td>\n",
        "      <td>  CHESTNUT ST</td>\n",
        "      <td> 3979000</td>\n",
        "      <td> Area 5</td>\n",
        "      <td> Marina</td>\n",
        "      <td> (37.800589, -122.438525)</td>\n",
        "      <td> 1</td>\n",
        "    </tr>\n",
        "    <tr>\n",
        "      <th>3</th>\n",
        "      <td> 363-05250</td>\n",
        "      <td> -</td>\n",
        "      <td> 0</td>\n",
        "      <td>   Grey</td>\n",
        "      <td> SS</td>\n",
        "      <td> N</td>\n",
        "      <td> N</td>\n",
        "      <td> SFMTA</td>\n",
        "      <td> ON</td>\n",
        "      <td> 0</td>\n",
        "      <td>  525</td>\n",
        "      <td> COLUMBUS AVE</td>\n",
        "      <td> 4295000</td>\n",
        "      <td> Area 3</td>\n",
        "      <td>       </td>\n",
        "      <td> (37.800053, -122.409985)</td>\n",
        "      <td> 1</td>\n",
        "    </tr>\n",
        "    <tr>\n",
        "      <th>4</th>\n",
        "      <td> 363-05270</td>\n",
        "      <td> -</td>\n",
        "      <td> 0</td>\n",
        "      <td>   Grey</td>\n",
        "      <td> SS</td>\n",
        "      <td> N</td>\n",
        "      <td> N</td>\n",
        "      <td> SFMTA</td>\n",
        "      <td> ON</td>\n",
        "      <td> 0</td>\n",
        "      <td>  527</td>\n",
        "      <td> COLUMBUS AVE</td>\n",
        "      <td> 4295000</td>\n",
        "      <td> Area 3</td>\n",
        "      <td>       </td>\n",
        "      <td> (37.800088, -122.410035)</td>\n",
        "      <td> 1</td>\n",
        "    </tr>\n",
        "  </tbody>\n",
        "</table>\n",
        "</div>"
       ],
       "metadata": {},
       "output_type": "pyout",
       "prompt_number": 74,
       "text": [
        "     POST_ID MS_ID  MS_SPACEID CAP_COLOR METER_TYPE SMART_METE ACTIVESENS  \\\n",
        "0  354-20160     -           0      Grey         SS          Y          Y   \n",
        "1  354-21030     -           0     Green         SS          Y          Y   \n",
        "2  354-21160     -           0    Yellow         SS          Y          Y   \n",
        "3  363-05250     -           0      Grey         SS          N          N   \n",
        "4  363-05270     -           0      Grey         SS          N          N   \n",
        "\n",
        "  JURISDICTI ON_OFF_STR  OSP_ID  STREET_NUM    STREETNAME  STREET_SEG  \\\n",
        "0      SFMTA         ON       0        2016   CHESTNUT ST     3977000   \n",
        "1      SFMTA         ON       0        2103   CHESTNUT ST     3979000   \n",
        "2      SFMTA         ON       0        2116   CHESTNUT ST     3979000   \n",
        "3      SFMTA         ON       0         525  COLUMBUS AVE     4295000   \n",
        "4      SFMTA         ON       0         527  COLUMBUS AVE     4295000   \n",
        "\n",
        "  RATEAREA SFPARKAREA                  LOCATION  POST_ID_COUNT  \n",
        "0   Area 5     Marina   (37.800798, -122.43687)              1  \n",
        "1   Area 5     Marina  (37.800522, -122.438067)              1  \n",
        "2   Area 5     Marina  (37.800589, -122.438525)              1  \n",
        "3   Area 3             (37.800053, -122.409985)              1  \n",
        "4   Area 3             (37.800088, -122.410035)              1  "
       ]
      }
     ],
     "prompt_number": 74
    },
    {
     "cell_type": "code",
     "collapsed": false,
     "input": [
      "q8 = pd.read_csv(\"Pub Inventory Analyst Sim - Q 8 to 11 (2).csv\", header=-1)\n",
      "q8[:5]"
     ],
     "language": "python",
     "metadata": {},
     "outputs": [
      {
       "html": [
        "<div style=\"max-height:1000px;max-width:1500px;overflow:auto;\">\n",
        "<table border=\"1\" class=\"dataframe\">\n",
        "  <thead>\n",
        "    <tr style=\"text-align: right;\">\n",
        "      <th></th>\n",
        "      <th>0</th>\n",
        "    </tr>\n",
        "  </thead>\n",
        "  <tbody>\n",
        "    <tr>\n",
        "      <th>0</th>\n",
        "      <td>     www.cnn.com*</td>\n",
        "    </tr>\n",
        "    <tr>\n",
        "      <th>1</th>\n",
        "      <td>  www.youtube.com</td>\n",
        "    </tr>\n",
        "    <tr>\n",
        "      <th>2</th>\n",
        "      <td>      www.wsj.com</td>\n",
        "    </tr>\n",
        "    <tr>\n",
        "      <th>3</th>\n",
        "      <td> www.foxnews.com*</td>\n",
        "    </tr>\n",
        "    <tr>\n",
        "      <th>4</th>\n",
        "      <td>     www.espn.com</td>\n",
        "    </tr>\n",
        "  </tbody>\n",
        "</table>\n",
        "</div>"
       ],
       "metadata": {},
       "output_type": "pyout",
       "prompt_number": 66,
       "text": [
        "                  0\n",
        "0      www.cnn.com*\n",
        "1   www.youtube.com\n",
        "2       www.wsj.com\n",
        "3  www.foxnews.com*\n",
        "4      www.espn.com"
       ]
      }
     ],
     "prompt_number": 66
    },
    {
     "cell_type": "code",
     "collapsed": false,
     "input": [
      "arr = []\n",
      "for i in q8[0]:\n",
      "    if i[-1:] == '*':\n",
      "        arr.append(i[:-1])\n",
      "    else:\n",
      "        arr.append(i)"
     ],
     "language": "python",
     "metadata": {},
     "outputs": [],
     "prompt_number": 67
    },
    {
     "cell_type": "code",
     "collapsed": false,
     "input": [
      "q8[0] = arr"
     ],
     "language": "python",
     "metadata": {},
     "outputs": [],
     "prompt_number": 68
    },
    {
     "cell_type": "code",
     "collapsed": false,
     "input": [
      "q8[:5]"
     ],
     "language": "python",
     "metadata": {},
     "outputs": [
      {
       "html": [
        "<div style=\"max-height:1000px;max-width:1500px;overflow:auto;\">\n",
        "<table border=\"1\" class=\"dataframe\">\n",
        "  <thead>\n",
        "    <tr style=\"text-align: right;\">\n",
        "      <th></th>\n",
        "      <th>0</th>\n",
        "    </tr>\n",
        "  </thead>\n",
        "  <tbody>\n",
        "    <tr>\n",
        "      <th>0</th>\n",
        "      <td>     www.cnn.com</td>\n",
        "    </tr>\n",
        "    <tr>\n",
        "      <th>1</th>\n",
        "      <td> www.youtube.com</td>\n",
        "    </tr>\n",
        "    <tr>\n",
        "      <th>2</th>\n",
        "      <td>     www.wsj.com</td>\n",
        "    </tr>\n",
        "    <tr>\n",
        "      <th>3</th>\n",
        "      <td> www.foxnews.com</td>\n",
        "    </tr>\n",
        "    <tr>\n",
        "      <th>4</th>\n",
        "      <td>    www.espn.com</td>\n",
        "    </tr>\n",
        "  </tbody>\n",
        "</table>\n",
        "</div>"
       ],
       "metadata": {},
       "output_type": "pyout",
       "prompt_number": 69,
       "text": [
        "                 0\n",
        "0      www.cnn.com\n",
        "1  www.youtube.com\n",
        "2      www.wsj.com\n",
        "3  www.foxnews.com\n",
        "4     www.espn.com"
       ]
      }
     ],
     "prompt_number": 69
    },
    {
     "cell_type": "code",
     "collapsed": false,
     "input": [
      "#Only run this if you want to create a new csv with the set of links free from asterix\n",
      "q8.to_excel(\"no_asterix.xlsx\")"
     ],
     "language": "python",
     "metadata": {},
     "outputs": [],
     "prompt_number": 73
    },
    {
     "cell_type": "code",
     "collapsed": false,
     "input": [
      "q9a = pd.read_csv(\"q9a.csv\")\n",
      "q9b = pd.read_csv(\"q9b.csv\")\n",
      "merged = pd.merge(q9a,q9b,how=\"inner\",on=\"Unnamed: 0\")\n",
      "m = pd.DataFrame()\n",
      "m[\"Domain\"] = merged[\"Unnamed: 0\"]\n",
      "m[\"Stock Price\"] = merged[\"Stock Price_x\"]\n",
      "m[\"Volume\"] = merged[\"Volume_x\"]\n",
      "m[\"EPS\"] = merged[\"EPS_x\"]\n",
      "m"
     ],
     "language": "python",
     "metadata": {},
     "outputs": [
      {
       "html": [
        "<div style=\"max-height:1000px;max-width:1500px;overflow:auto;\">\n",
        "<table border=\"1\" class=\"dataframe\">\n",
        "  <thead>\n",
        "    <tr style=\"text-align: right;\">\n",
        "      <th></th>\n",
        "      <th>Domain</th>\n",
        "      <th>Stock Price</th>\n",
        "      <th>Volume</th>\n",
        "      <th>EPS</th>\n",
        "    </tr>\n",
        "  </thead>\n",
        "  <tbody>\n",
        "    <tr>\n",
        "      <th>0</th>\n",
        "      <td>        Yahoo</td>\n",
        "      <td> $315.97</td>\n",
        "      <td>  14,645,959 </td>\n",
        "      <td> -$2.07</td>\n",
        "    </tr>\n",
        "    <tr>\n",
        "      <th>1</th>\n",
        "      <td>       Google</td>\n",
        "      <td> $211.06</td>\n",
        "      <td>  11,444,843 </td>\n",
        "      <td>  $0.00</td>\n",
        "    </tr>\n",
        "    <tr>\n",
        "      <th>2</th>\n",
        "      <td>       Kitara</td>\n",
        "      <td> $265.36</td>\n",
        "      <td>  25,870,769 </td>\n",
        "      <td>  $0.00</td>\n",
        "    </tr>\n",
        "    <tr>\n",
        "      <th>3</th>\n",
        "      <td>          CNN</td>\n",
        "      <td> $296.22</td>\n",
        "      <td>   7,023,282 </td>\n",
        "      <td>  $3.10</td>\n",
        "    </tr>\n",
        "    <tr>\n",
        "      <th>4</th>\n",
        "      <td> Perez Hilton</td>\n",
        "      <td> $156.75</td>\n",
        "      <td>  27,186,476 </td>\n",
        "      <td> -$2.07</td>\n",
        "    </tr>\n",
        "    <tr>\n",
        "      <th>5</th>\n",
        "      <td>         ESPN</td>\n",
        "      <td> $320.90</td>\n",
        "      <td>   9,819,270 </td>\n",
        "      <td> -$2.07</td>\n",
        "    </tr>\n",
        "    <tr>\n",
        "      <th>6</th>\n",
        "      <td>          WSJ</td>\n",
        "      <td> $104.91</td>\n",
        "      <td>  23,471,876 </td>\n",
        "      <td>  $3.10</td>\n",
        "    </tr>\n",
        "    <tr>\n",
        "      <th>7</th>\n",
        "      <td>     Guardian</td>\n",
        "      <td>  $60.48</td>\n",
        "      <td>   5,934,288 </td>\n",
        "      <td>  $0.00</td>\n",
        "    </tr>\n",
        "    <tr>\n",
        "      <th>8</th>\n",
        "      <td>     Facebook</td>\n",
        "      <td>  $33.32</td>\n",
        "      <td>  25,715,165 </td>\n",
        "      <td> -$1.03</td>\n",
        "    </tr>\n",
        "    <tr>\n",
        "      <th>9</th>\n",
        "      <td>      Twitter</td>\n",
        "      <td> $134.53</td>\n",
        "      <td>  22,060,402 </td>\n",
        "      <td>  $2.07</td>\n",
        "    </tr>\n",
        "  </tbody>\n",
        "</table>\n",
        "</div>"
       ],
       "metadata": {},
       "output_type": "pyout",
       "prompt_number": 70,
       "text": [
        "         Domain Stock Price        Volume     EPS\n",
        "0         Yahoo     $315.97   14,645,959   -$2.07\n",
        "1        Google     $211.06   11,444,843    $0.00\n",
        "2        Kitara     $265.36   25,870,769    $0.00\n",
        "3           CNN     $296.22    7,023,282    $3.10\n",
        "4  Perez Hilton     $156.75   27,186,476   -$2.07\n",
        "5          ESPN     $320.90    9,819,270   -$2.07\n",
        "6           WSJ     $104.91   23,471,876    $3.10\n",
        "7      Guardian      $60.48    5,934,288    $0.00\n",
        "8      Facebook      $33.32   25,715,165   -$1.03\n",
        "9       Twitter     $134.53   22,060,402    $2.07"
       ]
      }
     ],
     "prompt_number": 70
    },
    {
     "cell_type": "code",
     "collapsed": false,
     "input": [
      "# Only run if you want to create a csv with the merged dataframe\n",
      "#m.to_csv(\"Q9 Merged.csv\")"
     ],
     "language": "python",
     "metadata": {},
     "outputs": [],
     "prompt_number": 44
    },
    {
     "cell_type": "code",
     "collapsed": false,
     "input": [
      "q10 = pd.read_csv(\"Pub Inventory Analyst Sim - Q 8 to 11 (2).csv\", header=-1)\n",
      "print \"Number of elements in the web url array is %i \" %len(q10)"
     ],
     "language": "python",
     "metadata": {},
     "outputs": [
      {
       "output_type": "stream",
       "stream": "stdout",
       "text": [
        "Number of elements in the web url array is 5760 \n"
       ]
      }
     ],
     "prompt_number": 64
    },
    {
     "cell_type": "code",
     "collapsed": false,
     "input": [
      "Counter(q10[0])"
     ],
     "language": "python",
     "metadata": {},
     "outputs": [
      {
       "metadata": {},
       "output_type": "pyout",
       "prompt_number": 52,
       "text": [
        "Counter({'www.theguardian.co.uk*': 507, 'www.foxnews.com': 496, 'www.youtube.com*': 491, 'www.espn.com*': 490, 'www.cnn.com': 485, 'www.wsj.com*': 484, 'www.wsj.com': 476, 'www.cnn.com*': 475, 'www.espn.com': 470, 'www.youtube.com': 469, 'www.foxnews.com*': 464, 'www.theguardian.co.uk': 453})"
       ]
      }
     ],
     "prompt_number": 52
    },
    {
     "cell_type": "code",
     "collapsed": false,
     "input": [
      "print \"Number of instances of 'www.espn.com*' is 490\""
     ],
     "language": "python",
     "metadata": {},
     "outputs": [
      {
       "output_type": "stream",
       "stream": "stdout",
       "text": [
        "Number of instances of 'www.espn.com*' is 490\n"
       ]
      }
     ],
     "prompt_number": 55
    }
   ],
   "metadata": {}
  }
 ]
}