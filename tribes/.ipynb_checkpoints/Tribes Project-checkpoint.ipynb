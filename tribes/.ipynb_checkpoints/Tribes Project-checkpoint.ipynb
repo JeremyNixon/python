{
 "metadata": {
  "name": "",
  "signature": "sha256:57b8ab0e0b54360782c25dd62e587cd0ffa85da6035d978e833afc18e0f683d9"
 },
 "nbformat": 3,
 "nbformat_minor": 0,
 "worksheets": [
  {
   "cells": [
    {
     "cell_type": "code",
     "collapsed": false,
     "input": [
      "%matplotlib inline\n",
      "import numpy as np\n",
      "import pandas as pd\n",
      "from collections import Counter "
     ],
     "language": "python",
     "metadata": {},
     "outputs": [],
     "prompt_number": 14
    },
    {
     "cell_type": "code",
     "collapsed": false,
     "input": [
      "data = pd.read_csv('Parking_meters.csv')"
     ],
     "language": "python",
     "metadata": {},
     "outputs": [],
     "prompt_number": 15
    },
    {
     "cell_type": "code",
     "collapsed": false,
     "input": [
      "data[:5]"
     ],
     "language": "python",
     "metadata": {},
     "outputs": [
      {
       "html": [
        "<div style=\"max-height:1000px;max-width:1500px;overflow:auto;\">\n",
        "<table border=\"1\" class=\"dataframe\">\n",
        "  <thead>\n",
        "    <tr style=\"text-align: right;\">\n",
        "      <th></th>\n",
        "      <th>POST_ID</th>\n",
        "      <th>MS_ID</th>\n",
        "      <th>MS_SPACEID</th>\n",
        "      <th>CAP_COLOR</th>\n",
        "      <th>METER_TYPE</th>\n",
        "      <th>SMART_METE</th>\n",
        "      <th>ACTIVESENS</th>\n",
        "      <th>JURISDICTI</th>\n",
        "      <th>ON_OFF_STR</th>\n",
        "      <th>OSP_ID</th>\n",
        "      <th>STREET_NUM</th>\n",
        "      <th>STREETNAME</th>\n",
        "      <th>STREET_SEG</th>\n",
        "      <th>RATEAREA</th>\n",
        "      <th>SFPARKAREA</th>\n",
        "      <th>LOCATION</th>\n",
        "    </tr>\n",
        "  </thead>\n",
        "  <tbody>\n",
        "    <tr>\n",
        "      <th>0</th>\n",
        "      <td> 354-20160</td>\n",
        "      <td> -</td>\n",
        "      <td> 0</td>\n",
        "      <td>   Grey</td>\n",
        "      <td> SS</td>\n",
        "      <td> Y</td>\n",
        "      <td> Y</td>\n",
        "      <td> SFMTA</td>\n",
        "      <td> ON</td>\n",
        "      <td> 0</td>\n",
        "      <td> 2016</td>\n",
        "      <td>  CHESTNUT ST</td>\n",
        "      <td> 3977000</td>\n",
        "      <td> Area 5</td>\n",
        "      <td> Marina</td>\n",
        "      <td>  (37.800798, -122.43687)</td>\n",
        "    </tr>\n",
        "    <tr>\n",
        "      <th>1</th>\n",
        "      <td> 354-21030</td>\n",
        "      <td> -</td>\n",
        "      <td> 0</td>\n",
        "      <td>  Green</td>\n",
        "      <td> SS</td>\n",
        "      <td> Y</td>\n",
        "      <td> Y</td>\n",
        "      <td> SFMTA</td>\n",
        "      <td> ON</td>\n",
        "      <td> 0</td>\n",
        "      <td> 2103</td>\n",
        "      <td>  CHESTNUT ST</td>\n",
        "      <td> 3979000</td>\n",
        "      <td> Area 5</td>\n",
        "      <td> Marina</td>\n",
        "      <td> (37.800522, -122.438067)</td>\n",
        "    </tr>\n",
        "    <tr>\n",
        "      <th>2</th>\n",
        "      <td> 354-21160</td>\n",
        "      <td> -</td>\n",
        "      <td> 0</td>\n",
        "      <td> Yellow</td>\n",
        "      <td> SS</td>\n",
        "      <td> Y</td>\n",
        "      <td> Y</td>\n",
        "      <td> SFMTA</td>\n",
        "      <td> ON</td>\n",
        "      <td> 0</td>\n",
        "      <td> 2116</td>\n",
        "      <td>  CHESTNUT ST</td>\n",
        "      <td> 3979000</td>\n",
        "      <td> Area 5</td>\n",
        "      <td> Marina</td>\n",
        "      <td> (37.800589, -122.438525)</td>\n",
        "    </tr>\n",
        "    <tr>\n",
        "      <th>3</th>\n",
        "      <td> 363-05250</td>\n",
        "      <td> -</td>\n",
        "      <td> 0</td>\n",
        "      <td>   Grey</td>\n",
        "      <td> SS</td>\n",
        "      <td> N</td>\n",
        "      <td> N</td>\n",
        "      <td> SFMTA</td>\n",
        "      <td> ON</td>\n",
        "      <td> 0</td>\n",
        "      <td>  525</td>\n",
        "      <td> COLUMBUS AVE</td>\n",
        "      <td> 4295000</td>\n",
        "      <td> Area 3</td>\n",
        "      <td>       </td>\n",
        "      <td> (37.800053, -122.409985)</td>\n",
        "    </tr>\n",
        "    <tr>\n",
        "      <th>4</th>\n",
        "      <td> 363-05270</td>\n",
        "      <td> -</td>\n",
        "      <td> 0</td>\n",
        "      <td>   Grey</td>\n",
        "      <td> SS</td>\n",
        "      <td> N</td>\n",
        "      <td> N</td>\n",
        "      <td> SFMTA</td>\n",
        "      <td> ON</td>\n",
        "      <td> 0</td>\n",
        "      <td>  527</td>\n",
        "      <td> COLUMBUS AVE</td>\n",
        "      <td> 4295000</td>\n",
        "      <td> Area 3</td>\n",
        "      <td>       </td>\n",
        "      <td> (37.800088, -122.410035)</td>\n",
        "    </tr>\n",
        "  </tbody>\n",
        "</table>\n",
        "</div>"
       ],
       "metadata": {},
       "output_type": "pyout",
       "prompt_number": 16,
       "text": [
        "     POST_ID MS_ID  MS_SPACEID CAP_COLOR METER_TYPE SMART_METE ACTIVESENS  \\\n",
        "0  354-20160     -           0      Grey         SS          Y          Y   \n",
        "1  354-21030     -           0     Green         SS          Y          Y   \n",
        "2  354-21160     -           0    Yellow         SS          Y          Y   \n",
        "3  363-05250     -           0      Grey         SS          N          N   \n",
        "4  363-05270     -           0      Grey         SS          N          N   \n",
        "\n",
        "  JURISDICTI ON_OFF_STR  OSP_ID  STREET_NUM    STREETNAME  STREET_SEG  \\\n",
        "0      SFMTA         ON       0        2016   CHESTNUT ST     3977000   \n",
        "1      SFMTA         ON       0        2103   CHESTNUT ST     3979000   \n",
        "2      SFMTA         ON       0        2116   CHESTNUT ST     3979000   \n",
        "3      SFMTA         ON       0         525  COLUMBUS AVE     4295000   \n",
        "4      SFMTA         ON       0         527  COLUMBUS AVE     4295000   \n",
        "\n",
        "  RATEAREA SFPARKAREA                  LOCATION  \n",
        "0   Area 5     Marina   (37.800798, -122.43687)  \n",
        "1   Area 5     Marina  (37.800522, -122.438067)  \n",
        "2   Area 5     Marina  (37.800589, -122.438525)  \n",
        "3   Area 3             (37.800053, -122.409985)  \n",
        "4   Area 3             (37.800088, -122.410035)  "
       ]
      }
     ],
     "prompt_number": 16
    },
    {
     "cell_type": "code",
     "collapsed": false,
     "input": [
      "print \"Total meters in the data set = %i\" %len(data)\n",
      "\n",
      "smart = data[data['SMART_METE'] == 'Y']\n",
      "print \"Total smart meters in the data set = %i\" %len(smart)\n",
      "\n",
      "smart_geary = smart[smart['STREETNAME'] == 'GEARY BLVD']\n",
      "print \"Number of smart meters on Geary Blvd = %i\" %len(smart_geary)\n"
     ],
     "language": "python",
     "metadata": {},
     "outputs": [
      {
       "output_type": "stream",
       "stream": "stdout",
       "text": [
        "Total meters in the data set = 29253\n",
        "Total smart meters in the data set = 8013"
       ]
      },
      {
       "output_type": "stream",
       "stream": "stdout",
       "text": [
        "\n",
        "Number of smart meters on Geary Blvd = 163\n"
       ]
      }
     ],
     "prompt_number": 6
    },
    {
     "cell_type": "code",
     "collapsed": false,
     "input": [
      "data1 = data\n",
      "data1['POST_ID_COUNT'] = 1\n",
      "by_streetname = data1.groupby(['STREETNAME'],as_index=False).sum()\n",
      "print len(by_streetname)\n",
      "by_streetname[:5]"
     ],
     "language": "python",
     "metadata": {},
     "outputs": [
      {
       "output_type": "stream",
       "stream": "stdout",
       "text": [
        "297\n"
       ]
      },
      {
       "html": [
        "<div style=\"max-height:1000px;max-width:1500px;overflow:auto;\">\n",
        "<table border=\"1\" class=\"dataframe\">\n",
        "  <thead>\n",
        "    <tr style=\"text-align: right;\">\n",
        "      <th></th>\n",
        "      <th>STREETNAME</th>\n",
        "      <th>MS_SPACEID</th>\n",
        "      <th>OSP_ID</th>\n",
        "      <th>STREET_NUM</th>\n",
        "      <th>STREET_SEG</th>\n",
        "      <th>POST_ID_COUNT</th>\n",
        "    </tr>\n",
        "  </thead>\n",
        "  <tbody>\n",
        "    <tr>\n",
        "      <th>0</th>\n",
        "      <td>  01ST ST</td>\n",
        "      <td>   0</td>\n",
        "      <td> 0</td>\n",
        "      <td>  22585</td>\n",
        "      <td> 13221014</td>\n",
        "      <td> 124</td>\n",
        "    </tr>\n",
        "    <tr>\n",
        "      <th>1</th>\n",
        "      <td> 02ND AVE</td>\n",
        "      <td>   0</td>\n",
        "      <td> 0</td>\n",
        "      <td>   5848</td>\n",
        "      <td>  1833000</td>\n",
        "      <td>  15</td>\n",
        "    </tr>\n",
        "    <tr>\n",
        "      <th>2</th>\n",
        "      <td>  02ND ST</td>\n",
        "      <td> 207</td>\n",
        "      <td> 0</td>\n",
        "      <td>  98224</td>\n",
        "      <td> 38092000</td>\n",
        "      <td> 274</td>\n",
        "    </tr>\n",
        "    <tr>\n",
        "      <th>3</th>\n",
        "      <td> 03RD AVE</td>\n",
        "      <td>   0</td>\n",
        "      <td> 0</td>\n",
        "      <td>  18834</td>\n",
        "      <td>  4230000</td>\n",
        "      <td>  27</td>\n",
        "    </tr>\n",
        "    <tr>\n",
        "      <th>4</th>\n",
        "      <td>  03RD ST</td>\n",
        "      <td>   0</td>\n",
        "      <td> 0</td>\n",
        "      <td> 560684</td>\n",
        "      <td> 54404596</td>\n",
        "      <td> 291</td>\n",
        "    </tr>\n",
        "  </tbody>\n",
        "</table>\n",
        "</div>"
       ],
       "metadata": {},
       "output_type": "pyout",
       "prompt_number": 10,
       "text": [
        "  STREETNAME  MS_SPACEID  OSP_ID  STREET_NUM  STREET_SEG  POST_ID_COUNT\n",
        "0    01ST ST           0       0       22585    13221014            124\n",
        "1   02ND AVE           0       0        5848     1833000             15\n",
        "2    02ND ST         207       0       98224    38092000            274\n",
        "3   03RD AVE           0       0       18834     4230000             27\n",
        "4    03RD ST           0       0      560684    54404596            291"
       ]
      }
     ],
     "prompt_number": 10
    },
    {
     "cell_type": "code",
     "collapsed": false,
     "input": [
      "Counter(data['STREETNAME']).most_common(5)"
     ],
     "language": "python",
     "metadata": {},
     "outputs": [
      {
       "metadata": {},
       "output_type": "pyout",
       "prompt_number": 15,
       "text": [
        "[('MISSION ST', 1432),\n",
        " ('GEARY BLVD', 899),\n",
        " ('HOWARD ST', 581),\n",
        " ('VALENCIA ST', 565),\n",
        " ('POST ST', 506)]"
       ]
      }
     ],
     "prompt_number": 15
    },
    {
     "cell_type": "code",
     "collapsed": false,
     "input": [
      " data['POST_ID'].count()"
     ],
     "language": "python",
     "metadata": {},
     "outputs": [
      {
       "metadata": {},
       "output_type": "pyout",
       "prompt_number": 20,
       "text": [
        "29253"
       ]
      }
     ],
     "prompt_number": 20
    },
    {
     "cell_type": "code",
     "collapsed": false,
     "input": [
      "print by_streetname['POST_ID_COUNT'].mean()\n",
      "print by_streetname['POST_ID_COUNT'].median()\n",
      "print by_streetname['POST_ID_COUNT'].max()\n",
      "print by_streetname['POST_ID_COUNT'].min()"
     ],
     "language": "python",
     "metadata": {},
     "outputs": [
      {
       "output_type": "stream",
       "stream": "stdout",
       "text": [
        "98.4949494949\n",
        "39.0\n",
        "1432\n",
        "1\n"
       ]
      }
     ],
     "prompt_number": 12
    },
    {
     "cell_type": "code",
     "collapsed": false,
     "input": [
      "ls"
     ],
     "language": "python",
     "metadata": {},
     "outputs": [
      {
       "output_type": "stream",
       "stream": "stdout",
       "text": [
        "Parking_meters.csv    Tribes Project.ipynb\r\n"
       ]
      }
     ],
     "prompt_number": 17
    },
    {
     "cell_type": "code",
     "collapsed": false,
     "input": [],
     "language": "python",
     "metadata": {},
     "outputs": []
    }
   ],
   "metadata": {}
  }
 ]
}