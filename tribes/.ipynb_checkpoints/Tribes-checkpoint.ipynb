{
 "metadata": {
  "name": "",
  "signature": "sha256:43cd352ecc9de6b654c732a3ca34e3f522f106dea9121307a15ee567d561f91e"
 },
 "nbformat": 3,
 "nbformat_minor": 0,
 "worksheets": []
}