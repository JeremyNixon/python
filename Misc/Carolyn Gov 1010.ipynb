{
 "metadata": {
  "name": "",
  "signature": "sha256:3f2207ca5a80ed54668e865820321f6947e2d9d5220499db6b9fdee4ecfedb0f"
 },
 "nbformat": 3,
 "nbformat_minor": 0,
 "worksheets": [
  {
   "cells": [
    {
     "cell_type": "code",
     "collapsed": false,
     "input": [
      "import pandas as pd\n",
      "import matplotlib.pyplot as plt\n",
      "%matplotlib inline"
     ],
     "language": "python",
     "metadata": {},
     "outputs": [],
     "prompt_number": 10
    },
    {
     "cell_type": "code",
     "collapsed": false,
     "input": [
      "ls"
     ],
     "language": "python",
     "metadata": {},
     "outputs": []
    },
    {
     "cell_type": "code",
     "collapsed": false,
     "input": [
      "data = pd.read_csv('IV_DV.csv')"
     ],
     "language": "python",
     "metadata": {},
     "outputs": [],
     "prompt_number": 5
    },
    {
     "cell_type": "code",
     "collapsed": false,
     "input": [
      "# data['IV1'] = philosophy, how much is it society's responsibility to protect you from sexual assault?\n",
      "# data['IV2'] = propensity to activism (all)\n",
      "# data['IV3'] = exposure how many of your friends have been assaulted. \n",
      "# data['DV'] = Level of sexual assault activism\n",
      "data.head()"
     ],
     "language": "python",
     "metadata": {},
     "outputs": [
      {
       "html": [
        "<div style=\"max-height:1000px;max-width:1500px;overflow:auto;\">\n",
        "<table border=\"1\" class=\"dataframe\">\n",
        "  <thead>\n",
        "    <tr style=\"text-align: right;\">\n",
        "      <th></th>\n",
        "      <th>IV1</th>\n",
        "      <th>IV2</th>\n",
        "      <th>IV3</th>\n",
        "      <th>Gender</th>\n",
        "      <th>DV</th>\n",
        "    </tr>\n",
        "  </thead>\n",
        "  <tbody>\n",
        "    <tr>\n",
        "      <th>0</th>\n",
        "      <td> 2.880952</td>\n",
        "      <td> 0.00</td>\n",
        "      <td> 1.920635</td>\n",
        "      <td> 1</td>\n",
        "      <td> 0.71</td>\n",
        "    </tr>\n",
        "    <tr>\n",
        "      <th>1</th>\n",
        "      <td> 2.928571</td>\n",
        "      <td> 0.25</td>\n",
        "      <td> 1.404762</td>\n",
        "      <td> 1</td>\n",
        "      <td> 0.71</td>\n",
        "    </tr>\n",
        "    <tr>\n",
        "      <th>2</th>\n",
        "      <td> 3.000000</td>\n",
        "      <td> 0.00</td>\n",
        "      <td> 2.039683</td>\n",
        "      <td> 0</td>\n",
        "      <td> 0.71</td>\n",
        "    </tr>\n",
        "    <tr>\n",
        "      <th>3</th>\n",
        "      <td> 3.500000</td>\n",
        "      <td> 0.00</td>\n",
        "      <td> 2.238095</td>\n",
        "      <td> 1</td>\n",
        "      <td> 0.71</td>\n",
        "    </tr>\n",
        "    <tr>\n",
        "      <th>4</th>\n",
        "      <td> 2.523810</td>\n",
        "      <td> 0.00</td>\n",
        "      <td> 1.571429</td>\n",
        "      <td> 0</td>\n",
        "      <td> 0.86</td>\n",
        "    </tr>\n",
        "  </tbody>\n",
        "</table>\n",
        "</div>"
       ],
       "metadata": {},
       "output_type": "pyout",
       "prompt_number": 8,
       "text": [
        "        IV1   IV2       IV3  Gender    DV\n",
        "0  2.880952  0.00  1.920635       1  0.71\n",
        "1  2.928571  0.25  1.404762       1  0.71\n",
        "2  3.000000  0.00  2.039683       0  0.71\n",
        "3  3.500000  0.00  2.238095       1  0.71\n",
        "4  2.523810  0.00  1.571429       0  0.86"
       ]
      }
     ],
     "prompt_number": 8
    },
    {
     "cell_type": "code",
     "collapsed": false,
     "input": [
      "plt.hist(data['IV1'], color = 'red', bins = 10)"
     ],
     "language": "python",
     "metadata": {},
     "outputs": [
      {
       "metadata": {},
       "output_type": "pyout",
       "prompt_number": 17,
       "text": [
        "(array([ 1.,  0.,  3.,  4.,  6.,  7.,  5.,  2.,  1.,  1.]),\n",
        " array([ 1.61904762,  1.9452381 ,  2.27142857,  2.59761905,  2.92380952,\n",
        "         3.25      ,  3.57619048,  3.90238095,  4.22857143,  4.5547619 ,\n",
        "         4.88095238]),\n",
        " <a list of 10 Patch objects>)"
       ]
      },
      {
       "metadata": {},
       "output_type": "display_data",
       "png": "[encoded data removed]",
       "text": [
        "<matplotlib.figure.Figure at 0x10b71a450>"
       ]
      }
     ],
     "prompt_number": 17
    },
    {
     "cell_type": "code",
     "collapsed": false,
     "input": [
      "plt.hist(data['IV2'], color = 'red', bins = 10)"
     ],
     "language": "python",
     "metadata": {},
     "outputs": [
      {
       "metadata": {},
       "output_type": "pyout",
       "prompt_number": 18,
       "text": [
        "(array([ 14.,   0.,   1.,   6.,   1.,   4.,   0.,   0.,   1.,   3.]),\n",
        " array([ 0.        ,  0.07142857,  0.14285714,  0.21428571,  0.28571429,\n",
        "         0.35714286,  0.42857143,  0.5       ,  0.57142857,  0.64285714,\n",
        "         0.71428571]),\n",
        " <a list of 10 Patch objects>)"
       ]
      },
      {
       "metadata": {},
       "output_type": "display_data",
       "png": "[encoded data removed]",
       "text": [
        "<matplotlib.figure.Figure at 0x10b905f90>"
       ]
      }
     ],
     "prompt_number": 18
    },
    {
     "cell_type": "code",
     "collapsed": false,
     "input": [
      "plt.hist(data['IV3'], color = 'red', bins = 10)"
     ],
     "language": "python",
     "metadata": {},
     "outputs": [
      {
       "metadata": {},
       "output_type": "pyout",
       "prompt_number": 19,
       "text": [
        "(array([ 3.,  2.,  0.,  3.,  6.,  8.,  3.,  2.,  2.,  1.]),\n",
        " array([ 0.28571429,  0.63253968,  0.97936508,  1.32619048,  1.67301587,\n",
        "         2.01984127,  2.36666667,  2.71349206,  3.06031746,  3.40714286,\n",
        "         3.75396825]),\n",
        " <a list of 10 Patch objects>)"
       ]
      },
      {
       "metadata": {},
       "output_type": "display_data",
       "png": "[encoded data removed]",
       "text": [
        "<matplotlib.figure.Figure at 0x10bec8450>"
       ]
      }
     ],
     "prompt_number": 19
    },
    {
     "cell_type": "code",
     "collapsed": false,
     "input": [
      "plt.hist(data['DV'], color = 'blue', bins = 10)"
     ],
     "language": "python",
     "metadata": {},
     "outputs": [
      {
       "metadata": {},
       "output_type": "pyout",
       "prompt_number": 21,
       "text": [
        "(array([ 11.,   6.,   4.,   1.,   2.,   1.,   1.,   2.,   0.,   2.]),\n",
        " array([ 0.71 ,  0.917,  1.124,  1.331,  1.538,  1.745,  1.952,  2.159,\n",
        "         2.366,  2.573,  2.78 ]),\n",
        " <a list of 10 Patch objects>)"
       ]
      },
      {
       "metadata": {},
       "output_type": "display_data",
       "png": "[encoded data removed]",
       "text": [
        "<matplotlib.figure.Figure at 0x10bf96090>"
       ]
      }
     ],
     "prompt_number": 21
    },
    {
     "cell_type": "code",
     "collapsed": false,
     "input": [
      "plt.scatter(data['IV2'], data['DV'])"
     ],
     "language": "python",
     "metadata": {},
     "outputs": [
      {
       "metadata": {},
       "output_type": "pyout",
       "prompt_number": 24,
       "text": [
        "<matplotlib.collections.PathCollection at 0x10d200d10>"
       ]
      },
      {
       "metadata": {},
       "output_type": "display_data",
       "png": "[encoded data removed]",
       "text": [
        "<matplotlib.figure.Figure at 0x10c367150>"
       ]
      }
     ],
     "prompt_number": 24
    },
    {
     "cell_type": "code",
     "collapsed": false,
     "input": [
      "plt.scatter(data['IV3'], data['DV'])"
     ],
     "language": "python",
     "metadata": {},
     "outputs": [
      {
       "metadata": {},
       "output_type": "pyout",
       "prompt_number": 23,
       "text": [
        "<matplotlib.collections.PathCollection at 0x10c6c9550>"
       ]
      },
      {
       "metadata": {},
       "output_type": "display_data",
       "png": "[encoded data removed]",
       "text": [
        "<matplotlib.figure.Figure at 0x10c018750>"
       ]
      }
     ],
     "prompt_number": 23
    },
    {
     "cell_type": "code",
     "collapsed": false,
     "input": [],
     "language": "python",
     "metadata": {},
     "outputs": []
    }
   ],
   "metadata": {}
  }
 ]
}