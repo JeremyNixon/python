{
 "metadata": {
  "celltoolbar": "Slideshow",
  "name": "",
  "signature": "sha256:d60003b6ebc55abdf36003231ff95692564e18fc13823e158850fd00008254e7"
 },
 "nbformat": 3,
 "nbformat_minor": 0,
 "worksheets": [
  {
   "cells": [
    {
     "cell_type": "code",
     "collapsed": false,
     "input": [
      "from IPython.core.display import HTML\n",
      "\n",
      "print(\"Setting custom CSS for the IPython Notebook\")\n",
      "styles = open('custom.css', 'r').read()\n",
      "HTML(styles)"
     ],
     "language": "python",
     "metadata": {
      "slideshow": {
       "slide_type": "skip"
      }
     },
     "outputs": [
      {
       "output_type": "stream",
       "stream": "stdout",
       "text": [
        "Setting custom CSS for the IPython Notebook\n"
       ]
      },
      {
       "ename": "IOError",
       "evalue": "[Errno 2] No such file or directory: 'custom.css'",
       "output_type": "pyerr",
       "traceback": [
        "\u001b[0;31m---------------------------------------------------------------------------\u001b[0m\n\u001b[0;31mIOError\u001b[0m                                   Traceback (most recent call last)",
        "\u001b[0;32m<ipython-input-78-00a793cefb80>\u001b[0m in \u001b[0;36m<module>\u001b[0;34m()\u001b[0m\n\u001b[1;32m      2\u001b[0m \u001b[0;34m\u001b[0m\u001b[0m\n\u001b[1;32m      3\u001b[0m \u001b[0;32mprint\u001b[0m\u001b[0;34m(\u001b[0m\u001b[0;34m\"Setting custom CSS for the IPython Notebook\"\u001b[0m\u001b[0;34m)\u001b[0m\u001b[0;34m\u001b[0m\u001b[0m\n\u001b[0;32m----> 4\u001b[0;31m \u001b[0mstyles\u001b[0m \u001b[0;34m=\u001b[0m \u001b[0mopen\u001b[0m\u001b[0;34m(\u001b[0m\u001b[0;34m'custom.css'\u001b[0m\u001b[0;34m,\u001b[0m \u001b[0;34m'r'\u001b[0m\u001b[0;34m)\u001b[0m\u001b[0;34m.\u001b[0m\u001b[0mread\u001b[0m\u001b[0;34m(\u001b[0m\u001b[0;34m)\u001b[0m\u001b[0;34m\u001b[0m\u001b[0m\n\u001b[0m\u001b[1;32m      5\u001b[0m \u001b[0mHTML\u001b[0m\u001b[0;34m(\u001b[0m\u001b[0mstyles\u001b[0m\u001b[0;34m)\u001b[0m\u001b[0;34m\u001b[0m\u001b[0m\n",
        "\u001b[0;31mIOError\u001b[0m: [Errno 2] No such file or directory: 'custom.css'"
       ]
      }
     ],
     "prompt_number": 78
    },
    {
     "cell_type": "code",
     "collapsed": false,
     "input": [
      "import scipy\n",
      "import numpy as np\n",
      "import matplotlib\n",
      "%matplotlib inline\n",
      "%pylab inline \n",
      "\n",
      "import matplotlib.pyplot as plt\n",
      "import seaborn as sns\n",
      "sns.set_context(\"talk\")\n",
      "sns.set_style(\"white\")\n",
      "\n",
      "import pandas as pd\n",
      "\n",
      "from matplotlib.colors import ListedColormap\n",
      "import sklearn\n",
      "import sklearn.decomposition\n",
      "import sklearn.neighbors\n",
      "import sklearn.datasets\n",
      "\n",
      "cmap_light = matplotlib.colors.ListedColormap(['#FFAAAA', '#AAFFAA', '#AAAAFF'])"
     ],
     "language": "python",
     "metadata": {
      "slideshow": {
       "slide_type": "skip"
      }
     },
     "outputs": []
    },
    {
     "cell_type": "code",
     "collapsed": false,
     "input": [
      "# generate plots for later\n",
      "\n",
      "# ML in 10 minutes plot\n",
      "#cheat to get the same \"random\" numbers\n",
      "np.random.seed(seed=99)\n",
      "\n",
      "# make some data up\n",
      "mean1 = [3,3]\n",
      "mean2 = [8,8]\n",
      "cov = [[1.0,0.0],[0.0,1.0]] \n",
      "\n",
      "#create some points\n",
      "x1 = np.random.multivariate_normal(mean1,cov,50)\n",
      "x2 = np.random.multivariate_normal(mean2,cov,50)\n",
      "\n",
      "plt.scatter(x1[:,0],x1[:,1], c='r', s=100)\n",
      "plt.scatter(x2[:,0],x2[:,1], c='b', s=100)\n",
      "\n",
      "plt.plot([2,10],[10,1], c='g', linewidth=5.0)\n",
      "\n",
      "plt.title(\"ML in One Picture\")\n",
      "plt.xlabel(\"feature 1\")\n",
      "plt.ylabel(\"feature 2\")\n",
      "\n",
      "fig_ml_in_10 = plt.gcf()"
     ],
     "language": "python",
     "metadata": {
      "slideshow": {
       "slide_type": "skip"
      }
     },
     "outputs": []
    },
    {
     "cell_type": "code",
     "collapsed": false,
     "input": [
      "# features matter plot\n",
      "#cheat to get the same \"random\" numbers\n",
      "np.random.seed(seed=99)\n",
      "\n",
      "# make some data up\n",
      "mean1 = [6,6]\n",
      "mean2 = [6,6]\n",
      "cov = [[1.0,0.0],[0.0,1.0]] \n",
      "\n",
      "#create some points\n",
      "x1 = np.random.multivariate_normal(mean1,cov,50)\n",
      "x2 = np.random.multivariate_normal(mean2,cov,50)\n",
      "\n",
      "plt.scatter(x1[:,0],x1[:,1], c='r', s=100)\n",
      "plt.scatter(x2[:,0],x2[:,1], c='b', s=100)\n",
      "\n",
      "plt.plot([2,10],[10,1], c='g', linewidth=5.0)\n",
      "\n",
      "plt.title(\"Apples and Oranges\")\n",
      "plt.xlabel(\"Roundness\")\n",
      "plt.ylabel(\"Weight\")\n",
      "\n",
      "fig_features_matter_confused = plt.gcf()\n"
     ],
     "language": "python",
     "metadata": {
      "slideshow": {
       "slide_type": "skip"
      }
     },
     "outputs": []
    },
    {
     "cell_type": "code",
     "collapsed": false,
     "input": [
      "#cheat to get the same \"random\" numbers\n",
      "np.random.seed(seed=42)\n",
      "\n",
      "# make some data up\n",
      "mean1 = [5,5]\n",
      "mean2 = [11,5]\n",
      "cov = [[1.0,0.0],[0.0,1.0]] \n",
      "\n",
      "#create some points\n",
      "x1 = np.random.multivariate_normal(mean1,cov,50)\n",
      "x2 = np.random.multivariate_normal(mean2,cov,50)\n",
      "\n",
      "plt.scatter(x1[:,0],x1[:,1], c='r', s=100)\n",
      "plt.scatter(x2[:,0],x2[:,1], c='b', s=100)\n",
      "\n",
      "plt.plot([8,8],[2,10], c='g', linewidth=5.0)\n",
      "\n",
      "plt.title(\"Apples and Oranges\")\n",
      "plt.xlabel(\"Color\")\n",
      "plt.ylabel(\"Shape\")\n",
      "\n",
      "fig_features_matter_separated = plt.gcf()\n"
     ],
     "language": "python",
     "metadata": {
      "slideshow": {
       "slide_type": "skip"
      }
     },
     "outputs": []
    },
    {
     "cell_type": "code",
     "collapsed": false,
     "input": [
      "#cheat to get the same \"random\" numbers\n",
      "np.random.seed(seed=99)\n",
      "\n",
      "# make some data up\n",
      "mean1 = [3,3]\n",
      "mean2 = [8,8]\n",
      "cov = [[1.0,0.0],[0.0,1.0]] \n",
      "\n",
      "#create some points\n",
      "x1 = np.random.multivariate_normal(mean1,cov,50)\n",
      "x2 = np.random.multivariate_normal(mean2,cov,50)\n",
      "\n",
      "plt.scatter(x1[:,0],x1[:,1], c='r', s=100)\n",
      "plt.scatter(x2[:,0],x2[:,1], c='b', s=100)\n",
      "plt.scatter([6],[9], c='k', s=200)\n",
      "\n",
      "plt.plot([2,10],[10,1], c='g', linewidth=5.0)\n",
      "\n",
      "plt.title(\"ML in One Picture\")\n",
      "plt.xlabel(\"feature 1\")\n",
      "plt.ylabel(\"feature 2\")\n",
      "\n",
      "fig_prediction = plt.gcf()"
     ],
     "language": "python",
     "metadata": {
      "slideshow": {
       "slide_type": "skip"
      }
     },
     "outputs": []
    },
    {
     "cell_type": "markdown",
     "metadata": {
      "slideshow": {
       "slide_type": "slide"
      }
     },
     "source": [
      "CS109\n",
      "======\n",
      "\n",
      "Verena Kaynig-Fittkau\n",
      "---------------------\n",
      "vkaynig@seas.harvard.edu\n",
      "\n",
      "staff@cs109.org"
     ]
    },
    {
     "cell_type": "markdown",
     "metadata": {},
     "source": [
      "Announcements\n",
      "==============\n",
      "\n",
      "* HarvardX Interactive Learning Challenge\n",
      "\n",
      "http://databits.io/challenges\n",
      "\n",
      "* HW 3 is out"
     ]
    },
    {
     "cell_type": "markdown",
     "metadata": {
      "slideshow": {
       "slide_type": "slide"
      }
     },
     "source": [
      "Introduction to Machine Learning\n",
      "================================\n",
      "\n",
      "* Analyze training data \n",
      "\n",
      "* Make predictions for new data points\n",
      "    - supervised learning\n",
      "    - data has labels\n",
      "    \n",
      "* Find patterns in the data\n",
      "    - unsupervised learning\n",
      "    - data has no labels"
     ]
    },
    {
     "cell_type": "markdown",
     "metadata": {
      "slideshow": {
       "slide_type": "slide"
      }
     },
     "source": [
      "Examples for Supervised Learning\n",
      "=================================\n",
      "\n",
      "* face detection\n",
      "* handwritten digit recognition\n",
      "* sound classification for hearing aids\n",
      "* spam filtering\n",
      "* recommender systems\n"
     ]
    },
    {
     "cell_type": "markdown",
     "metadata": {
      "slideshow": {
       "slide_type": "slide"
      }
     },
     "source": [
      "Examples for Unsupervised Learning\n",
      "==================================\n",
      "\n",
      "* dimensionality reduction\n",
      "* cocktail party problem\n",
      "* fraud detection\n",
      "* google image search categories"
     ]
    },
    {
     "cell_type": "markdown",
     "metadata": {
      "slideshow": {
       "slide_type": "slide"
      }
     },
     "source": [
      "Somewhere in Between\n",
      "====================\n",
      "\n",
      "* reinforcement learning\n",
      "    - flappy bird agent\n",
      "    http://chrisbeaumont.org/floppybird/\n",
      "        \n",
      "* semi-supervised learning\n",
      "    - music classification"
     ]
    },
    {
     "cell_type": "markdown",
     "metadata": {
      "slideshow": {
       "slide_type": "slide"
      }
     },
     "source": [
      "Supervised Learning\n",
      "===================\n"
     ]
    },
    {
     "cell_type": "code",
     "collapsed": false,
     "input": [
      "fig_ml_in_10"
     ],
     "language": "python",
     "metadata": {
      "slideshow": {
       "slide_type": "-"
      }
     },
     "outputs": []
    },
    {
     "cell_type": "markdown",
     "metadata": {
      "slideshow": {
       "slide_type": "slide"
      }
     },
     "source": [
      "Features Matter!\n",
      "================"
     ]
    },
    {
     "cell_type": "code",
     "collapsed": false,
     "input": [
      "fig_features_matter_confused"
     ],
     "language": "python",
     "metadata": {},
     "outputs": []
    },
    {
     "cell_type": "markdown",
     "metadata": {
      "slideshow": {
       "slide_type": "slide"
      }
     },
     "source": [
      "Features Matter!\n",
      "================"
     ]
    },
    {
     "cell_type": "code",
     "collapsed": false,
     "input": [
      "fig_features_matter_separated"
     ],
     "language": "python",
     "metadata": {
      "slideshow": {
       "slide_type": "-"
      }
     },
     "outputs": []
    },
    {
     "cell_type": "markdown",
     "metadata": {
      "slideshow": {
       "slide_type": "slide"
      }
     },
     "source": [
      "Self Driving Car\n",
      "===============\n",
      "\n",
      "*  *** What features do you need to drive a car? ***"
     ]
    },
    {
     "cell_type": "markdown",
     "metadata": {
      "slideshow": {
       "slide_type": "slide"
      }
     },
     "source": [
      "Self Driving Car\n",
      "===============\n",
      "\n",
      "![\"Google Car\"](http://2.bp.blogspot.com/-DjZR_4wX8Kk/UuSaoWLVJlI/AAAAAAAACYY/84pBrojn3Is/s1600/Cybernewsalerts2.PNG,\"\"Google Car)\n"
     ]
    },
    {
     "cell_type": "markdown",
     "metadata": {
      "slideshow": {
       "slide_type": "fragment"
      }
     },
     "source": [
      "Just Measure Everything?\n",
      "========================"
     ]
    },
    {
     "cell_type": "markdown",
     "metadata": {
      "slideshow": {
       "slide_type": "fragment"
      }
     },
     "source": [
      "* Data volume\n",
      "\n",
      "* Computational overhead\n",
      "\n",
      "* Curse of Dimensionality"
     ]
    },
    {
     "cell_type": "markdown",
     "metadata": {
      "slideshow": {
       "slide_type": "slide"
      }
     },
     "source": [
      "Prediction\n",
      "===========\n"
     ]
    },
    {
     "cell_type": "code",
     "collapsed": false,
     "input": [
      "fig_prediction"
     ],
     "language": "python",
     "metadata": {},
     "outputs": []
    },
    {
     "cell_type": "markdown",
     "metadata": {
      "slideshow": {
       "slide_type": "slide"
      }
     },
     "source": [
      "Naming Conventions\n",
      "===================\n",
      "\n",
      "* data points: `x`\n",
      "* labels: `y`\n",
      "\n",
      "This is fairly standard in machine learning."
     ]
    },
    {
     "cell_type": "code",
     "collapsed": false,
     "input": [
      "# get the data\n",
      "x = np.concatenate((x1, x2))\n",
      "\n",
      "# get the labels\n",
      "ones = np.ones((50,))\n",
      "y = np.concatenate((ones*0, ones))"
     ],
     "language": "python",
     "metadata": {},
     "outputs": []
    },
    {
     "cell_type": "markdown",
     "metadata": {
      "slideshow": {
       "slide_type": "slide"
      }
     },
     "source": [
      "K Nearest Neighbors\n",
      "===================\n",
      "\n",
      "* predict class of new data point by majority vote of K nearest neighbors\n",
      "\n",
      "* very simple\n",
      "* but good performance\n"
     ]
    },
    {
     "cell_type": "markdown",
     "metadata": {
      "slideshow": {
       "slide_type": "slide"
      }
     },
     "source": [
      "K Nearest Neighbors\n",
      "====================\n",
      "\n",
      "<img src=\"http://upload.wikimedia.org/wikipedia/commons/e/e7/KnnClassification.svg\" />"
     ]
    },
    {
     "cell_type": "markdown",
     "metadata": {
      "slideshow": {
       "slide_type": "slide"
      }
     },
     "source": [
      "\"train\" a KNN Classifier\n",
      "========================\n",
      "\n",
      "*** Why is this not really training? ***"
     ]
    },
    {
     "cell_type": "code",
     "collapsed": false,
     "input": [
      "k = 1 # number of neighbors\n",
      "\n",
      "classifier = sklearn.neighbors.KNeighborsClassifier(n_neighbors=k)\n",
      "classifier.fit(x,y)"
     ],
     "language": "python",
     "metadata": {
      "slideshow": {
       "slide_type": "-"
      }
     },
     "outputs": []
    },
    {
     "cell_type": "markdown",
     "metadata": {
      "slideshow": {
       "slide_type": "slide"
      }
     },
     "source": [
      "Predict a Label\n",
      "==============="
     ]
    },
    {
     "cell_type": "code",
     "collapsed": false,
     "input": [
      "newPoint_1 = np.array([6,9])\n",
      "newPoint_2 = np.array([2,4])\n",
      "\n",
      "print classifier.predict([newPoint_1, newPoint_2])\n",
      "\n",
      "fig_ml_in_10"
     ],
     "language": "python",
     "metadata": {},
     "outputs": []
    },
    {
     "cell_type": "markdown",
     "metadata": {
      "slideshow": {
       "slide_type": "slide"
      }
     },
     "source": [
      "Visualize the Decision Boundary\n",
      "==============================="
     ]
    },
    {
     "cell_type": "code",
     "collapsed": false,
     "input": [
      "# code based on sklearn example\n",
      "def visualize_decision_boundary(classifier, xmin, xmax, ymin, \n",
      "                                ymax, step_size=0.08, \n",
      "                                cmap=cmap_light):\n",
      "    \n",
      "    xx, yy = np.meshgrid(np.arange(xmin, xmax, step_size),\n",
      "                         np.arange(ymin, ymax, step_size))\n",
      "    colors = classifier.predict(np.c_[xx.ravel(), yy.ravel()])\n",
      "    colors = colors.reshape(xx.shape)\n",
      "    ax = plt.subplot(111)\n",
      "    ax.pcolormesh(xx, yy, colors, cmap=cmap)\n",
      "    return ax"
     ],
     "language": "python",
     "metadata": {},
     "outputs": []
    },
    {
     "cell_type": "code",
     "collapsed": false,
     "input": [
      "xx, yy = np.meshgrid(np.arange(0, 10, 2),\n",
      "                     np.arange(0, 10, 2))\n",
      "\n",
      "plt.scatter(xx,yy, c='b', zorder=2)\n",
      "random_colors = np.random.randint(10, size=25)\n",
      "random_colors = random_colors.reshape(xx.shape)\n",
      "plt.pcolormesh(xx,yy,random_colors,cmap=plt.cm.Pastel2, zorder=1)"
     ],
     "language": "python",
     "metadata": {
      "slideshow": {
       "slide_type": "slide"
      }
     },
     "outputs": []
    },
    {
     "cell_type": "code",
     "collapsed": false,
     "input": [
      "# now visualize the boundary\n",
      "boundary_vis = visualize_decision_boundary(classifier=classifier, \n",
      "                                           xmin=-2,xmax=12,\n",
      "                                           ymin=0,ymax=12,\n",
      "                                           step_size=0.02)\n",
      "\n",
      "# and plot our data points\n",
      "boundary_vis.scatter(x1[:,0],x1[:,1], c='r', s=100)\n",
      "boundary_vis.scatter(x2[:,0],x2[:,1], c='b', s=100)\n",
      "plt.show()"
     ],
     "language": "python",
     "metadata": {
      "slideshow": {
       "slide_type": "slide"
      }
     },
     "outputs": []
    },
    {
     "cell_type": "markdown",
     "metadata": {
      "slideshow": {
       "slide_type": "slide"
      }
     },
     "source": [
      "Now with Real Data\n",
      "=================="
     ]
    },
    {
     "cell_type": "code",
     "collapsed": false,
     "input": [
      "data = sklearn.datasets.fetch_mldata('MNIST original')\n",
      "print data.keys()\n",
      "\n",
      "x = data['data'][::50,:]\n",
      "y = data['target'][::50]\n",
      "\n",
      "print x.shape, y.shape"
     ],
     "language": "python",
     "metadata": {},
     "outputs": []
    },
    {
     "cell_type": "markdown",
     "metadata": {
      "slideshow": {
       "slide_type": "slide"
      }
     },
     "source": [
      "What Are We Looking At?\n",
      "======================="
     ]
    },
    {
     "cell_type": "code",
     "collapsed": false,
     "input": [
      "# shuffle the data\n",
      "randomized_data = np.random.permutation(x)\n",
      "rows = 5\n",
      "cols = 10\n",
      "img = []\n",
      "\n",
      "for col in xrange(rows, rows*cols, rows):\n",
      "    examples = randomized_data[col-rows:col,:]\n",
      "    col_img = np.reshape(examples,(28*rows,28))\n",
      "    img.append(col_img)\n",
      "\n",
      "plt.imshow(np.hstack(img))\n",
      "plt.show()"
     ],
     "language": "python",
     "metadata": {},
     "outputs": []
    },
    {
     "cell_type": "markdown",
     "metadata": {
      "slideshow": {
       "slide_type": "slide"
      }
     },
     "source": [
      "Scatter plot\n",
      "============"
     ]
    },
    {
     "cell_type": "code",
     "collapsed": false,
     "input": [
      "svd = sklearn.decomposition.TruncatedSVD(n_components=2)\n",
      "x_2d = svd.fit_transform(x)\n",
      "\n",
      "plt.scatter(x_2d[:,0], x_2d[:,1], c=y, s = 50, cmap=plt.cm.Paired)\n",
      "#plt.colorbar()\n",
      "plt.show()"
     ],
     "language": "python",
     "metadata": {},
     "outputs": []
    },
    {
     "cell_type": "markdown",
     "metadata": {
      "slideshow": {
       "slide_type": "slide"
      }
     },
     "source": [
      "Just Two Classes\n",
      "================"
     ]
    },
    {
     "cell_type": "code",
     "collapsed": false,
     "input": [
      "x_sub_2d = x_2d[np.logical_or(y==8, y==0),:]\n",
      "y_sub = y[np.logical_or(y==8, y==0)]\n",
      "\n",
      "plt.scatter(x_sub_2d[:,0], x_sub_2d[:,1], c=y_sub, \n",
      "            s = 50, cmap=plt.cm.Paired)\n",
      "plt.show()"
     ],
     "language": "python",
     "metadata": {},
     "outputs": []
    },
    {
     "cell_type": "markdown",
     "metadata": {
      "slideshow": {
       "slide_type": "slide"
      }
     },
     "source": [
      "Effect of K\n",
      "============"
     ]
    },
    {
     "cell_type": "code",
     "collapsed": false,
     "input": [
      "k = 1\n",
      "knn = sklearn.neighbors.KNeighborsClassifier(n_neighbors=k, \n",
      "                                             weights = 'uniform')\n",
      "knn.fit(x_sub_2d,y_sub)\n",
      "\n",
      "boundary_vis = visualize_decision_boundary(classifier=knn, \n",
      "                                xmin=500, xmax=4000,\n",
      "                                ymin=-2500,ymax=1500, \n",
      "                                step_size=20.0, cmap=plt.cm.Paired)\n",
      "\n",
      "# and plot our data points\n",
      "boundary_vis.scatter(x_sub_2d[:,0], x_sub_2d[:,1], \n",
      "                     c=y_sub, s = 10, linewidth=1, \n",
      "                     cmap=plt.cm.Paired)\n",
      "\n",
      "fig_knn = plt.gcf()"
     ],
     "language": "python",
     "metadata": {},
     "outputs": []
    },
    {
     "cell_type": "markdown",
     "metadata": {
      "slideshow": {
       "slide_type": "slide"
      }
     },
     "source": [
      "General Observations\n",
      "=====================\n",
      "\n",
      "* For K=1:\n",
      "    - wiggly decision boundary\n",
      "    - can be changed by one data point\n",
      "    - high variance, low bias\n",
      "    \n",
      "* For K >> 1:\n",
      "    - smoother boundary\n",
      "    - training error > 0\n",
      "    - low variance, high bias"
     ]
    },
    {
     "cell_type": "markdown",
     "metadata": {
      "slideshow": {
       "slide_type": "slide"
      }
     },
     "source": [
      "Discussion:\n",
      "============\n",
      "\n",
      "* *** What are strengths and weaknesses of KNN? ***\n",
      "* *** When would you use it? ***\n",
      "* *** When would you not use it? ***"
     ]
    },
    {
     "cell_type": "markdown",
     "metadata": {
      "slideshow": {
       "slide_type": "slide"
      }
     },
     "source": [
      "How Can We Choose K?\n",
      "=====================\n",
      "\n",
      "* best prediction performance\n",
      "* generalization to unseen data\n",
      "* need to measure performance"
     ]
    },
    {
     "cell_type": "markdown",
     "metadata": {
      "slideshow": {
       "slide_type": "slide"
      }
     },
     "source": [
      "Error Measures\n",
      "==============\n",
      "\n",
      "* positive class: 8\n",
      "* negative class: 0\n",
      "\n",
      "\n",
      "* true positive (tp)\n",
      "* true negative (tn)\n",
      "* false positive (fp)\n",
      "* false negative (fn)\n",
      "\n"
     ]
    },
    {
     "cell_type": "markdown",
     "metadata": {
      "slideshow": {
       "slide_type": "slide"
      }
     },
     "source": [
      "Confusion Matrix\n",
      "=================\n",
      "\n",
      "![\"Confusion matrix\"](http://3.bp.blogspot.com/-xXYyRNtMlmI/U3EQxjJiWhI/AAAAAAAAAJ0/ieIBaRA46Ro/s1600/Confusion+Matrix.png, \"Confusion Matrix\")"
     ]
    },
    {
     "cell_type": "code",
     "collapsed": false,
     "input": [
      "k = 20\n",
      "knn = sklearn.neighbors.KNeighborsClassifier(n_neighbors=k, \n",
      "                                             weights = 'uniform')\n",
      "knn.fit(x_sub_2d,y_sub)\n",
      "y_hat = knn.predict(x_sub_2d)\n",
      "\n",
      "confusion_matrix = sklearn.metrics.confusion_matrix(y_sub, y_hat)\n",
      "print confusion_matrix"
     ],
     "language": "python",
     "metadata": {
      "slideshow": {
       "slide_type": "slide"
      }
     },
     "outputs": []
    },
    {
     "cell_type": "code",
     "collapsed": false,
     "input": [
      "# Show confusion matrix in a separate window\n",
      "def show_confusion_matrix(confusion_matrix):\n",
      "    plt.matshow(confusion_matrix, cmap=plt.cm.Greys_r)\n",
      "    plt.title('Confusion matrix')\n",
      "    plt.colorbar()\n",
      "    plt.ylabel('True label')\n",
      "    plt.xlabel('Predicted label')\n",
      "    plt.show()\n",
      "    \n",
      "show_confusion_matrix(confusion_matrix)\n"
     ],
     "language": "python",
     "metadata": {
      "slideshow": {
       "slide_type": "slide"
      }
     },
     "outputs": []
    },
    {
     "cell_type": "code",
     "collapsed": false,
     "input": [
      "k = 20\n",
      "knn = sklearn.neighbors.KNeighborsClassifier(n_neighbors=k, \n",
      "                                             weights = 'uniform')\n",
      "knn.fit(x,y)\n",
      "y_hat = knn.predict(x)\n",
      "\n",
      "confusion_matrix = sklearn.metrics.confusion_matrix(y, y_hat)\n",
      "show_confusion_matrix(confusion_matrix)\n",
      "print confusion_matrix"
     ],
     "language": "python",
     "metadata": {
      "slideshow": {
       "slide_type": "slide"
      }
     },
     "outputs": []
    },
    {
     "cell_type": "markdown",
     "metadata": {
      "slideshow": {
       "slide_type": "slide"
      }
     },
     "source": [
      "Accuracy for Multi Class\n",
      "========================\n",
      "\n",
      "$$ \\frac{N_{\\text{true}}}{N_{\\text{all}}} $$"
     ]
    },
    {
     "cell_type": "code",
     "collapsed": false,
     "input": [
      "sklearn.metrics.accuracy_score(y, y_hat, normalize=True)"
     ],
     "language": "python",
     "metadata": {},
     "outputs": []
    },
    {
     "cell_type": "markdown",
     "metadata": {
      "slideshow": {
       "slide_type": "slide"
      }
     },
     "source": [
      "Evaluate Choice of K\n",
      "===================="
     ]
    },
    {
     "cell_type": "code",
     "collapsed": false,
     "input": [
      "def accuracy_for_k(k,x,y):\n",
      "    knn = sklearn.neighbors.KNeighborsClassifier(n_neighbors=k, \n",
      "                                             weights = 'uniform')\n",
      "    knn.fit(x,y)\n",
      "    y_hat = knn.predict(x)\n",
      "    return sklearn.metrics.accuracy_score(y, y_hat, normalize=True)"
     ],
     "language": "python",
     "metadata": {
      "slideshow": {
       "slide_type": "-"
      }
     },
     "outputs": []
    },
    {
     "cell_type": "code",
     "collapsed": false,
     "input": [
      "## Why is this code inefficient?\n",
      "acc_values = []\n",
      "k_values = xrange(1,50,2)\n",
      "for k in k_values:\n",
      "    acc_values.append(accuracy_for_k(k=k,x=x_sub_2d,y=y_sub))\n",
      "    \n",
      "plt.plot(k_values, acc_values)\n",
      "plt.xlabel('Value of k')\n",
      "plt.ylabel('Accuracy')\n",
      "fig_train_acc = plt.gcf()"
     ],
     "language": "python",
     "metadata": {
      "slideshow": {
       "slide_type": "slide"
      }
     },
     "outputs": []
    },
    {
     "cell_type": "markdown",
     "metadata": {},
     "source": [
      "Closer Look\n",
      "===========\n",
      "\n",
      "* *** Why does the accuracy drop ? ***\n",
      "* *** Why is this plot meaningless? ***"
     ]
    },
    {
     "cell_type": "code",
     "collapsed": false,
     "input": [
      "fig_train_acc"
     ],
     "language": "python",
     "metadata": {},
     "outputs": []
    },
    {
     "cell_type": "markdown",
     "metadata": {
      "slideshow": {
       "slide_type": "slide"
      }
     },
     "source": [
      "With Validation Set\n",
      "==================="
     ]
    },
    {
     "cell_type": "code",
     "collapsed": false,
     "input": [
      "def accuracy_for_k_val(k,x,y, random_state=99):\n",
      "    split_data = sklearn.cross_validation.train_test_split(\n",
      "                        x,y, test_size=0.33, random_state=random_state)\n",
      "    x_train, x_val, y_train, y_val = split_data\n",
      "    knn = sklearn.neighbors.KNeighborsClassifier(n_neighbors=k, \n",
      "                                             weights = 'uniform')\n",
      "    knn.fit(x_train,y_train)\n",
      "    y_hat = knn.predict(x_val)\n",
      "    return sklearn.metrics.accuracy_score(y_val, y_hat, \n",
      "                                          normalize=True)"
     ],
     "language": "python",
     "metadata": {
      "slideshow": {
       "slide_type": "-"
      }
     },
     "outputs": [],
     "prompt_number": 79
    },
    {
     "cell_type": "code",
     "collapsed": false,
     "input": [
      "acc_values_val = []\n",
      "acc_values_train = []\n",
      "\n",
      "k_values = xrange(1,150,2)\n",
      "for k in k_values:\n",
      "    acc_values_train.append(accuracy_for_k(k=k,x=x_sub_2d,y=y_sub))\n",
      "    acc_values_val.append(accuracy_for_k_val(k=k,x=x_sub_2d,y=y_sub))\n",
      "    \n",
      "plt.plot(k_values, acc_values_train, c='r', label=\"training accuracy\")\n",
      "plt.plot(k_values, acc_values_val, c='b', label=\"validation accuracy\")\n",
      "plt.xlabel('Value of k')\n",
      "plt.ylabel('Accuracy')\n",
      "plt.legend()\n",
      "\n",
      "fig_cross_val = plt.gcf()"
     ],
     "language": "python",
     "metadata": {
      "slideshow": {
       "slide_type": "slide"
      }
     },
     "outputs": [
      {
       "metadata": {},
       "output_type": "display_data",
       "png": "[encoded data removed]",
       "text": [
        "<matplotlib.figure.Figure at 0x10f918e90>"
       ]
      }
     ],
     "prompt_number": 80
    },
    {
     "cell_type": "markdown",
     "metadata": {
      "slideshow": {
       "slide_type": "slide"
      }
     },
     "source": [
      "Overfitting\n",
      "===========\n",
      "\n",
      "* worse for flexible models\n",
      "* model captures noise in training data\n",
      "* low training error\n",
      "* high prediction error\n",
      "* countermeasures:\n",
      "    - regularization *** - Where is this in KNN? ***\n",
      "    - cross validation\n"
     ]
    },
    {
     "cell_type": "code",
     "collapsed": false,
     "input": [
      "fig_knn"
     ],
     "language": "python",
     "metadata": {
      "slideshow": {
       "slide_type": "slide"
      }
     },
     "outputs": []
    },
    {
     "cell_type": "markdown",
     "metadata": {
      "slideshow": {
       "slide_type": "slide"
      }
     },
     "source": [
      "Cross Validation\n",
      "================\n",
      "\n",
      "* split data into **three** sub-sets\n",
      "    - train: to train the model\n",
      "    - validation: to tune hyper-parameters\n",
      "    - test: to evaluate prediction performance"
     ]
    },
    {
     "cell_type": "markdown",
     "metadata": {
      "slideshow": {
       "slide_type": "slide"
      }
     },
     "source": [
      "Cross Validation\n",
      "================\n",
      "\n",
      "* *** When do you not need a validation set? ***\n",
      "\n",
      "* *** Why do we need a train and a validation set? ***\n",
      "\n",
      "* *** Why do we need an extra test set? ***\n",
      "\n",
      "* *** Why could Rafael be upset with my plot? ***\n",
      "\n"
     ]
    },
    {
     "cell_type": "code",
     "collapsed": false,
     "input": [
      "fig_cross_val"
     ],
     "language": "python",
     "metadata": {
      "slideshow": {
       "slide_type": "slide"
      }
     },
     "outputs": []
    },
    {
     "cell_type": "markdown",
     "metadata": {
      "slideshow": {
       "slide_type": "slide"
      }
     },
     "source": [
      "Better Cross Validation\n",
      "=======================\n",
      "\n",
      "* Measurements without error bars do not exist!\n",
      "* Split the data multiple times"
     ]
    },
    {
     "cell_type": "code",
     "collapsed": false,
     "input": [
      "k_values = range(1,150,10)\n",
      "\n",
      "np.random.seed(seed=99)\n",
      "random_seeds = np.random.randint(1000, size=50)\n",
      "\n",
      "values = np.zeros((len(k_values),random_seeds.shape[0]))\n",
      "for k, c_k in zip(k_values, range(len(k_values))):\n",
      "    counter_rs = 0\n",
      "    for rs,c_rs in zip(random_seeds, range(random_seeds.shape[0])):\n",
      "        value = accuracy_for_k_val(k=k,x=x_sub_2d,y=y_sub,\n",
      "                                   random_state=rs)\n",
      "        values[c_k,c_rs] = value\n",
      "        \n",
      "sns.tsplot(values.T)\n",
      "plt.xlabel('k')\n",
      "plt.ylabel('accuracy')\n",
      "plt.show()"
     ],
     "language": "python",
     "metadata": {
      "slideshow": {
       "slide_type": "slide"
      }
     },
     "outputs": []
    },
    {
     "cell_type": "markdown",
     "metadata": {
      "slideshow": {
       "slide_type": "slide"
      }
     },
     "source": [
      "K-Fold Cross-Validation\n",
      "=======================\n",
      "\n",
      "* split the data randomly\n",
      "* but into disjunct sets\n",
      "\n",
      "![\"K-Fold CV\"](http://www.imtech.res.in/raghava/gpsr/Evaluation_Bioinformatics_Methods_files/image002.jpg)\n"
     ]
    },
    {
     "cell_type": "markdown",
     "metadata": {},
     "source": [
      "Classifiers and Invariance\n",
      "==========================\n",
      "\n",
      "* digit recognition is\n",
      "    - translation invariant\n",
      "    - rotation invariant (a little bit)"
     ]
    },
    {
     "cell_type": "markdown",
     "metadata": {},
     "source": [
      "Ways to Handle Invariance:\n",
      "===========================    \n",
      "\n",
      "* add transformation to training data\n",
      "* introduce canonical representation\n",
      "* build into classifier\n"
     ]
    },
    {
     "cell_type": "markdown",
     "metadata": {
      "slideshow": {
       "slide_type": "slide"
      }
     },
     "source": [
      "Rotation Invariance:\n",
      "====================\n",
      "\n",
      "![\"rotation invariance\"](images\\digits_rotated.png)"
     ]
    },
    {
     "cell_type": "markdown",
     "metadata": {
      "slideshow": {
       "slide_type": "slide"
      }
     },
     "source": [
      "Tangent Space\n",
      "==============\n",
      "\n",
      "![\"tangent space\"](images\\tangent_space.png)"
     ]
    },
    {
     "cell_type": "markdown",
     "metadata": {},
     "source": [
      "KNN works!\n",
      "===========\n",
      "\n",
      "http://en.wikipedia.org/wiki/MNIST_database#Classifiers"
     ]
    },
    {
     "cell_type": "markdown",
     "metadata": {},
     "source": [
      "Elements of Statistical Learning\n",
      "================================\n",
      "\n",
      "![\"Elements of statistical learning\"](http://statweb.stanford.edu/~tibs/ElemStatLearn/CoverII_small.jpg)"
     ]
    },
    {
     "cell_type": "markdown",
     "metadata": {},
     "source": [
      "Pattern Recognition Class\n",
      "=========================\n",
      "\n",
      "* by Fred Hamprecht\n",
      "\n",
      "* on Youtube\n",
      "\n",
      "http://www.youtube.com/playlist?list=PLuRaSnb3n4kRDZVU6wxPzGdx1CN12fn0w"
     ]
    },
    {
     "cell_type": "code",
     "collapsed": false,
     "input": [],
     "language": "python",
     "metadata": {},
     "outputs": []
    },
    {
     "cell_type": "code",
     "collapsed": false,
     "input": [],
     "language": "python",
     "metadata": {},
     "outputs": []
    }
   ],
   "metadata": {}
  }
 ]
}