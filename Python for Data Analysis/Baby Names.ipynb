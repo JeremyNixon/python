{
 "metadata": {
  "name": "",
  "signature": "sha256:a01bf380412e55715853eeca63821926f3e5305418c461f7466350ad0da24b4c"
 },
 "nbformat": 3,
 "nbformat_minor": 0,
 "worksheets": [
  {
   "cells": [
    {
     "cell_type": "code",
     "collapsed": false,
     "input": [
      "import pandas as pd\n",
      "import matplotlib.pyplot as plt\n",
      "import numpy as np\n",
      "%matplotlib inline"
     ],
     "language": "python",
     "metadata": {},
     "outputs": [],
     "prompt_number": 1
    },
    {
     "cell_type": "code",
     "collapsed": false,
     "input": [
      "ls"
     ],
     "language": "python",
     "metadata": {},
     "outputs": [
      {
       "output_type": "stream",
       "stream": "stdout",
       "text": [
        "\u001b[31mNationalReadMe.pdf\u001b[m\u001b[m* \u001b[31myob1913.txt\u001b[m\u001b[m*        \u001b[31myob1947.txt\u001b[m\u001b[m*        \u001b[31myob1981.txt\u001b[m\u001b[m*\r\n",
        "\u001b[31myob1880.txt\u001b[m\u001b[m*        \u001b[31myob1914.txt\u001b[m\u001b[m*        \u001b[31myob1948.txt\u001b[m\u001b[m*        \u001b[31myob1982.txt\u001b[m\u001b[m*\r\n",
        "\u001b[31myob1881.txt\u001b[m\u001b[m*        \u001b[31myob1915.txt\u001b[m\u001b[m*        \u001b[31myob1949.txt\u001b[m\u001b[m*        \u001b[31myob1983.txt\u001b[m\u001b[m*\r\n",
        "\u001b[31myob1882.txt\u001b[m\u001b[m*        \u001b[31myob1916.txt\u001b[m\u001b[m*        \u001b[31myob1950.txt\u001b[m\u001b[m*        \u001b[31myob1984.txt\u001b[m\u001b[m*\r\n",
        "\u001b[31myob1883.txt\u001b[m\u001b[m*        \u001b[31myob1917.txt\u001b[m\u001b[m*        \u001b[31myob1951.txt\u001b[m\u001b[m*        \u001b[31myob1985.txt\u001b[m\u001b[m*\r\n",
        "\u001b[31myob1884.txt\u001b[m\u001b[m*        \u001b[31myob1918.txt\u001b[m\u001b[m*        \u001b[31myob1952.txt\u001b[m\u001b[m*        \u001b[31myob1986.txt\u001b[m\u001b[m*\r\n",
        "\u001b[31myob1885.txt\u001b[m\u001b[m*        \u001b[31myob1919.txt\u001b[m\u001b[m*        \u001b[31myob1953.txt\u001b[m\u001b[m*        \u001b[31myob1987.txt\u001b[m\u001b[m*\r\n",
        "\u001b[31myob1886.txt\u001b[m\u001b[m*        \u001b[31myob1920.txt\u001b[m\u001b[m*        \u001b[31myob1954.txt\u001b[m\u001b[m*        \u001b[31myob1988.txt\u001b[m\u001b[m*\r\n",
        "\u001b[31myob1887.txt\u001b[m\u001b[m*        \u001b[31myob1921.txt\u001b[m\u001b[m*        \u001b[31myob1955.txt\u001b[m\u001b[m*        \u001b[31myob1989.txt\u001b[m\u001b[m*\r\n",
        "\u001b[31myob1888.txt\u001b[m\u001b[m*        \u001b[31myob1922.txt\u001b[m\u001b[m*        \u001b[31myob1956.txt\u001b[m\u001b[m*        \u001b[31myob1990.txt\u001b[m\u001b[m*\r\n",
        "\u001b[31myob1889.txt\u001b[m\u001b[m*        \u001b[31myob1923.txt\u001b[m\u001b[m*        \u001b[31myob1957.txt\u001b[m\u001b[m*        \u001b[31myob1991.txt\u001b[m\u001b[m*\r\n",
        "\u001b[31myob1890.txt\u001b[m\u001b[m*        \u001b[31myob1924.txt\u001b[m\u001b[m*        \u001b[31myob1958.txt\u001b[m\u001b[m*        \u001b[31myob1992.txt\u001b[m\u001b[m*\r\n",
        "\u001b[31myob1891.txt\u001b[m\u001b[m*        \u001b[31myob1925.txt\u001b[m\u001b[m*        \u001b[31myob1959.txt\u001b[m\u001b[m*        \u001b[31myob1993.txt\u001b[m\u001b[m*\r\n",
        "\u001b[31myob1892.txt\u001b[m\u001b[m*        \u001b[31myob1926.txt\u001b[m\u001b[m*        \u001b[31myob1960.txt\u001b[m\u001b[m*        \u001b[31myob1994.txt\u001b[m\u001b[m*\r\n",
        "\u001b[31myob1893.txt\u001b[m\u001b[m*        \u001b[31myob1927.txt\u001b[m\u001b[m*        \u001b[31myob1961.txt\u001b[m\u001b[m*        \u001b[31myob1995.txt\u001b[m\u001b[m*\r\n",
        "\u001b[31myob1894.txt\u001b[m\u001b[m*        \u001b[31myob1928.txt\u001b[m\u001b[m*        \u001b[31myob1962.txt\u001b[m\u001b[m*        \u001b[31myob1996.txt\u001b[m\u001b[m*\r\n",
        "\u001b[31myob1895.txt\u001b[m\u001b[m*        \u001b[31myob1929.txt\u001b[m\u001b[m*        \u001b[31myob1963.txt\u001b[m\u001b[m*        \u001b[31myob1997.txt\u001b[m\u001b[m*\r\n",
        "\u001b[31myob1896.txt\u001b[m\u001b[m*        \u001b[31myob1930.txt\u001b[m\u001b[m*        \u001b[31myob1964.txt\u001b[m\u001b[m*        \u001b[31myob1998.txt\u001b[m\u001b[m*\r\n",
        "\u001b[31myob1897.txt\u001b[m\u001b[m*        \u001b[31myob1931.txt\u001b[m\u001b[m*        \u001b[31myob1965.txt\u001b[m\u001b[m*        \u001b[31myob1999.txt\u001b[m\u001b[m*\r\n",
        "\u001b[31myob1898.txt\u001b[m\u001b[m*        \u001b[31myob1932.txt\u001b[m\u001b[m*        \u001b[31myob1966.txt\u001b[m\u001b[m*        \u001b[31myob2000.txt\u001b[m\u001b[m*\r\n",
        "\u001b[31myob1899.txt\u001b[m\u001b[m*        \u001b[31myob1933.txt\u001b[m\u001b[m*        \u001b[31myob1967.txt\u001b[m\u001b[m*        \u001b[31myob2001.txt\u001b[m\u001b[m*\r\n",
        "\u001b[31myob1900.txt\u001b[m\u001b[m*        \u001b[31myob1934.txt\u001b[m\u001b[m*        \u001b[31myob1968.txt\u001b[m\u001b[m*        \u001b[31myob2002.txt\u001b[m\u001b[m*\r\n",
        "\u001b[31myob1901.txt\u001b[m\u001b[m*        \u001b[31myob1935.txt\u001b[m\u001b[m*        \u001b[31myob1969.txt\u001b[m\u001b[m*        \u001b[31myob2003.txt\u001b[m\u001b[m*\r\n",
        "\u001b[31myob1902.txt\u001b[m\u001b[m*        \u001b[31myob1936.txt\u001b[m\u001b[m*        \u001b[31myob1970.txt\u001b[m\u001b[m*        \u001b[31myob2004.txt\u001b[m\u001b[m*\r\n",
        "\u001b[31myob1903.txt\u001b[m\u001b[m*        \u001b[31myob1937.txt\u001b[m\u001b[m*        \u001b[31myob1971.txt\u001b[m\u001b[m*        \u001b[31myob2005.txt\u001b[m\u001b[m*\r\n",
        "\u001b[31myob1904.txt\u001b[m\u001b[m*        \u001b[31myob1938.txt\u001b[m\u001b[m*        \u001b[31myob1972.txt\u001b[m\u001b[m*        \u001b[31myob2006.txt\u001b[m\u001b[m*\r\n",
        "\u001b[31myob1905.txt\u001b[m\u001b[m*        \u001b[31myob1939.txt\u001b[m\u001b[m*        \u001b[31myob1973.txt\u001b[m\u001b[m*        \u001b[31myob2007.txt\u001b[m\u001b[m*\r\n",
        "\u001b[31myob1906.txt\u001b[m\u001b[m*        \u001b[31myob1940.txt\u001b[m\u001b[m*        \u001b[31myob1974.txt\u001b[m\u001b[m*        \u001b[31myob2008.txt\u001b[m\u001b[m*\r\n",
        "\u001b[31myob1907.txt\u001b[m\u001b[m*        \u001b[31myob1941.txt\u001b[m\u001b[m*        \u001b[31myob1975.txt\u001b[m\u001b[m*        \u001b[31myob2009.txt\u001b[m\u001b[m*\r\n",
        "\u001b[31myob1908.txt\u001b[m\u001b[m*        \u001b[31myob1942.txt\u001b[m\u001b[m*        \u001b[31myob1976.txt\u001b[m\u001b[m*        \u001b[31myob2010.txt\u001b[m\u001b[m*\r\n",
        "\u001b[31myob1909.txt\u001b[m\u001b[m*        \u001b[31myob1943.txt\u001b[m\u001b[m*        \u001b[31myob1977.txt\u001b[m\u001b[m*        \u001b[31myob2011.txt\u001b[m\u001b[m*\r\n",
        "\u001b[31myob1910.txt\u001b[m\u001b[m*        \u001b[31myob1944.txt\u001b[m\u001b[m*        \u001b[31myob1978.txt\u001b[m\u001b[m*        \u001b[31myob2012.txt\u001b[m\u001b[m*\r\n",
        "\u001b[31myob1911.txt\u001b[m\u001b[m*        \u001b[31myob1945.txt\u001b[m\u001b[m*        \u001b[31myob1979.txt\u001b[m\u001b[m*        \u001b[31myob2013.txt\u001b[m\u001b[m*\r\n",
        "\u001b[31myob1912.txt\u001b[m\u001b[m*        \u001b[31myob1946.txt\u001b[m\u001b[m*        \u001b[31myob1980.txt\u001b[m\u001b[m*\r\n"
       ]
      }
     ],
     "prompt_number": 19
    },
    {
     "cell_type": "code",
     "collapsed": false,
     "input": [
      "names1880 = pd.read_csv('names/yob1880.txt', names=['name', 'sex', 'births'])\n",
      "names1880[:5]"
     ],
     "language": "python",
     "metadata": {},
     "outputs": [
      {
       "html": [
        "<div style=\"max-height:1000px;max-width:1500px;overflow:auto;\">\n",
        "<table border=\"1\" class=\"dataframe\">\n",
        "  <thead>\n",
        "    <tr style=\"text-align: right;\">\n",
        "      <th></th>\n",
        "      <th>name</th>\n",
        "      <th>sex</th>\n",
        "      <th>births</th>\n",
        "    </tr>\n",
        "  </thead>\n",
        "  <tbody>\n",
        "    <tr>\n",
        "      <th>0</th>\n",
        "      <td>      Mary</td>\n",
        "      <td> F</td>\n",
        "      <td> 7065</td>\n",
        "    </tr>\n",
        "    <tr>\n",
        "      <th>1</th>\n",
        "      <td>      Anna</td>\n",
        "      <td> F</td>\n",
        "      <td> 2604</td>\n",
        "    </tr>\n",
        "    <tr>\n",
        "      <th>2</th>\n",
        "      <td>      Emma</td>\n",
        "      <td> F</td>\n",
        "      <td> 2003</td>\n",
        "    </tr>\n",
        "    <tr>\n",
        "      <th>3</th>\n",
        "      <td> Elizabeth</td>\n",
        "      <td> F</td>\n",
        "      <td> 1939</td>\n",
        "    </tr>\n",
        "    <tr>\n",
        "      <th>4</th>\n",
        "      <td>    Minnie</td>\n",
        "      <td> F</td>\n",
        "      <td> 1746</td>\n",
        "    </tr>\n",
        "  </tbody>\n",
        "</table>\n",
        "</div>"
       ],
       "metadata": {},
       "output_type": "pyout",
       "prompt_number": 3,
       "text": [
        "        name sex  births\n",
        "0       Mary   F    7065\n",
        "1       Anna   F    2604\n",
        "2       Emma   F    2003\n",
        "3  Elizabeth   F    1939\n",
        "4     Minnie   F    1746"
       ]
      }
     ],
     "prompt_number": 3
    },
    {
     "cell_type": "code",
     "collapsed": false,
     "input": [
      "names1880.groupby('sex').births.sum()"
     ],
     "language": "python",
     "metadata": {},
     "outputs": [
      {
       "metadata": {},
       "output_type": "pyout",
       "prompt_number": 4,
       "text": [
        "sex\n",
        "F       90993\n",
        "M      110491\n",
        "Name: births, dtype: int64"
       ]
      }
     ],
     "prompt_number": 4
    },
    {
     "cell_type": "code",
     "collapsed": false,
     "input": [],
     "language": "python",
     "metadata": {},
     "outputs": []
    },
    {
     "cell_type": "code",
     "collapsed": false,
     "input": [
      "years = range(1880, 2011)\n",
      "pieces = []\n",
      "columns = ['name', 'sex', 'births']\n",
      "for year in years:\n",
      "    path = 'names/yob%d.txt' % year\n",
      "    frame = pd.read_csv(path, names=columns)\n",
      "    frame['year'] = year\n",
      "    pieces.append(frame)"
     ],
     "language": "python",
     "metadata": {},
     "outputs": [],
     "prompt_number": 5
    },
    {
     "cell_type": "code",
     "collapsed": false,
     "input": [
      "names = pd.concat(pieces, ignore_index=True)\n",
      "names[:3]"
     ],
     "language": "python",
     "metadata": {},
     "outputs": [
      {
       "html": [
        "<div style=\"max-height:1000px;max-width:1500px;overflow:auto;\">\n",
        "<table border=\"1\" class=\"dataframe\">\n",
        "  <thead>\n",
        "    <tr style=\"text-align: right;\">\n",
        "      <th></th>\n",
        "      <th>name</th>\n",
        "      <th>sex</th>\n",
        "      <th>births</th>\n",
        "      <th>year</th>\n",
        "    </tr>\n",
        "  </thead>\n",
        "  <tbody>\n",
        "    <tr>\n",
        "      <th>0</th>\n",
        "      <td> Mary</td>\n",
        "      <td> F</td>\n",
        "      <td> 7065</td>\n",
        "      <td> 1880</td>\n",
        "    </tr>\n",
        "    <tr>\n",
        "      <th>1</th>\n",
        "      <td> Anna</td>\n",
        "      <td> F</td>\n",
        "      <td> 2604</td>\n",
        "      <td> 1880</td>\n",
        "    </tr>\n",
        "    <tr>\n",
        "      <th>2</th>\n",
        "      <td> Emma</td>\n",
        "      <td> F</td>\n",
        "      <td> 2003</td>\n",
        "      <td> 1880</td>\n",
        "    </tr>\n",
        "  </tbody>\n",
        "</table>\n",
        "</div>"
       ],
       "metadata": {},
       "output_type": "pyout",
       "prompt_number": 6,
       "text": [
        "   name sex  births  year\n",
        "0  Mary   F    7065  1880\n",
        "1  Anna   F    2604  1880\n",
        "2  Emma   F    2003  1880"
       ]
      }
     ],
     "prompt_number": 6
    },
    {
     "cell_type": "code",
     "collapsed": false,
     "input": [
      "total_births = names.pivot_table('births', rows='year', columns = 'sex', aggfunc = sum)\n",
      "total_births[:5]"
     ],
     "language": "python",
     "metadata": {},
     "outputs": [
      {
       "output_type": "stream",
       "stream": "stderr",
       "text": [
        "/Users/Jeremy/anaconda/lib/python2.7/site-packages/pandas/util/decorators.py:53: FutureWarning: rows is deprecated, use index instead\n",
        "  warnings.warn(msg, FutureWarning)\n"
       ]
      },
      {
       "html": [
        "<div style=\"max-height:1000px;max-width:1500px;overflow:auto;\">\n",
        "<table border=\"1\" class=\"dataframe\">\n",
        "  <thead>\n",
        "    <tr style=\"text-align: right;\">\n",
        "      <th>sex</th>\n",
        "      <th>F</th>\n",
        "      <th>M</th>\n",
        "    </tr>\n",
        "    <tr>\n",
        "      <th>year</th>\n",
        "      <th></th>\n",
        "      <th></th>\n",
        "    </tr>\n",
        "  </thead>\n",
        "  <tbody>\n",
        "    <tr>\n",
        "      <th>1880</th>\n",
        "      <td>  90993</td>\n",
        "      <td> 110491</td>\n",
        "    </tr>\n",
        "    <tr>\n",
        "      <th>1881</th>\n",
        "      <td>  91954</td>\n",
        "      <td> 100746</td>\n",
        "    </tr>\n",
        "    <tr>\n",
        "      <th>1882</th>\n",
        "      <td> 107850</td>\n",
        "      <td> 113687</td>\n",
        "    </tr>\n",
        "    <tr>\n",
        "      <th>1883</th>\n",
        "      <td> 112322</td>\n",
        "      <td> 104630</td>\n",
        "    </tr>\n",
        "    <tr>\n",
        "      <th>1884</th>\n",
        "      <td> 129022</td>\n",
        "      <td> 114446</td>\n",
        "    </tr>\n",
        "  </tbody>\n",
        "</table>\n",
        "</div>"
       ],
       "metadata": {},
       "output_type": "pyout",
       "prompt_number": 7,
       "text": [
        "sex        F       M\n",
        "year                \n",
        "1880   90993  110491\n",
        "1881   91954  100746\n",
        "1882  107850  113687\n",
        "1883  112322  104630\n",
        "1884  129022  114446"
       ]
      }
     ],
     "prompt_number": 7
    },
    {
     "cell_type": "code",
     "collapsed": false,
     "input": [
      "r = total_births.reset_index(drop = True)\n",
      "print r[:5]\n",
      "plt.hist(r['M'].dropna(), bins = 10)"
     ],
     "language": "python",
     "metadata": {},
     "outputs": [
      {
       "output_type": "stream",
       "stream": "stdout",
       "text": [
        "sex       F       M\n",
        "0     90993  110491\n",
        "1     91954  100746\n",
        "2    107850  113687\n",
        "3    112322  104630\n",
        "4    129022  114446\n"
       ]
      },
      {
       "metadata": {},
       "output_type": "pyout",
       "prompt_number": 16,
       "text": [
        "(array([ 32.,   1.,   2.,   2.,  22.,   3.,   4.,  11.,  29.,  25.]),\n",
        " array([  100746. ,   306249.5,   511753. ,   717256.5,   922760. ,\n",
        "         1128263.5,  1333767. ,  1539270.5,  1744774. ,  1950277.5,\n",
        "         2155781. ]),\n",
        " <a list of 10 Patch objects>)"
       ]
      },
      {
       "metadata": {},
       "output_type": "display_data",
       "png": "[encoded data removed]",
       "text": [
        "<matplotlib.figure.Figure at 0x12055bb90>"
       ]
      }
     ],
     "prompt_number": 16
    },
    {
     "cell_type": "code",
     "collapsed": false,
     "input": [],
     "language": "python",
     "metadata": {},
     "outputs": []
    }
   ],
   "metadata": {}
  }
 ]
}