{
 "metadata": {
  "name": "",
  "signature": "sha256:691ca4e5f836b0067e4365dc37016bb0e8edb55c15fea2347f8aec645795e1ce"
 },
 "nbformat": 3,
 "nbformat_minor": 0,
 "worksheets": [
  {
   "cells": [
    {
     "cell_type": "markdown",
     "metadata": {},
     "source": [
      "# Homework 2: More Exploratory Data Analysis\n",
      "## Gene Expression Data and Election Polls \n",
      "\n",
      "Due: Thursday, October 2, 2014 11:59 PM\n",
      "\n",
      "<a href=https://raw.githubusercontent.com/cs109/2014/master/homework/HW2.ipynb download=HW2.ipynb> Download this assignment</a>\n",
      "\n",
      "#### Submission Instructions\n",
      "To submit your homework, create a folder named lastname_firstinitial_hw# and place your IPython notebooks, data files, and any other files in this folder. Your IPython Notebooks should be completely executed with the results visible in the notebook. We should not have to run any code. Compress the folder (please use .zip compression) and submit to the CS109 dropbox in the appropriate folder. If we cannot access your work because these directions are not followed correctly, we will not grade your work.\n",
      "\n",
      "\n",
      "---"
     ]
    },
    {
     "cell_type": "markdown",
     "metadata": {},
     "source": [
      "## Introduction\n",
      "\n",
      "John Tukey wrote in [Exploratory Data Analysis, 1977](http://www.amazon.com/Exploratory-Data-Analysis-Wilder-Tukey/dp/0201076160/ref=pd_bbs_sr_2/103-4466654-5303007?ie=UTF8&s=books&qid=1189739816&sr=8-2): \"The greatest value of a picture is when it forces us to notice what we never expected to see.\" In this assignment we will continue using our exploratory data analysis tools, but apply it to new sets of data: [gene expression](http://en.wikipedia.org/wiki/Gene_expression) and polls from the [2012 Presidental Election](http://en.wikipedia.org/wiki/United_States_presidential_election,_2012) and from the [2014 Senate Midterm Elections](http://en.wikipedia.org/wiki/United_States_Senate_elections,_2014).   \n",
      "\n",
      "**First**: You will use exploratory data analysis and apply the [singular value decomposition](http://en.wikipedia.org/wiki/Singular_value_decomposition) (SVD) to a gene expression data matrix to determine if the the date that the gene expression samples are processed has large effect on the variability seen in the data.  \n",
      "\n",
      "**Second**: You will use the polls from the 2012 Presidential Elections to determine (1) Is there a pollster bias in presidential election polls? and (2) Is the average of polls better than just one poll?\n",
      "\n",
      "**Finally**: You will use the [HuffPost Pollster API](http://elections.huffingtonpost.com/pollster/api) to extract the polls for the current 2014 Senate Midterm Elections and provide a preliminary prediction of the result of each state.\n",
      "\n",
      "#### Data\n",
      "\n",
      "We will use the following data sets: \n",
      "\n",
      "1. A gene expression data set called `exprs_GSE5859.csv` and sample annotation table called `sampleinfo_GSE5859.csv` which are both available on Github in the 2014_data repository: [expression data set](https://github.com/cs109/2014_data/blob/master/exprs_GSE5859.csv) and [sample annotation table](https://github.com/cs109/2014_data/blob/master/sampleinfo_GSE5859.csv).  \n",
      "\n",
      "2. Polls from the [2012 Presidential Election: Barack Obama vs Mitt Romney](http://elections.huffingtonpost.com/pollster/2012-general-election-romney-vs-obama). The polls we will use are from the [Huffington Post Pollster](http://elections.huffingtonpost.com/pollster).  \n",
      "\n",
      "3. Polls from the [2014 Senate Midterm Elections](http://elections.huffingtonpost.com/pollster) from the [HuffPost Pollster API](http://elections.huffingtonpost.com/pollster/api). \n",
      "\n",
      "---"
     ]
    },
    {
     "cell_type": "markdown",
     "metadata": {},
     "source": [
      "## Load Python modules"
     ]
    },
    {
     "cell_type": "code",
     "collapsed": false,
     "input": [
      "# special IPython command to prepare the notebook for matplotlib\n",
      "%matplotlib inline \n",
      "\n",
      "import requests \n",
      "import StringIO\n",
      "import numpy as np\n",
      "import pandas as pd # pandas\n",
      "import matplotlib.pyplot as plt # module for plotting \n",
      "import datetime as dt # module for manipulating dates and times\n",
      "import numpy.linalg as lin # module for performing linear algebra operations"
     ],
     "language": "python",
     "metadata": {},
     "outputs": [],
     "prompt_number": 547
    },
    {
     "cell_type": "markdown",
     "metadata": {},
     "source": [
      "## Problem 1\n",
      "\n",
      "In this problem we will be using a [gene expression](http://en.wikipedia.org/wiki/Gene_expression) data set obtained from a [microarray](http://en.wikipedia.org/wiki/DNA_microarray) experiement [Read more about the specific experiment here](http://www.ncbi.nlm.nih.gov/geo/query/acc.cgi?acc=GSE5859).  There are two data sets we will use:  \n",
      "\n",
      "1. The gene expression intensities where the rows represent the features on the microarray (e.g. genes) and the columsns represent the different microarray samples.  \n",
      "\n",
      "2. A table that contains the information about each of the samples (columns in the gene expression data set) such as the sex, the age, the treatment status, the date the samples were processed.  Each row represents one sample. "
     ]
    },
    {
     "cell_type": "markdown",
     "metadata": {},
     "source": [
      "#### Problem 1(a) \n",
      "Read in the two files from Github: [exprs_GSE5859.csv](https://github.com/cs109/2014_data/blob/master/exprs_GSE5859.csv) and [sampleinfo_GSE5859.csv](https://github.com/cs109/2014_data/blob/master/sampleinfo_GSE5859.csv) as pandas DataFrames called `exprs` and `sampleinfo`. Use the gene names as the index of the `exprs` DataFrame."
     ]
    },
    {
     "cell_type": "code",
     "collapsed": false,
     "input": [
      "#your code here\n",
      "url = \"https://raw.githubusercontent.com/cs109/2014_data/master/exprs_GSE5859.csv\"\n",
      "exprs = pd.read_csv(url, sep=',')\n",
      "print exprs.head()\n",
      "exprs.index=exprs[exprs.columns[0]]\n",
      "print exprs.head()\n",
      "\n",
      "url = \"https://raw.githubusercontent.com/cs109/2014_data/master/sampleinfo_GSE5859.csv\"\n",
      "sampleinfo = pd.read_csv(url)"
     ],
     "language": "python",
     "metadata": {},
     "outputs": [
      {
       "output_type": "stream",
       "stream": "stdout",
       "text": [
        "  Unnamed: 0  GSM25581.CEL.gz  GSM25681.CEL.gz  GSM136524.CEL.gz  \\\n",
        "0  1007_s_at         6.333951         5.736190          6.156754   \n",
        "1    1053_at         7.255622         7.399993          7.491967   \n",
        "2     117_at         5.760106         4.825169          5.039387   \n",
        "3     121_at         6.935451         7.025210          7.543667   \n",
        "4  1255_g_at         3.597872         3.108801          3.128269   \n",
        "\n",
        "   GSM136707.CEL.gz  GSM25553.CEL.gz  GSM136676.CEL.gz  GSM136711.CEL.gz  \\\n",
        "0          6.513010         6.061013          6.506493          6.863426   \n",
        "1          7.006123         7.250995          7.082581          6.842236   \n",
        "2          5.414160         5.205697          5.300078          5.099337   \n",
        "3          7.959781         7.223323          8.006816          8.102504   \n",
        "4          3.364947         3.125909          3.186834          3.311022   \n",
        "\n",
        "   GSM136542.CEL.gz  GSM136535.CEL.gz        ...         GSM48650.CEL.gz  \\\n",
        "0          6.369645          6.646321        ...                7.082636   \n",
        "1          7.048487          7.042361        ...                6.599718   \n",
        "2          5.156459          5.736109        ...                6.231457   \n",
        "3          7.434617          7.532321        ...                8.215096   \n",
        "4          3.092042          3.167737        ...                3.331424   \n",
        "\n",
        "   GSM25687.CEL.gz  GSM25685.CEL.gz  GSM136549.CEL.gz  GSM25427.CEL.gz  \\\n",
        "0         6.315866         7.010165          6.460107         6.122355   \n",
        "1         7.412731         7.274429          6.928642         7.168782   \n",
        "2         5.240717         5.275062          5.759827         5.409720   \n",
        "3         7.677593         7.923624          7.219401         7.432338   \n",
        "4         3.043856         3.151900          3.132253         3.250600   \n",
        "\n",
        "   GSM25525.CEL.gz  GSM25349.CEL.gz  GSM136727.CEL.gz  GSM25626.CEL.gz  \\\n",
        "0         6.330314         6.627014          6.133068         6.419444   \n",
        "1         7.235648         6.939184          7.280781         6.351776   \n",
        "2         5.491938         5.113570          5.401876         5.537605   \n",
        "3         6.785174         7.833862          7.607461         7.302935   \n",
        "4         2.984125         3.152269          3.225123         3.222731   \n",
        "\n",
        "   GSM136725.CEL.gz  \n",
        "0          6.488579  \n",
        "1          7.517410  \n",
        "2          5.247190  \n",
        "3          7.331864  \n",
        "4          3.175846  \n",
        "\n",
        "[5 rows x 209 columns]\n",
        "           Unnamed: 0  GSM25581.CEL.gz  GSM25681.CEL.gz  GSM136524.CEL.gz  \\\n",
        "Unnamed: 0                                                                  \n",
        "1007_s_at   1007_s_at         6.333951         5.736190          6.156754   \n",
        "1053_at       1053_at         7.255622         7.399993          7.491967   \n",
        "117_at         117_at         5.760106         4.825169          5.039387   \n",
        "121_at         121_at         6.935451         7.025210          7.543667   \n",
        "1255_g_at   1255_g_at         3.597872         3.108801          3.128269   \n",
        "\n",
        "            GSM136707.CEL.gz  GSM25553.CEL.gz  GSM136676.CEL.gz  \\\n",
        "Unnamed: 0                                                        \n",
        "1007_s_at           6.513010         6.061013          6.506493   \n",
        "1053_at             7.006123         7.250995          7.082581   \n",
        "117_at              5.414160         5.205697          5.300078   \n",
        "121_at              7.959781         7.223323          8.006816   \n",
        "1255_g_at           3.364947         3.125909          3.186834   \n",
        "\n",
        "            GSM136711.CEL.gz  GSM136542.CEL.gz  GSM136535.CEL.gz  \\\n",
        "Unnamed: 0                                                         \n",
        "1007_s_at           6.863426          6.369645          6.646321   \n",
        "1053_at             6.842236          7.048487          7.042361   \n",
        "117_at              5.099337          5.156459          5.736109   \n",
        "121_at              8.102504          7.434617          7.532321   \n",
        "1255_g_at           3.311022          3.092042          3.167737   \n",
        "\n",
        "                  ...         GSM48650.CEL.gz  GSM25687.CEL.gz  \\\n",
        "Unnamed: 0        ...                                            \n",
        "1007_s_at         ...                7.082636         6.315866   \n",
        "1053_at           ...                6.599718         7.412731   \n",
        "117_at            ...                6.231457         5.240717   \n",
        "121_at            ...                8.215096         7.677593   \n",
        "1255_g_at         ...                3.331424         3.043856   \n",
        "\n",
        "            GSM25685.CEL.gz  GSM136549.CEL.gz  GSM25427.CEL.gz  \\\n",
        "Unnamed: 0                                                       \n",
        "1007_s_at          7.010165          6.460107         6.122355   \n",
        "1053_at            7.274429          6.928642         7.168782   \n",
        "117_at             5.275062          5.759827         5.409720   \n",
        "121_at             7.923624          7.219401         7.432338   \n",
        "1255_g_at          3.151900          3.132253         3.250600   \n",
        "\n",
        "            GSM25525.CEL.gz  GSM25349.CEL.gz  GSM136727.CEL.gz  \\\n",
        "Unnamed: 0                                                       \n",
        "1007_s_at          6.330314         6.627014          6.133068   \n",
        "1053_at            7.235648         6.939184          7.280781   \n",
        "117_at             5.491938         5.113570          5.401876   \n",
        "121_at             6.785174         7.833862          7.607461   \n",
        "1255_g_at          2.984125         3.152269          3.225123   \n",
        "\n",
        "            GSM25626.CEL.gz  GSM136725.CEL.gz  \n",
        "Unnamed: 0                                     \n",
        "1007_s_at          6.419444          6.488579  \n",
        "1053_at            6.351776          7.517410  \n",
        "117_at             5.537605          5.247190  \n",
        "121_at             7.302935          7.331864  \n",
        "1255_g_at          3.222731          3.175846  \n",
        "\n",
        "[5 rows x 209 columns]\n"
       ]
      }
     ],
     "prompt_number": 548
    },
    {
     "cell_type": "markdown",
     "metadata": {},
     "source": [
      "Make sure the order of the columns in the gene expression DataFrame match the order of file names in the sample annotation DataFrame. If the order of the columns the `exprs` DataFrame do not match the order of the file names in the `sampleinfo` DataFrame, reorder the columns in the `exprs` DataFrame. \n",
      "\n",
      "**Note**: The column names of the gene expression DataFrame are the filenames of the orignal files from which these data were obtained.  \n",
      "\n",
      "**Hint**: The method `list.index(x)` [[read here](https://docs.python.org/2/tutorial/datastructures.html)] can be used to return the index in the list of the first item whose value is x. It is an error if there is no such item. To check if the order of the columns in `exprs` matches the order of the rows in `sampleinfo`, you can check using the method `.all()` on a Boolean or list of Booleans: \n",
      "\n",
      "Example code: `(exprs.columns == sampleinfo.filename).all()`"
     ]
    },
    {
     "cell_type": "code",
     "collapsed": false,
     "input": [
      "#your code here\n",
      "exprs2 = exprs.ix[:, 1:]\n",
      "itemOrder = sampleinfo['filename']\n",
      "exprs2 = exprs2[itemOrder]\n",
      "print exprs2.head()\n",
      "print sampleinfo.head\n",
      "(exprs2.columns == sampleinfo.filename).all()"
     ],
     "language": "python",
     "metadata": {},
     "outputs": [
      {
       "output_type": "stream",
       "stream": "stdout",
       "text": [
        "            GSM25349.CEL.gz  GSM25350.CEL.gz  GSM25356.CEL.gz  \\\n",
        "Unnamed: 0                                                      \n",
        "1007_s_at          6.627014         6.249807         5.934128   \n",
        "1053_at            6.939184         6.818038         7.047962   \n",
        "117_at             5.113570         5.074096         5.371201   \n",
        "121_at             7.833862         7.780682         7.458197   \n",
        "1255_g_at          3.152269         3.111747         3.018932   \n",
        "\n",
        "            GSM25357.CEL.gz  GSM25358.CEL.gz  GSM25359.CEL.gz  \\\n",
        "Unnamed: 0                                                      \n",
        "1007_s_at          6.145268         6.091270         6.041186   \n",
        "1053_at            7.422477         7.272361         7.128216   \n",
        "117_at             5.266550         5.342047         5.063876   \n",
        "121_at             7.655948         7.546555         7.072670   \n",
        "1255_g_at          3.154545         3.107954         3.224284   \n",
        "\n",
        "            GSM25360.CEL.gz  GSM25361.CEL.gz  GSM25377.CEL.gz  \\\n",
        "Unnamed: 0                                                      \n",
        "1007_s_at          6.050375         6.063847         6.226106   \n",
        "1053_at            6.750719         6.836287         6.738022   \n",
        "117_at             5.315898         5.483652         6.689444   \n",
        "121_at             7.092984         6.954225         7.489785   \n",
        "1255_g_at          3.114241         3.044975         3.304038   \n",
        "\n",
        "            GSM25378.CEL.gz       ...         GSM136719.CEL.gz  \\\n",
        "Unnamed: 0                        ...                            \n",
        "1007_s_at          6.358282       ...                 6.466445   \n",
        "1053_at            7.367895       ...                 7.032885   \n",
        "117_at             6.482782       ...                 5.661112   \n",
        "121_at             7.388539       ...                 7.769734   \n",
        "1255_g_at          2.887919       ...                 3.257484   \n",
        "\n",
        "            GSM136720.CEL.gz  GSM136721.CEL.gz  GSM136722.CEL.gz  \\\n",
        "Unnamed: 0                                                         \n",
        "1007_s_at           6.533592          6.631492          6.513362   \n",
        "1053_at             7.156344          7.018025          6.973322   \n",
        "117_at              5.127260          5.151840          5.505602   \n",
        "121_at              7.815864          7.683279          7.883231   \n",
        "1255_g_at           3.339234          3.298384          3.150654   \n",
        "\n",
        "            GSM136723.CEL.gz  GSM136724.CEL.gz  GSM136725.CEL.gz  \\\n",
        "Unnamed: 0                                                         \n",
        "1007_s_at           6.440706          6.704324          6.488579   \n",
        "1053_at             6.884738          7.120898          7.517410   \n",
        "117_at              5.687689          4.942651          5.247190   \n",
        "121_at              7.913621          7.834196          7.331864   \n",
        "1255_g_at           3.344501          3.230285          3.175846   \n",
        "\n",
        "            GSM136726.CEL.gz  GSM136727.CEL.gz  GSM136729.CEL.gz  \n",
        "Unnamed: 0                                                        \n",
        "1007_s_at           6.809481          6.133068          6.155473  \n",
        "1053_at             7.200596          7.280781          7.111583  \n",
        "117_at              5.237239          5.401876          5.302628  \n",
        "121_at              7.357102          7.607461          7.456453  \n",
        "1255_g_at           3.105092          3.225123          3.090149  \n",
        "\n",
        "[5 rows x 208 columns]\n",
        "<bound method DataFrame.head of     ethnicity        date          filename sex\n",
        "0         CEU  2003-02-04   GSM25349.CEL.gz   M\n",
        "1         CEU  2003-02-04   GSM25350.CEL.gz   M\n",
        "2         CEU  2002-12-17   GSM25356.CEL.gz   M\n",
        "3         CEU  2003-01-30   GSM25357.CEL.gz   M\n",
        "4         CEU  2003-01-03   GSM25358.CEL.gz   M\n",
        "5         CEU  2003-01-16   GSM25359.CEL.gz   M\n",
        "6         CEU  2003-01-03   GSM25360.CEL.gz   F\n",
        "7         CEU  2003-02-04   GSM25361.CEL.gz   M\n",
        "8         CEU  2002-12-17   GSM25377.CEL.gz   M\n",
        "9         CEU  2002-12-17   GSM25378.CEL.gz   M\n",
        "10        CEU  2002-12-17   GSM25385.CEL.gz   M\n",
        "11        CEU  2003-01-03   GSM25386.CEL.gz   M\n",
        "12        CEU  2002-12-17   GSM25399.CEL.gz   F\n",
        "13        CEU  2002-12-17   GSM25400.CEL.gz   F\n",
        "14        CEU  2002-11-22   GSM25401.CEL.gz   M\n",
        "15        CEU  2002-12-06   GSM25402.CEL.gz   F\n",
        "16        CEU  2003-01-03   GSM25409.CEL.gz   M\n",
        "17        CEU  2003-02-21   GSM25410.CEL.gz   F\n",
        "18        CEU  2003-02-21   GSM25426.CEL.gz   M\n",
        "19        CEU  2002-12-19   GSM25427.CEL.gz   M\n",
        "20        CEU  2002-11-19   GSM25479.CEL.gz   M\n",
        "21        CEU  2002-11-21   GSM25480.CEL.gz   M\n",
        "22        CEU  2002-11-19   GSM25481.CEL.gz   F\n",
        "23        CEU  2002-11-21   GSM25482.CEL.gz   F\n",
        "24        CEU  2002-11-21   GSM25524.CEL.gz   M\n",
        "25        CEU  2002-11-27   GSM25525.CEL.gz   M\n",
        "26        CEU  2002-12-06   GSM25526.CEL.gz   M\n",
        "27        CEU  2002-12-06   GSM25527.CEL.gz   M\n",
        "28        CEU  2002-11-21   GSM25528.CEL.gz   M\n",
        "29        CEU  2002-11-27   GSM25529.CEL.gz   M\n",
        "..        ...         ...               ...  ..\n",
        "178       ASN  2005-12-21  GSM136672.CEL.gz   F\n",
        "179       ASN  2005-12-21  GSM136673.CEL.gz   M\n",
        "180       HAN  2006-04-28  GSM136674.CEL.gz   F\n",
        "181       HAN  2006-04-28  GSM136675.CEL.gz   F\n",
        "182       HAN  2006-04-28  GSM136676.CEL.gz   F\n",
        "183       HAN  2006-04-28  GSM136677.CEL.gz   M\n",
        "184       HAN  2006-04-28  GSM136705.CEL.gz   M\n",
        "185       HAN  2006-04-28  GSM136706.CEL.gz   F\n",
        "186       HAN  2006-04-28  GSM136707.CEL.gz   F\n",
        "187       HAN  2006-04-28  GSM136708.CEL.gz   F\n",
        "188       HAN  2006-04-28  GSM136709.CEL.gz   M\n",
        "189       HAN  2006-04-28  GSM136710.CEL.gz   F\n",
        "190       HAN  2006-04-28  GSM136711.CEL.gz   M\n",
        "191       HAN  2006-04-28  GSM136712.CEL.gz   F\n",
        "192       HAN  2006-04-28  GSM136713.CEL.gz   F\n",
        "193       HAN  2006-04-28  GSM136714.CEL.gz   M\n",
        "194       HAN  2006-04-28  GSM136715.CEL.gz   M\n",
        "195       HAN  2006-04-28  GSM136716.CEL.gz   M\n",
        "196       HAN  2006-04-28  GSM136717.CEL.gz   F\n",
        "197       HAN  2006-04-28  GSM136718.CEL.gz   M\n",
        "198       HAN  2006-04-28  GSM136719.CEL.gz   F\n",
        "199       HAN  2006-04-28  GSM136720.CEL.gz   M\n",
        "200       HAN  2006-04-28  GSM136721.CEL.gz   F\n",
        "201       HAN  2006-04-28  GSM136722.CEL.gz   F\n",
        "202       HAN  2006-04-28  GSM136723.CEL.gz   M\n",
        "203       HAN  2006-04-28  GSM136724.CEL.gz   M\n",
        "204       CEU  2005-02-16  GSM136725.CEL.gz   F\n",
        "205       CEU  2005-02-16  GSM136726.CEL.gz   M\n",
        "206       CEU  2005-06-10  GSM136727.CEL.gz   M\n",
        "207       ASN  2005-05-13  GSM136729.CEL.gz   M\n",
        "\n",
        "[208 rows x 4 columns]>\n"
       ]
      },
      {
       "metadata": {},
       "output_type": "pyout",
       "prompt_number": 549,
       "text": [
        "True"
       ]
      }
     ],
     "prompt_number": 549
    },
    {
     "cell_type": "markdown",
     "metadata": {},
     "source": [
      "Show the head of the two tables: `exprs` and `sampleinfo`. "
     ]
    },
    {
     "cell_type": "markdown",
     "metadata": {},
     "source": [
      "#### Problem 1(b)\n",
      "\n",
      "Extract the year and month as integers from the `sampleinfo` table. \n",
      "\n",
      "**Hint**: To convert a Series or a column of a pandas DataFrame that contains a date-like object, you can use the `to_datetime` function [[read here](http://pandas.pydata.org/pandas-docs/stable/timeseries.html)].  This will create a `DatetimeIndex` which can be used to extract the month and year for each row in the DataFrame. "
     ]
    },
    {
     "cell_type": "code",
     "collapsed": false,
     "input": [
      "#your code here\n",
      "date = pd.to_datetime(sampleinfo.date)\n",
      "date.head()"
     ],
     "language": "python",
     "metadata": {},
     "outputs": [
      {
       "metadata": {},
       "output_type": "pyout",
       "prompt_number": 550,
       "text": [
        "0   2003-02-04\n",
        "1   2003-02-04\n",
        "2   2002-12-17\n",
        "3   2003-01-30\n",
        "4   2003-01-03\n",
        "Name: date, dtype: datetime64[ns]"
       ]
      }
     ],
     "prompt_number": 550
    },
    {
     "cell_type": "markdown",
     "metadata": {},
     "source": [
      "#### Problem 1(c)\n",
      "\n",
      "Convert the dates in the `date` column from the `sampleinfo` table into days since October 31, 2002. Add a column to the `sampleinfo` DataFrame titled `elapsedInDays` containing the days since October 31, 2002.  Show the head of the `sampleinfo` DataFrame which includes the new column.  \n",
      "\n",
      "**Hint**: Use the `datetime` module to create a new `datetime` object for the specific date October 31, 2002. Then, subtract the October 31, 2002 date from each date from the `date` column in the `sampleinfo` DataFrame. "
     ]
    },
    {
     "cell_type": "code",
     "collapsed": false,
     "input": [
      "#your code here\n",
      "sampleinfo['elapsedInDays'] = pd.to_datetime(sampleinfo.date) - dt.date(2002, 10, 31)\n",
      "print sampleinfo.head()\n",
      "sampleinfo['elapsedInDays']"
     ],
     "language": "python",
     "metadata": {},
     "outputs": [
      {
       "output_type": "stream",
       "stream": "stdout",
       "text": [
        "  ethnicity        date         filename sex  elapsedInDays\n",
        "0       CEU  2003-02-04  GSM25349.CEL.gz   M        96 days\n",
        "1       CEU  2003-02-04  GSM25350.CEL.gz   M        96 days\n",
        "2       CEU  2002-12-17  GSM25356.CEL.gz   M        47 days\n",
        "3       CEU  2003-01-30  GSM25357.CEL.gz   M        91 days\n",
        "4       CEU  2003-01-03  GSM25358.CEL.gz   M        64 days\n"
       ]
      },
      {
       "metadata": {},
       "output_type": "pyout",
       "prompt_number": 551,
       "text": [
        "0    96 days\n",
        "1    96 days\n",
        "2    47 days\n",
        "3    91 days\n",
        "4    64 days\n",
        "5    77 days\n",
        "6    64 days\n",
        "7    96 days\n",
        "8    47 days\n",
        "9    47 days\n",
        "10   47 days\n",
        "11   64 days\n",
        "12   47 days\n",
        "13   47 days\n",
        "14   22 days\n",
        "...\n",
        "193   1275 days\n",
        "194   1275 days\n",
        "195   1275 days\n",
        "196   1275 days\n",
        "197   1275 days\n",
        "198   1275 days\n",
        "199   1275 days\n",
        "200   1275 days\n",
        "201   1275 days\n",
        "202   1275 days\n",
        "203   1275 days\n",
        "204    839 days\n",
        "205    839 days\n",
        "206    953 days\n",
        "207    925 days\n",
        "Name: elapsedInDays, Length: 208, dtype: timedelta64[ns]"
       ]
      }
     ],
     "prompt_number": 551
    },
    {
     "cell_type": "markdown",
     "metadata": {},
     "source": [
      "#### Problem 1(d)\n",
      "\n",
      "Use exploratory analysis and the singular value decomposition (SVD) of the gene expression data matrix to determine if the date the samples were processed has large effect on the variability seen in the data or if it is just ethnicity (which is confounded with date). \n",
      "\n",
      "**Hint**: See the end of the [lecture from 9/23/2014 for help with SVD](http://nbviewer.ipython.org/github/cs109/2014/blob/master/lectures/lecture07/data_scraping_transcript.ipynb). \n",
      "\n",
      "First subset the the `sampleinfo` DataFrame to include only the CEU ethnicity.  Call this new subsetted DataFrame `sampleinfoCEU`.  Show the head of `sampleinfoCEU` DataFrame. "
     ]
    },
    {
     "cell_type": "code",
     "collapsed": false,
     "input": [
      "exprs.head()"
     ],
     "language": "python",
     "metadata": {},
     "outputs": [
      {
       "html": [
        "<div style=\"max-height:1000px;max-width:1500px;overflow:auto;\">\n",
        "<table border=\"1\" class=\"dataframe\">\n",
        "  <thead>\n",
        "    <tr style=\"text-align: right;\">\n",
        "      <th></th>\n",
        "      <th>Unnamed: 0</th>\n",
        "      <th>GSM25581.CEL.gz</th>\n",
        "      <th>GSM25681.CEL.gz</th>\n",
        "      <th>GSM136524.CEL.gz</th>\n",
        "      <th>GSM136707.CEL.gz</th>\n",
        "      <th>GSM25553.CEL.gz</th>\n",
        "      <th>GSM136676.CEL.gz</th>\n",
        "      <th>GSM136711.CEL.gz</th>\n",
        "      <th>GSM136542.CEL.gz</th>\n",
        "      <th>GSM136535.CEL.gz</th>\n",
        "      <th>...</th>\n",
        "      <th>GSM48650.CEL.gz</th>\n",
        "      <th>GSM25687.CEL.gz</th>\n",
        "      <th>GSM25685.CEL.gz</th>\n",
        "      <th>GSM136549.CEL.gz</th>\n",
        "      <th>GSM25427.CEL.gz</th>\n",
        "      <th>GSM25525.CEL.gz</th>\n",
        "      <th>GSM25349.CEL.gz</th>\n",
        "      <th>GSM136727.CEL.gz</th>\n",
        "      <th>GSM25626.CEL.gz</th>\n",
        "      <th>GSM136725.CEL.gz</th>\n",
        "    </tr>\n",
        "    <tr>\n",
        "      <th>Unnamed: 0</th>\n",
        "      <th></th>\n",
        "      <th></th>\n",
        "      <th></th>\n",
        "      <th></th>\n",
        "      <th></th>\n",
        "      <th></th>\n",
        "      <th></th>\n",
        "      <th></th>\n",
        "      <th></th>\n",
        "      <th></th>\n",
        "      <th></th>\n",
        "      <th></th>\n",
        "      <th></th>\n",
        "      <th></th>\n",
        "      <th></th>\n",
        "      <th></th>\n",
        "      <th></th>\n",
        "      <th></th>\n",
        "      <th></th>\n",
        "      <th></th>\n",
        "      <th></th>\n",
        "    </tr>\n",
        "  </thead>\n",
        "  <tbody>\n",
        "    <tr>\n",
        "      <th>1007_s_at</th>\n",
        "      <td> 1007_s_at</td>\n",
        "      <td> 6.333951</td>\n",
        "      <td> 5.736190</td>\n",
        "      <td> 6.156754</td>\n",
        "      <td> 6.513010</td>\n",
        "      <td> 6.061013</td>\n",
        "      <td> 6.506493</td>\n",
        "      <td> 6.863426</td>\n",
        "      <td> 6.369645</td>\n",
        "      <td> 6.646321</td>\n",
        "      <td>...</td>\n",
        "      <td> 7.082636</td>\n",
        "      <td> 6.315866</td>\n",
        "      <td> 7.010165</td>\n",
        "      <td> 6.460107</td>\n",
        "      <td> 6.122355</td>\n",
        "      <td> 6.330314</td>\n",
        "      <td> 6.627014</td>\n",
        "      <td> 6.133068</td>\n",
        "      <td> 6.419444</td>\n",
        "      <td> 6.488579</td>\n",
        "    </tr>\n",
        "    <tr>\n",
        "      <th>1053_at</th>\n",
        "      <td>   1053_at</td>\n",
        "      <td> 7.255622</td>\n",
        "      <td> 7.399993</td>\n",
        "      <td> 7.491967</td>\n",
        "      <td> 7.006123</td>\n",
        "      <td> 7.250995</td>\n",
        "      <td> 7.082581</td>\n",
        "      <td> 6.842236</td>\n",
        "      <td> 7.048487</td>\n",
        "      <td> 7.042361</td>\n",
        "      <td>...</td>\n",
        "      <td> 6.599718</td>\n",
        "      <td> 7.412731</td>\n",
        "      <td> 7.274429</td>\n",
        "      <td> 6.928642</td>\n",
        "      <td> 7.168782</td>\n",
        "      <td> 7.235648</td>\n",
        "      <td> 6.939184</td>\n",
        "      <td> 7.280781</td>\n",
        "      <td> 6.351776</td>\n",
        "      <td> 7.517410</td>\n",
        "    </tr>\n",
        "    <tr>\n",
        "      <th>117_at</th>\n",
        "      <td>    117_at</td>\n",
        "      <td> 5.760106</td>\n",
        "      <td> 4.825169</td>\n",
        "      <td> 5.039387</td>\n",
        "      <td> 5.414160</td>\n",
        "      <td> 5.205697</td>\n",
        "      <td> 5.300078</td>\n",
        "      <td> 5.099337</td>\n",
        "      <td> 5.156459</td>\n",
        "      <td> 5.736109</td>\n",
        "      <td>...</td>\n",
        "      <td> 6.231457</td>\n",
        "      <td> 5.240717</td>\n",
        "      <td> 5.275062</td>\n",
        "      <td> 5.759827</td>\n",
        "      <td> 5.409720</td>\n",
        "      <td> 5.491938</td>\n",
        "      <td> 5.113570</td>\n",
        "      <td> 5.401876</td>\n",
        "      <td> 5.537605</td>\n",
        "      <td> 5.247190</td>\n",
        "    </tr>\n",
        "    <tr>\n",
        "      <th>121_at</th>\n",
        "      <td>    121_at</td>\n",
        "      <td> 6.935451</td>\n",
        "      <td> 7.025210</td>\n",
        "      <td> 7.543667</td>\n",
        "      <td> 7.959781</td>\n",
        "      <td> 7.223323</td>\n",
        "      <td> 8.006816</td>\n",
        "      <td> 8.102504</td>\n",
        "      <td> 7.434617</td>\n",
        "      <td> 7.532321</td>\n",
        "      <td>...</td>\n",
        "      <td> 8.215096</td>\n",
        "      <td> 7.677593</td>\n",
        "      <td> 7.923624</td>\n",
        "      <td> 7.219401</td>\n",
        "      <td> 7.432338</td>\n",
        "      <td> 6.785174</td>\n",
        "      <td> 7.833862</td>\n",
        "      <td> 7.607461</td>\n",
        "      <td> 7.302935</td>\n",
        "      <td> 7.331864</td>\n",
        "    </tr>\n",
        "    <tr>\n",
        "      <th>1255_g_at</th>\n",
        "      <td> 1255_g_at</td>\n",
        "      <td> 3.597872</td>\n",
        "      <td> 3.108801</td>\n",
        "      <td> 3.128269</td>\n",
        "      <td> 3.364947</td>\n",
        "      <td> 3.125909</td>\n",
        "      <td> 3.186834</td>\n",
        "      <td> 3.311022</td>\n",
        "      <td> 3.092042</td>\n",
        "      <td> 3.167737</td>\n",
        "      <td>...</td>\n",
        "      <td> 3.331424</td>\n",
        "      <td> 3.043856</td>\n",
        "      <td> 3.151900</td>\n",
        "      <td> 3.132253</td>\n",
        "      <td> 3.250600</td>\n",
        "      <td> 2.984125</td>\n",
        "      <td> 3.152269</td>\n",
        "      <td> 3.225123</td>\n",
        "      <td> 3.222731</td>\n",
        "      <td> 3.175846</td>\n",
        "    </tr>\n",
        "  </tbody>\n",
        "</table>\n",
        "<p>5 rows \u00d7 209 columns</p>\n",
        "</div>"
       ],
       "metadata": {},
       "output_type": "pyout",
       "prompt_number": 552,
       "text": [
        "           Unnamed: 0  GSM25581.CEL.gz  GSM25681.CEL.gz  GSM136524.CEL.gz  \\\n",
        "Unnamed: 0                                                                  \n",
        "1007_s_at   1007_s_at         6.333951         5.736190          6.156754   \n",
        "1053_at       1053_at         7.255622         7.399993          7.491967   \n",
        "117_at         117_at         5.760106         4.825169          5.039387   \n",
        "121_at         121_at         6.935451         7.025210          7.543667   \n",
        "1255_g_at   1255_g_at         3.597872         3.108801          3.128269   \n",
        "\n",
        "            GSM136707.CEL.gz  GSM25553.CEL.gz  GSM136676.CEL.gz  \\\n",
        "Unnamed: 0                                                        \n",
        "1007_s_at           6.513010         6.061013          6.506493   \n",
        "1053_at             7.006123         7.250995          7.082581   \n",
        "117_at              5.414160         5.205697          5.300078   \n",
        "121_at              7.959781         7.223323          8.006816   \n",
        "1255_g_at           3.364947         3.125909          3.186834   \n",
        "\n",
        "            GSM136711.CEL.gz  GSM136542.CEL.gz  GSM136535.CEL.gz  \\\n",
        "Unnamed: 0                                                         \n",
        "1007_s_at           6.863426          6.369645          6.646321   \n",
        "1053_at             6.842236          7.048487          7.042361   \n",
        "117_at              5.099337          5.156459          5.736109   \n",
        "121_at              8.102504          7.434617          7.532321   \n",
        "1255_g_at           3.311022          3.092042          3.167737   \n",
        "\n",
        "                  ...         GSM48650.CEL.gz  GSM25687.CEL.gz  \\\n",
        "Unnamed: 0        ...                                            \n",
        "1007_s_at         ...                7.082636         6.315866   \n",
        "1053_at           ...                6.599718         7.412731   \n",
        "117_at            ...                6.231457         5.240717   \n",
        "121_at            ...                8.215096         7.677593   \n",
        "1255_g_at         ...                3.331424         3.043856   \n",
        "\n",
        "            GSM25685.CEL.gz  GSM136549.CEL.gz  GSM25427.CEL.gz  \\\n",
        "Unnamed: 0                                                       \n",
        "1007_s_at          7.010165          6.460107         6.122355   \n",
        "1053_at            7.274429          6.928642         7.168782   \n",
        "117_at             5.275062          5.759827         5.409720   \n",
        "121_at             7.923624          7.219401         7.432338   \n",
        "1255_g_at          3.151900          3.132253         3.250600   \n",
        "\n",
        "            GSM25525.CEL.gz  GSM25349.CEL.gz  GSM136727.CEL.gz  \\\n",
        "Unnamed: 0                                                       \n",
        "1007_s_at          6.330314         6.627014          6.133068   \n",
        "1053_at            7.235648         6.939184          7.280781   \n",
        "117_at             5.491938         5.113570          5.401876   \n",
        "121_at             6.785174         7.833862          7.607461   \n",
        "1255_g_at          2.984125         3.152269          3.225123   \n",
        "\n",
        "            GSM25626.CEL.gz  GSM136725.CEL.gz  \n",
        "Unnamed: 0                                     \n",
        "1007_s_at          6.419444          6.488579  \n",
        "1053_at            6.351776          7.517410  \n",
        "117_at             5.537605          5.247190  \n",
        "121_at             7.302935          7.331864  \n",
        "1255_g_at          3.222731          3.175846  \n",
        "\n",
        "[5 rows x 209 columns]"
       ]
      }
     ],
     "prompt_number": 552
    },
    {
     "cell_type": "code",
     "collapsed": false,
     "input": [],
     "language": "python",
     "metadata": {},
     "outputs": [],
     "prompt_number": 552
    },
    {
     "cell_type": "code",
     "collapsed": false,
     "input": [
      "#your code here\n",
      "sampleinfoCEU = sampleinfo[sampleinfo['ethnicity'] == 'CEU']\n",
      "sampleinfoCEU.head()"
     ],
     "language": "python",
     "metadata": {},
     "outputs": [
      {
       "html": [
        "<div style=\"max-height:1000px;max-width:1500px;overflow:auto;\">\n",
        "<table border=\"1\" class=\"dataframe\">\n",
        "  <thead>\n",
        "    <tr style=\"text-align: right;\">\n",
        "      <th></th>\n",
        "      <th>ethnicity</th>\n",
        "      <th>date</th>\n",
        "      <th>filename</th>\n",
        "      <th>sex</th>\n",
        "      <th>elapsedInDays</th>\n",
        "    </tr>\n",
        "  </thead>\n",
        "  <tbody>\n",
        "    <tr>\n",
        "      <th>0</th>\n",
        "      <td> CEU</td>\n",
        "      <td> 2003-02-04</td>\n",
        "      <td> GSM25349.CEL.gz</td>\n",
        "      <td> M</td>\n",
        "      <td>96 days</td>\n",
        "    </tr>\n",
        "    <tr>\n",
        "      <th>1</th>\n",
        "      <td> CEU</td>\n",
        "      <td> 2003-02-04</td>\n",
        "      <td> GSM25350.CEL.gz</td>\n",
        "      <td> M</td>\n",
        "      <td>96 days</td>\n",
        "    </tr>\n",
        "    <tr>\n",
        "      <th>2</th>\n",
        "      <td> CEU</td>\n",
        "      <td> 2002-12-17</td>\n",
        "      <td> GSM25356.CEL.gz</td>\n",
        "      <td> M</td>\n",
        "      <td>47 days</td>\n",
        "    </tr>\n",
        "    <tr>\n",
        "      <th>3</th>\n",
        "      <td> CEU</td>\n",
        "      <td> 2003-01-30</td>\n",
        "      <td> GSM25357.CEL.gz</td>\n",
        "      <td> M</td>\n",
        "      <td>91 days</td>\n",
        "    </tr>\n",
        "    <tr>\n",
        "      <th>4</th>\n",
        "      <td> CEU</td>\n",
        "      <td> 2003-01-03</td>\n",
        "      <td> GSM25358.CEL.gz</td>\n",
        "      <td> M</td>\n",
        "      <td>64 days</td>\n",
        "    </tr>\n",
        "  </tbody>\n",
        "</table>\n",
        "</div>"
       ],
       "metadata": {},
       "output_type": "pyout",
       "prompt_number": 553,
       "text": [
        "  ethnicity        date         filename sex  elapsedInDays\n",
        "0       CEU  2003-02-04  GSM25349.CEL.gz   M        96 days\n",
        "1       CEU  2003-02-04  GSM25350.CEL.gz   M        96 days\n",
        "2       CEU  2002-12-17  GSM25356.CEL.gz   M        47 days\n",
        "3       CEU  2003-01-30  GSM25357.CEL.gz   M        91 days\n",
        "4       CEU  2003-01-03  GSM25358.CEL.gz   M        64 days"
       ]
      }
     ],
     "prompt_number": 553
    },
    {
     "cell_type": "code",
     "collapsed": false,
     "input": [
      "exprsCEU.head()"
     ],
     "language": "python",
     "metadata": {},
     "outputs": [
      {
       "html": [
        "<div style=\"max-height:1000px;max-width:1500px;overflow:auto;\">\n",
        "<table border=\"1\" class=\"dataframe\">\n",
        "  <thead>\n",
        "    <tr style=\"text-align: right;\">\n",
        "      <th></th>\n",
        "      <th>GSM25349.CEL.gz</th>\n",
        "      <th>GSM25350.CEL.gz</th>\n",
        "      <th>GSM25356.CEL.gz</th>\n",
        "      <th>GSM25357.CEL.gz</th>\n",
        "      <th>GSM25358.CEL.gz</th>\n",
        "      <th>GSM25359.CEL.gz</th>\n",
        "      <th>GSM25360.CEL.gz</th>\n",
        "      <th>GSM25361.CEL.gz</th>\n",
        "      <th>GSM25377.CEL.gz</th>\n",
        "      <th>GSM25378.CEL.gz</th>\n",
        "      <th>...</th>\n",
        "      <th>GSM48658.CEL.gz</th>\n",
        "      <th>GSM48660.CEL.gz</th>\n",
        "      <th>GSM48661.CEL.gz</th>\n",
        "      <th>GSM48662.CEL.gz</th>\n",
        "      <th>GSM48663.CEL.gz</th>\n",
        "      <th>GSM48664.CEL.gz</th>\n",
        "      <th>GSM48665.CEL.gz</th>\n",
        "      <th>GSM136725.CEL.gz</th>\n",
        "      <th>GSM136726.CEL.gz</th>\n",
        "      <th>GSM136727.CEL.gz</th>\n",
        "    </tr>\n",
        "    <tr>\n",
        "      <th>Unnamed: 0</th>\n",
        "      <th></th>\n",
        "      <th></th>\n",
        "      <th></th>\n",
        "      <th></th>\n",
        "      <th></th>\n",
        "      <th></th>\n",
        "      <th></th>\n",
        "      <th></th>\n",
        "      <th></th>\n",
        "      <th></th>\n",
        "      <th></th>\n",
        "      <th></th>\n",
        "      <th></th>\n",
        "      <th></th>\n",
        "      <th></th>\n",
        "      <th></th>\n",
        "      <th></th>\n",
        "      <th></th>\n",
        "      <th></th>\n",
        "      <th></th>\n",
        "      <th></th>\n",
        "    </tr>\n",
        "  </thead>\n",
        "  <tbody>\n",
        "    <tr>\n",
        "      <th>1007_s_at</th>\n",
        "      <td> 6.627014</td>\n",
        "      <td> 6.249807</td>\n",
        "      <td> 5.934128</td>\n",
        "      <td> 6.145268</td>\n",
        "      <td> 6.091270</td>\n",
        "      <td> 6.041186</td>\n",
        "      <td> 6.050375</td>\n",
        "      <td> 6.063847</td>\n",
        "      <td> 6.226106</td>\n",
        "      <td> 6.358282</td>\n",
        "      <td>...</td>\n",
        "      <td> 6.501510</td>\n",
        "      <td> 6.558100</td>\n",
        "      <td> 6.618286</td>\n",
        "      <td> 6.869995</td>\n",
        "      <td> 5.981000</td>\n",
        "      <td> 6.403285</td>\n",
        "      <td> 6.248702</td>\n",
        "      <td> 6.488579</td>\n",
        "      <td> 6.809481</td>\n",
        "      <td> 6.133068</td>\n",
        "    </tr>\n",
        "    <tr>\n",
        "      <th>1053_at</th>\n",
        "      <td> 6.939184</td>\n",
        "      <td> 6.818038</td>\n",
        "      <td> 7.047962</td>\n",
        "      <td> 7.422477</td>\n",
        "      <td> 7.272361</td>\n",
        "      <td> 7.128216</td>\n",
        "      <td> 6.750719</td>\n",
        "      <td> 6.836287</td>\n",
        "      <td> 6.738022</td>\n",
        "      <td> 7.367895</td>\n",
        "      <td>...</td>\n",
        "      <td> 7.066686</td>\n",
        "      <td> 7.386702</td>\n",
        "      <td> 6.407958</td>\n",
        "      <td> 7.089180</td>\n",
        "      <td> 7.120923</td>\n",
        "      <td> 7.018998</td>\n",
        "      <td> 7.155419</td>\n",
        "      <td> 7.517410</td>\n",
        "      <td> 7.200596</td>\n",
        "      <td> 7.280781</td>\n",
        "    </tr>\n",
        "    <tr>\n",
        "      <th>117_at</th>\n",
        "      <td> 5.113570</td>\n",
        "      <td> 5.074096</td>\n",
        "      <td> 5.371201</td>\n",
        "      <td> 5.266550</td>\n",
        "      <td> 5.342047</td>\n",
        "      <td> 5.063876</td>\n",
        "      <td> 5.315898</td>\n",
        "      <td> 5.483652</td>\n",
        "      <td> 6.689444</td>\n",
        "      <td> 6.482782</td>\n",
        "      <td>...</td>\n",
        "      <td> 5.600514</td>\n",
        "      <td> 5.232676</td>\n",
        "      <td> 5.630720</td>\n",
        "      <td> 4.944748</td>\n",
        "      <td> 5.275577</td>\n",
        "      <td> 5.770358</td>\n",
        "      <td> 5.616842</td>\n",
        "      <td> 5.247190</td>\n",
        "      <td> 5.237239</td>\n",
        "      <td> 5.401876</td>\n",
        "    </tr>\n",
        "    <tr>\n",
        "      <th>121_at</th>\n",
        "      <td> 7.833862</td>\n",
        "      <td> 7.780682</td>\n",
        "      <td> 7.458197</td>\n",
        "      <td> 7.655948</td>\n",
        "      <td> 7.546555</td>\n",
        "      <td> 7.072670</td>\n",
        "      <td> 7.092984</td>\n",
        "      <td> 6.954225</td>\n",
        "      <td> 7.489785</td>\n",
        "      <td> 7.388539</td>\n",
        "      <td>...</td>\n",
        "      <td> 7.437535</td>\n",
        "      <td> 7.714650</td>\n",
        "      <td> 7.416252</td>\n",
        "      <td> 7.746448</td>\n",
        "      <td> 8.001434</td>\n",
        "      <td> 7.626723</td>\n",
        "      <td> 7.452299</td>\n",
        "      <td> 7.331864</td>\n",
        "      <td> 7.357102</td>\n",
        "      <td> 7.607461</td>\n",
        "    </tr>\n",
        "    <tr>\n",
        "      <th>1255_g_at</th>\n",
        "      <td> 3.152269</td>\n",
        "      <td> 3.111747</td>\n",
        "      <td> 3.018932</td>\n",
        "      <td> 3.154545</td>\n",
        "      <td> 3.107954</td>\n",
        "      <td> 3.224284</td>\n",
        "      <td> 3.114241</td>\n",
        "      <td> 3.044975</td>\n",
        "      <td> 3.304038</td>\n",
        "      <td> 2.887919</td>\n",
        "      <td>...</td>\n",
        "      <td> 3.009983</td>\n",
        "      <td> 3.151203</td>\n",
        "      <td> 3.199709</td>\n",
        "      <td> 3.159496</td>\n",
        "      <td> 3.149710</td>\n",
        "      <td> 3.242780</td>\n",
        "      <td> 3.433125</td>\n",
        "      <td> 3.175846</td>\n",
        "      <td> 3.105092</td>\n",
        "      <td> 3.225123</td>\n",
        "    </tr>\n",
        "  </tbody>\n",
        "</table>\n",
        "<p>5 rows \u00d7 102 columns</p>\n",
        "</div>"
       ],
       "metadata": {},
       "output_type": "pyout",
       "prompt_number": 554,
       "text": [
        "            GSM25349.CEL.gz  GSM25350.CEL.gz  GSM25356.CEL.gz  \\\n",
        "Unnamed: 0                                                      \n",
        "1007_s_at          6.627014         6.249807         5.934128   \n",
        "1053_at            6.939184         6.818038         7.047962   \n",
        "117_at             5.113570         5.074096         5.371201   \n",
        "121_at             7.833862         7.780682         7.458197   \n",
        "1255_g_at          3.152269         3.111747         3.018932   \n",
        "\n",
        "            GSM25357.CEL.gz  GSM25358.CEL.gz  GSM25359.CEL.gz  \\\n",
        "Unnamed: 0                                                      \n",
        "1007_s_at          6.145268         6.091270         6.041186   \n",
        "1053_at            7.422477         7.272361         7.128216   \n",
        "117_at             5.266550         5.342047         5.063876   \n",
        "121_at             7.655948         7.546555         7.072670   \n",
        "1255_g_at          3.154545         3.107954         3.224284   \n",
        "\n",
        "            GSM25360.CEL.gz  GSM25361.CEL.gz  GSM25377.CEL.gz  \\\n",
        "Unnamed: 0                                                      \n",
        "1007_s_at          6.050375         6.063847         6.226106   \n",
        "1053_at            6.750719         6.836287         6.738022   \n",
        "117_at             5.315898         5.483652         6.689444   \n",
        "121_at             7.092984         6.954225         7.489785   \n",
        "1255_g_at          3.114241         3.044975         3.304038   \n",
        "\n",
        "            GSM25378.CEL.gz       ...         GSM48658.CEL.gz  \\\n",
        "Unnamed: 0                        ...                           \n",
        "1007_s_at          6.358282       ...                6.501510   \n",
        "1053_at            7.367895       ...                7.066686   \n",
        "117_at             6.482782       ...                5.600514   \n",
        "121_at             7.388539       ...                7.437535   \n",
        "1255_g_at          2.887919       ...                3.009983   \n",
        "\n",
        "            GSM48660.CEL.gz  GSM48661.CEL.gz  GSM48662.CEL.gz  \\\n",
        "Unnamed: 0                                                      \n",
        "1007_s_at          6.558100         6.618286         6.869995   \n",
        "1053_at            7.386702         6.407958         7.089180   \n",
        "117_at             5.232676         5.630720         4.944748   \n",
        "121_at             7.714650         7.416252         7.746448   \n",
        "1255_g_at          3.151203         3.199709         3.159496   \n",
        "\n",
        "            GSM48663.CEL.gz  GSM48664.CEL.gz  GSM48665.CEL.gz  \\\n",
        "Unnamed: 0                                                      \n",
        "1007_s_at          5.981000         6.403285         6.248702   \n",
        "1053_at            7.120923         7.018998         7.155419   \n",
        "117_at             5.275577         5.770358         5.616842   \n",
        "121_at             8.001434         7.626723         7.452299   \n",
        "1255_g_at          3.149710         3.242780         3.433125   \n",
        "\n",
        "            GSM136725.CEL.gz  GSM136726.CEL.gz  GSM136727.CEL.gz  \n",
        "Unnamed: 0                                                        \n",
        "1007_s_at           6.488579          6.809481          6.133068  \n",
        "1053_at             7.517410          7.200596          7.280781  \n",
        "117_at              5.247190          5.237239          5.401876  \n",
        "121_at              7.331864          7.357102          7.607461  \n",
        "1255_g_at           3.175846          3.105092          3.225123  \n",
        "\n",
        "[5 rows x 102 columns]"
       ]
      }
     ],
     "prompt_number": 554
    },
    {
     "cell_type": "markdown",
     "metadata": {},
     "source": [
      "Next, subset the `exprs` DataFrame to only include the samples with the CEU ethnicity. Name this new subsetted DataFrame `exprsCEU`. Show the head of the `exprsCEU` DataFrame. "
     ]
    },
    {
     "cell_type": "code",
     "collapsed": false,
     "input": [
      "# your code here\n",
      "# initialize expersCEU\n",
      "exprsCEU = exprs2\n",
      "\n",
      "# set dataframe to cases we do not want to be included in final dataframe\n",
      "a = sampleinfo[sampleinfo.ethnicity != 'CEU']\n",
      "for i in a.filename.tolist():\n",
      "    # take out cases we don't want\n",
      "    exprsCEU = exprsCEU.drop(i, axis = 1)\n"
     ],
     "language": "python",
     "metadata": {},
     "outputs": [],
     "prompt_number": 555
    },
    {
     "cell_type": "markdown",
     "metadata": {},
     "source": [
      "Check to make sure the order of the columns in the `exprsCEU` DataFrame matches the rows in the `sampleinfoCEU` DataFrame.  "
     ]
    },
    {
     "cell_type": "code",
     "collapsed": false,
     "input": [
      "#your code here\n",
      "(exprsCEU.columns == sampleinfoCEU.filename)"
     ],
     "language": "python",
     "metadata": {},
     "outputs": [
      {
       "metadata": {},
       "output_type": "pyout",
       "prompt_number": 556,
       "text": [
        "0     True\n",
        "1     True\n",
        "2     True\n",
        "3     True\n",
        "4     True\n",
        "5     True\n",
        "6     True\n",
        "7     True\n",
        "8     True\n",
        "9     True\n",
        "10    True\n",
        "11    True\n",
        "12    True\n",
        "13    True\n",
        "14    True\n",
        "...\n",
        "87     True\n",
        "88     True\n",
        "89     True\n",
        "90     True\n",
        "91     True\n",
        "92     True\n",
        "93     True\n",
        "94     True\n",
        "95     True\n",
        "96     True\n",
        "97     True\n",
        "98     True\n",
        "204    True\n",
        "205    True\n",
        "206    True\n",
        "Name: filename, Length: 102, dtype: bool"
       ]
      }
     ],
     "prompt_number": 556
    },
    {
     "cell_type": "markdown",
     "metadata": {},
     "source": [
      "Compute the average gene expression intensity in the `exprsCEU` DataFrame across all the samples. For each sample in the `exprsCEU` DataFrame, subtract the average gene expression intensity from each of the samples. Show the head of the mean normalized gene expression data.  "
     ]
    },
    {
     "cell_type": "code",
     "collapsed": false,
     "input": [
      "#your code here\n",
      "average = exprsCEU.sub(exprsCEU.mean(axis = 1), axis = 0)\n",
      "average.head()"
     ],
     "language": "python",
     "metadata": {},
     "outputs": [
      {
       "html": [
        "<div style=\"max-height:1000px;max-width:1500px;overflow:auto;\">\n",
        "<table border=\"1\" class=\"dataframe\">\n",
        "  <thead>\n",
        "    <tr style=\"text-align: right;\">\n",
        "      <th></th>\n",
        "      <th>GSM25349.CEL.gz</th>\n",
        "      <th>GSM25350.CEL.gz</th>\n",
        "      <th>GSM25356.CEL.gz</th>\n",
        "      <th>GSM25357.CEL.gz</th>\n",
        "      <th>GSM25358.CEL.gz</th>\n",
        "      <th>GSM25359.CEL.gz</th>\n",
        "      <th>GSM25360.CEL.gz</th>\n",
        "      <th>GSM25361.CEL.gz</th>\n",
        "      <th>GSM25377.CEL.gz</th>\n",
        "      <th>GSM25378.CEL.gz</th>\n",
        "      <th>...</th>\n",
        "      <th>GSM48658.CEL.gz</th>\n",
        "      <th>GSM48660.CEL.gz</th>\n",
        "      <th>GSM48661.CEL.gz</th>\n",
        "      <th>GSM48662.CEL.gz</th>\n",
        "      <th>GSM48663.CEL.gz</th>\n",
        "      <th>GSM48664.CEL.gz</th>\n",
        "      <th>GSM48665.CEL.gz</th>\n",
        "      <th>GSM136725.CEL.gz</th>\n",
        "      <th>GSM136726.CEL.gz</th>\n",
        "      <th>GSM136727.CEL.gz</th>\n",
        "    </tr>\n",
        "    <tr>\n",
        "      <th>Unnamed: 0</th>\n",
        "      <th></th>\n",
        "      <th></th>\n",
        "      <th></th>\n",
        "      <th></th>\n",
        "      <th></th>\n",
        "      <th></th>\n",
        "      <th></th>\n",
        "      <th></th>\n",
        "      <th></th>\n",
        "      <th></th>\n",
        "      <th></th>\n",
        "      <th></th>\n",
        "      <th></th>\n",
        "      <th></th>\n",
        "      <th></th>\n",
        "      <th></th>\n",
        "      <th></th>\n",
        "      <th></th>\n",
        "      <th></th>\n",
        "      <th></th>\n",
        "      <th></th>\n",
        "    </tr>\n",
        "  </thead>\n",
        "  <tbody>\n",
        "    <tr>\n",
        "      <th>1007_s_at</th>\n",
        "      <td> 0.365059</td>\n",
        "      <td>-0.012149</td>\n",
        "      <td>-0.327827</td>\n",
        "      <td>-0.116687</td>\n",
        "      <td>-0.170685</td>\n",
        "      <td>-0.220769</td>\n",
        "      <td>-0.211580</td>\n",
        "      <td>-0.198109</td>\n",
        "      <td>-0.035849</td>\n",
        "      <td> 0.096327</td>\n",
        "      <td>...</td>\n",
        "      <td> 0.239554</td>\n",
        "      <td> 0.296144</td>\n",
        "      <td> 0.356331</td>\n",
        "      <td> 0.608040</td>\n",
        "      <td>-0.280956</td>\n",
        "      <td> 0.141330</td>\n",
        "      <td>-0.013254</td>\n",
        "      <td> 0.226624</td>\n",
        "      <td> 0.547526</td>\n",
        "      <td>-0.128887</td>\n",
        "    </tr>\n",
        "    <tr>\n",
        "      <th>1053_at</th>\n",
        "      <td>-0.136032</td>\n",
        "      <td>-0.257178</td>\n",
        "      <td>-0.027254</td>\n",
        "      <td> 0.347260</td>\n",
        "      <td> 0.197144</td>\n",
        "      <td> 0.053000</td>\n",
        "      <td>-0.324497</td>\n",
        "      <td>-0.238930</td>\n",
        "      <td>-0.337195</td>\n",
        "      <td> 0.292678</td>\n",
        "      <td>...</td>\n",
        "      <td>-0.008531</td>\n",
        "      <td> 0.311485</td>\n",
        "      <td>-0.667259</td>\n",
        "      <td> 0.013964</td>\n",
        "      <td> 0.045706</td>\n",
        "      <td>-0.056219</td>\n",
        "      <td> 0.080203</td>\n",
        "      <td> 0.442193</td>\n",
        "      <td> 0.125379</td>\n",
        "      <td> 0.205564</td>\n",
        "    </tr>\n",
        "    <tr>\n",
        "      <th>117_at</th>\n",
        "      <td>-0.490556</td>\n",
        "      <td>-0.530031</td>\n",
        "      <td>-0.232926</td>\n",
        "      <td>-0.337577</td>\n",
        "      <td>-0.262080</td>\n",
        "      <td>-0.540250</td>\n",
        "      <td>-0.288228</td>\n",
        "      <td>-0.120475</td>\n",
        "      <td> 1.085317</td>\n",
        "      <td> 0.878655</td>\n",
        "      <td>...</td>\n",
        "      <td>-0.003613</td>\n",
        "      <td>-0.371451</td>\n",
        "      <td> 0.026594</td>\n",
        "      <td>-0.659379</td>\n",
        "      <td>-0.328549</td>\n",
        "      <td> 0.166231</td>\n",
        "      <td> 0.012716</td>\n",
        "      <td>-0.356936</td>\n",
        "      <td>-0.366887</td>\n",
        "      <td>-0.202251</td>\n",
        "    </tr>\n",
        "    <tr>\n",
        "      <th>121_at</th>\n",
        "      <td> 0.418026</td>\n",
        "      <td> 0.364847</td>\n",
        "      <td> 0.042362</td>\n",
        "      <td> 0.240113</td>\n",
        "      <td> 0.130720</td>\n",
        "      <td>-0.343165</td>\n",
        "      <td>-0.322852</td>\n",
        "      <td>-0.461611</td>\n",
        "      <td> 0.073949</td>\n",
        "      <td>-0.027296</td>\n",
        "      <td>...</td>\n",
        "      <td> 0.021700</td>\n",
        "      <td> 0.298814</td>\n",
        "      <td> 0.000417</td>\n",
        "      <td> 0.330612</td>\n",
        "      <td> 0.585598</td>\n",
        "      <td> 0.210887</td>\n",
        "      <td> 0.036463</td>\n",
        "      <td>-0.083972</td>\n",
        "      <td>-0.058733</td>\n",
        "      <td> 0.191626</td>\n",
        "    </tr>\n",
        "    <tr>\n",
        "      <th>1255_g_at</th>\n",
        "      <td> 0.018335</td>\n",
        "      <td>-0.022187</td>\n",
        "      <td>-0.115002</td>\n",
        "      <td> 0.020611</td>\n",
        "      <td>-0.025980</td>\n",
        "      <td> 0.090351</td>\n",
        "      <td>-0.019693</td>\n",
        "      <td>-0.088959</td>\n",
        "      <td> 0.170104</td>\n",
        "      <td>-0.246015</td>\n",
        "      <td>...</td>\n",
        "      <td>-0.123951</td>\n",
        "      <td> 0.017269</td>\n",
        "      <td> 0.065775</td>\n",
        "      <td> 0.025562</td>\n",
        "      <td> 0.015776</td>\n",
        "      <td> 0.108846</td>\n",
        "      <td> 0.299192</td>\n",
        "      <td> 0.041912</td>\n",
        "      <td>-0.028842</td>\n",
        "      <td> 0.091189</td>\n",
        "    </tr>\n",
        "  </tbody>\n",
        "</table>\n",
        "<p>5 rows \u00d7 102 columns</p>\n",
        "</div>"
       ],
       "metadata": {},
       "output_type": "pyout",
       "prompt_number": 557,
       "text": [
        "            GSM25349.CEL.gz  GSM25350.CEL.gz  GSM25356.CEL.gz  \\\n",
        "Unnamed: 0                                                      \n",
        "1007_s_at          0.365059        -0.012149        -0.327827   \n",
        "1053_at           -0.136032        -0.257178        -0.027254   \n",
        "117_at            -0.490556        -0.530031        -0.232926   \n",
        "121_at             0.418026         0.364847         0.042362   \n",
        "1255_g_at          0.018335        -0.022187        -0.115002   \n",
        "\n",
        "            GSM25357.CEL.gz  GSM25358.CEL.gz  GSM25359.CEL.gz  \\\n",
        "Unnamed: 0                                                      \n",
        "1007_s_at         -0.116687        -0.170685        -0.220769   \n",
        "1053_at            0.347260         0.197144         0.053000   \n",
        "117_at            -0.337577        -0.262080        -0.540250   \n",
        "121_at             0.240113         0.130720        -0.343165   \n",
        "1255_g_at          0.020611        -0.025980         0.090351   \n",
        "\n",
        "            GSM25360.CEL.gz  GSM25361.CEL.gz  GSM25377.CEL.gz  \\\n",
        "Unnamed: 0                                                      \n",
        "1007_s_at         -0.211580        -0.198109        -0.035849   \n",
        "1053_at           -0.324497        -0.238930        -0.337195   \n",
        "117_at            -0.288228        -0.120475         1.085317   \n",
        "121_at            -0.322852        -0.461611         0.073949   \n",
        "1255_g_at         -0.019693        -0.088959         0.170104   \n",
        "\n",
        "            GSM25378.CEL.gz       ...         GSM48658.CEL.gz  \\\n",
        "Unnamed: 0                        ...                           \n",
        "1007_s_at          0.096327       ...                0.239554   \n",
        "1053_at            0.292678       ...               -0.008531   \n",
        "117_at             0.878655       ...               -0.003613   \n",
        "121_at            -0.027296       ...                0.021700   \n",
        "1255_g_at         -0.246015       ...               -0.123951   \n",
        "\n",
        "            GSM48660.CEL.gz  GSM48661.CEL.gz  GSM48662.CEL.gz  \\\n",
        "Unnamed: 0                                                      \n",
        "1007_s_at          0.296144         0.356331         0.608040   \n",
        "1053_at            0.311485        -0.667259         0.013964   \n",
        "117_at            -0.371451         0.026594        -0.659379   \n",
        "121_at             0.298814         0.000417         0.330612   \n",
        "1255_g_at          0.017269         0.065775         0.025562   \n",
        "\n",
        "            GSM48663.CEL.gz  GSM48664.CEL.gz  GSM48665.CEL.gz  \\\n",
        "Unnamed: 0                                                      \n",
        "1007_s_at         -0.280956         0.141330        -0.013254   \n",
        "1053_at            0.045706        -0.056219         0.080203   \n",
        "117_at            -0.328549         0.166231         0.012716   \n",
        "121_at             0.585598         0.210887         0.036463   \n",
        "1255_g_at          0.015776         0.108846         0.299192   \n",
        "\n",
        "            GSM136725.CEL.gz  GSM136726.CEL.gz  GSM136727.CEL.gz  \n",
        "Unnamed: 0                                                        \n",
        "1007_s_at           0.226624          0.547526         -0.128887  \n",
        "1053_at             0.442193          0.125379          0.205564  \n",
        "117_at             -0.356936         -0.366887         -0.202251  \n",
        "121_at             -0.083972         -0.058733          0.191626  \n",
        "1255_g_at           0.041912         -0.028842          0.091189  \n",
        "\n",
        "[5 rows x 102 columns]"
       ]
      }
     ],
     "prompt_number": 557
    },
    {
     "cell_type": "markdown",
     "metadata": {},
     "source": [
      "Using this mean normalized gene expression data, compute the projection to the first Principal Component (PC1).  \n",
      "\n",
      "**Hint**: Use the `numpy.linalg.svd()` function in the `numpy.linalg` module (or the `scipy.linalg.svd()` function in the `scipy.linalg` module) to apply an [singular value decomposition](http://en.wikipedia.org/wiki/Singular_value_decomposition) to a matrix.  "
     ]
    },
    {
     "cell_type": "code",
     "collapsed": false,
     "input": [
      "#your code here\n",
      "# Borrowed from Lecture 9-23\n",
      "import scipy\n",
      "U,s,Vh = scipy.linalg.svd(average)\n",
      "V = Vh.T\n",
      "PC1 = V[:,0]\n",
      "PC1"
     ],
     "language": "python",
     "metadata": {},
     "outputs": [
      {
       "metadata": {},
       "output_type": "pyout",
       "prompt_number": 558,
       "text": [
        "array([-0.04120114, -0.04667916,  0.02323035, -0.04903385,  0.02067446,\n",
        "        0.00849423,  0.08821779,  0.04838172,  0.13460391, -0.03017646,\n",
        "        0.08654261,  0.14043381,  0.21930879,  0.03978106,  0.11992376,\n",
        "        0.04268799,  0.11985249, -0.05684066, -0.03694419, -0.01812362,\n",
        "        0.04161478,  0.02348047, -0.05006068, -0.07296809,  0.09099799,\n",
        "        0.02919139,  0.08667385,  0.0647991 ,  0.13766969,  0.07781195,\n",
        "        0.17033074,  0.14079489,  0.04714323,  0.05139931, -0.009227  ,\n",
        "       -0.00585961, -0.11769737, -0.11599353, -0.11487241, -0.092238  ,\n",
        "       -0.09957034, -0.095896  ,  0.0892303 ,  0.07410897,  0.10914693,\n",
        "        0.03136527, -0.03967716, -0.0501878 , -0.04329991, -0.12438774,\n",
        "       -0.13463256, -0.12336567,  0.07493342,  0.01826555,  0.0799834 ,\n",
        "        0.07549475, -0.00115702,  0.07315554,  0.15729431,  0.05652619,\n",
        "        0.1644683 ,  0.05000546,  0.21200927, -0.0613037 ,  0.19636458,\n",
        "        0.12149494,  0.07012485,  0.02767612,  0.08828195,  0.14606184,\n",
        "        0.08919145,  0.02147918,  0.03192572,  0.10087003, -0.06104988,\n",
        "       -0.03967277, -0.07288471, -0.07107135, -0.13895184, -0.09413529,\n",
        "       -0.11676884, -0.08881673, -0.15359387, -0.14454156, -0.07446876,\n",
        "       -0.10316128, -0.10463461, -0.08131313, -0.05857071, -0.15407442,\n",
        "       -0.08907973, -0.10892828, -0.06635543, -0.12361361, -0.07950414,\n",
        "       -0.11481073, -0.12713809,  0.12118024,  0.07247287, -0.12743916,\n",
        "       -0.19476468, -0.1864145 ])"
       ]
      }
     ],
     "prompt_number": 558
    },
    {
     "cell_type": "markdown",
     "metadata": {},
     "source": [
      "Create a histogram using the values from PC1.  Use a bin size of 25.  "
     ]
    },
    {
     "cell_type": "code",
     "collapsed": false,
     "input": [
      "#your code here\n",
      "plt.hist(PC1, bins = 25)"
     ],
     "language": "python",
     "metadata": {},
     "outputs": [
      {
       "metadata": {},
       "output_type": "pyout",
       "prompt_number": 559,
       "text": [
        "(array([  2.,   0.,   2.,   3.,  10.,   5.,   6.,   5.,   8.,   6.,   1.,\n",
        "          3.,   2.,   8.,   7.,   3.,   9.,   6.,   3.,   3.,   4.,   2.,\n",
        "          1.,   1.,   2.]),\n",
        " array([-0.19476468, -0.17820174, -0.1616388 , -0.14507587, -0.12851293,\n",
        "        -0.11194999, -0.09538705, -0.07882411, -0.06226117, -0.04569823,\n",
        "        -0.02913529, -0.01257235,  0.00399058,  0.02055352,  0.03711646,\n",
        "         0.0536794 ,  0.07024234,  0.08680528,  0.10336822,  0.11993116,\n",
        "         0.13649409,  0.15305703,  0.16961997,  0.18618291,  0.20274585,\n",
        "         0.21930879]),\n",
        " <a list of 25 Patch objects>)"
       ]
      },
      {
       "metadata": {},
       "output_type": "display_data",
       "png": "[encoded data removed]",
       "text": [
        "<matplotlib.figure.Figure at 0x10af0c910>"
       ]
      }
     ],
     "prompt_number": 559
    },
    {
     "cell_type": "markdown",
     "metadata": {},
     "source": [
      "Create a scatter plot with the days since October 31, 2002 on the x-axis and PC1 on the y-axis."
     ]
    },
    {
     "cell_type": "code",
     "collapsed": false,
     "input": [
      "#your code here\n",
      "V = Vh.T\n",
      "plt.scatter(sampleinfoCEU['elapsedInDays'].astype(int), PC1)\n",
      "plt.show()"
     ],
     "language": "python",
     "metadata": {},
     "outputs": [
      {
       "metadata": {},
       "output_type": "display_data",
       "png": "[encoded data removed]",
       "text": [
        "<matplotlib.figure.Figure at 0x10cdb1d10>"
       ]
      }
     ],
     "prompt_number": 560
    },
    {
     "cell_type": "markdown",
     "metadata": {},
     "source": [
      "Around what day do you notice a difference in the way the samples were processed?"
     ]
    },
    {
     "cell_type": "code",
     "collapsed": false,
     "input": [
      "#your code here\n"
     ],
     "language": "python",
     "metadata": {},
     "outputs": [],
     "prompt_number": 561
    },
    {
     "cell_type": "markdown",
     "metadata": {},
     "source": [
      "Answer: Normalized, the day we notice a big difference at .18."
     ]
    },
    {
     "cell_type": "markdown",
     "metadata": {},
     "source": [
      "## Discussion for Problem 1\n",
      "\n",
      "*Write a brief discussion of your conclusions to the questions and tasks above in 100 words or less.*\n",
      "\n",
      "---\n",
      "\n",
      "Using Singular Value Decomposition we see a sharp discontinuity in the way that samples are being processed. We got rid of confounding variables by using a particular ethnicity. This works because any effect that was dependent on ethnicity should be effectively controlled for. "
     ]
    },
    {
     "cell_type": "markdown",
     "metadata": {},
     "source": [
      "## Problem 2: Is there a pollster bias in presidential election polls?"
     ]
    },
    {
     "cell_type": "markdown",
     "metadata": {},
     "source": [
      "#### Problem 2(a)\n",
      "\n",
      "The [HuffPost Pollster](http://elections.huffingtonpost.com/pollster) contains many political polls. You can access these polls from individual races as a CSV but you can also access polls through the [HuffPost Pollster API](http://elections.huffingtonpost.com/pollster/api) to access the data.  \n",
      "\n",
      "Read in the polls from the [2012 Presidential Election: Barack Obama vs Mitt Romney](http://elections.huffingtonpost.com/pollster/2012-general-election-romney-vs-obama) into a pandas DataFrame called `election`. For this problem, you may read in the polls for this race directly using [the CSV file](http://elections.huffingtonpost.com/pollster/2012-general-election-romney-vs-obama.csv) available from the HuffPost Pollster page."
     ]
    },
    {
     "cell_type": "code",
     "collapsed": false,
     "input": [
      "#your code here\n",
      "url = \"http://elections.huffingtonpost.com/pollster/2012-general-election-romney-vs-obama.csv\"\n",
      "election = pd.read_csv(url, sep=',')"
     ],
     "language": "python",
     "metadata": {},
     "outputs": [],
     "prompt_number": 562
    },
    {
     "cell_type": "markdown",
     "metadata": {},
     "source": [
      "Show the head of the `election` DataFrame. "
     ]
    },
    {
     "cell_type": "code",
     "collapsed": false,
     "input": [
      "#your code here\n",
      "print election.head()\n",
      "print election.describe()"
     ],
     "language": "python",
     "metadata": {},
     "outputs": [
      {
       "output_type": "stream",
       "stream": "stdout",
       "text": [
        "                    Pollster  Start Date    End Date Entry Date/Time (ET)  \\\n",
        "0  Politico/GWU/Battleground  2012-11-04  2012-11-05  2012-11-06 08:40:26   \n",
        "1                 UPI/CVOTER  2012-11-03  2012-11-05  2012-11-05 18:30:15   \n",
        "2           Gravis Marketing  2012-11-03  2012-11-05  2012-11-06 09:22:02   \n",
        "3       JZ Analytics/Newsmax  2012-11-03  2012-11-05  2012-11-06 07:38:41   \n",
        "4                  Rasmussen  2012-11-03  2012-11-05  2012-11-06 08:47:50   \n",
        "\n",
        "   Number of Observations     Population             Mode  Obama  Romney  \\\n",
        "0                    1000  Likely Voters       Live Phone     47      47   \n",
        "1                    3000  Likely Voters       Live Phone     49      48   \n",
        "2                     872  Likely Voters  Automated Phone     48      48   \n",
        "3                    1041  Likely Voters         Internet     47      47   \n",
        "4                    1500  Likely Voters  Automated Phone     48      49   \n",
        "\n",
        "   Undecided                                       Pollster URL  \\\n",
        "0          6  http://elections.huffingtonpost.com/pollster/p...   \n",
        "1        NaN  http://elections.huffingtonpost.com/pollster/p...   \n",
        "2          4  http://elections.huffingtonpost.com/pollster/p...   \n",
        "3          6  http://elections.huffingtonpost.com/pollster/p...   \n",
        "4        NaN  http://elections.huffingtonpost.com/pollster/p...   \n",
        "\n",
        "                                          Source URL     Partisan Affiliation  \n",
        "0  http://www.politico.com/news/stories/1112/8338...  Nonpartisan        None  \n",
        "1                                                NaN  Nonpartisan        None  \n",
        "2  http://www.gravispolls.com/2012/11/gravis-mark...  Nonpartisan        None  \n",
        "3                        http://www.jzanalytics.com/      Sponsor         Rep  \n",
        "4  http://www.rasmussenreports.com/public_content...  Nonpartisan        None  \n",
        "       Number of Observations       Obama      Romney   Undecided\n",
        "count              567.000000  589.000000  589.000000  422.000000\n",
        "mean              1296.197531   46.772496   44.573854    6.549763\n",
        "std               1617.552964    2.448627    2.927711    3.702235\n",
        "min                328.000000   37.000000   32.000000    1.000000\n",
        "25%                856.500000   45.000000   43.000000    4.000000\n",
        "50%               1000.000000   47.000000   45.000000    6.000000\n",
        "75%               1500.000000   48.000000   46.000000    8.000000\n",
        "max              36472.000000   54.000000   53.000000   28.000000\n"
       ]
      }
     ],
     "prompt_number": 563
    },
    {
     "cell_type": "markdown",
     "metadata": {},
     "source": [
      "How many polls were conducted in November? Define this number as M.  \n",
      "\n",
      "**Hint**: Subset the `election` DataFrame for only dates in the `Start Date` column that are in November 2012.  "
     ]
    },
    {
     "cell_type": "raw",
     "metadata": {},
     "source": []
    },
    {
     "cell_type": "code",
     "collapsed": false,
     "input": [
      "#your code here\n",
      "# november = np.asarray(pd.date_range(start = '1/11/2012', end = '1/12/2012'))\n",
      "# election['Start Date'] = pd.DatetimeIndex(election.datetime).date\n",
      "# nov = pd.to_datetime(election.startdate)\n",
      "election = election[(election['Start Date'] >= \"2012-11-01\") & (election['Start Date'] <= \"2012-11-30\")]\n",
      "election.shape\n",
      "M = 19"
     ],
     "language": "python",
     "metadata": {},
     "outputs": [],
     "prompt_number": 564
    },
    {
     "cell_type": "markdown",
     "metadata": {},
     "source": [
      "Answer: 19 polls were conducted in November."
     ]
    },
    {
     "cell_type": "markdown",
     "metadata": {},
     "source": [
      "What was the median of the number of observations in the November polls? Define this quantity as N. "
     ]
    },
    {
     "cell_type": "code",
     "collapsed": false,
     "input": [
      "#your code here\n",
      "election = election.sort(columns = 'Number of Observations')\n",
      "N = 1200"
     ],
     "language": "python",
     "metadata": {},
     "outputs": [],
     "prompt_number": 565
    },
    {
     "cell_type": "markdown",
     "metadata": {},
     "source": [
      "Answer: The median number of observations was 1200, at median element PPP"
     ]
    },
    {
     "cell_type": "markdown",
     "metadata": {},
     "source": [
      "#### Problem 2(b)\n",
      "\n",
      "Using the median sample size $N$ from Problem 1(a), simulate the results from a single poll:  simulate the number of votes for Obama out of a sample size $N$ where $p$ = 0.53 is the percent of voters who are voting for Obama.  \n",
      "\n",
      "**Hint**: Use the binomial distribution with parameters $N$ and $p$ = 0.53. "
     ]
    },
    {
     "cell_type": "code",
     "collapsed": false,
     "input": [
      "#your code here\n",
      "from scipy.stats import binom\n",
      "dist = np.random.binomial(N, .53)\n",
      "dist"
     ],
     "language": "python",
     "metadata": {},
     "outputs": [
      {
       "metadata": {},
       "output_type": "pyout",
       "prompt_number": 566,
       "text": [
        "638"
       ]
      }
     ],
     "prompt_number": 566
    },
    {
     "cell_type": "markdown",
     "metadata": {},
     "source": [
      "Now, perform a Monte Carlo simulation to obtain the estimated percentage of Obama votes with a sample size $N$ where $N$ is the median sample size calculated in Problem 2(a). Let $p$=0.53 be the percent of voters are voting for Obama. \n",
      "\n",
      "**Hint**: You will repeat the simulation above 1,000 times and plot the distribution of the estimated *percent* of Obama votes from a single poll.  The results from the single poll you simulate is random variable and will be different every time you sample. "
     ]
    },
    {
     "cell_type": "code",
     "collapsed": false,
     "input": [
      "#your code here\n",
      "sim = []\n",
      "for i in range(1000):\n",
      "    sim.append(np.mean((np.random.binomial(N, .53)))/N)"
     ],
     "language": "python",
     "metadata": {},
     "outputs": [],
     "prompt_number": 567
    },
    {
     "cell_type": "markdown",
     "metadata": {},
     "source": [
      "Plot the distribution of the estimated percentage of Obama votes from your single poll. What is the distribution of the estimated percentage of Obama votes? "
     ]
    },
    {
     "cell_type": "code",
     "collapsed": false,
     "input": [
      "#your code here\n",
      "histogram = plt.hist(sim, bins=50)"
     ],
     "language": "python",
     "metadata": {},
     "outputs": [
      {
       "metadata": {},
       "output_type": "display_data",
       "png": "[encoded data removed]",
       "text": [
        "<matplotlib.figure.Figure at 0x10df53450>"
       ]
      }
     ],
     "prompt_number": 568
    },
    {
     "cell_type": "markdown",
     "metadata": {},
     "source": [
      "Answer: The distribution of the estimated percentage of Obama votes is normal. "
     ]
    },
    {
     "cell_type": "markdown",
     "metadata": {},
     "source": [
      "What is the standard error (SE) of the estimated percentage from the poll. \n",
      "\n",
      "**Hint**: Remember the SE is the standard deviation (SD) of the distribution of a random variable. "
     ]
    },
    {
     "cell_type": "code",
     "collapsed": false,
     "input": [
      "#your code here\n",
      "sd = np.std(sim)*100\n",
      "sd"
     ],
     "language": "python",
     "metadata": {},
     "outputs": [
      {
       "metadata": {},
       "output_type": "pyout",
       "prompt_number": 569,
       "text": [
        "1.4064456678687138"
       ]
      }
     ],
     "prompt_number": 569
    },
    {
     "cell_type": "markdown",
     "metadata": {},
     "source": [
      "#### Problem 2(c)\n",
      "\n",
      "Now suppose we run M polls where M is the number of polls that happened in November (calculated in Problem 2(a)). Run 1,000 simulations and compute the mean of the M polls for each simulation. "
     ]
    },
    {
     "cell_type": "code",
     "collapsed": false,
     "input": [
      "#your code here\n",
      "#sum, divide by length (.sum)\n",
      "sim2 = []\n",
      "sim3 = []\n",
      "for i in range(1000):\n",
      "    for j in range(M):\n",
      "        sim2.append(np.mean(np.random.binomial(N, .53))/N)\n",
      "    mean = np.mean(sim2)\n",
      "    sim3.append(mean)"
     ],
     "language": "python",
     "metadata": {},
     "outputs": [],
     "prompt_number": 570
    },
    {
     "cell_type": "markdown",
     "metadata": {},
     "source": [
      "What is the distribution of the average of polls?\n",
      "\n",
      "**Hint**: Show a plot. "
     ]
    },
    {
     "cell_type": "code",
     "collapsed": false,
     "input": [
      "#your code here\n",
      "histogram = plt.hist(sim2, bins=50)"
     ],
     "language": "python",
     "metadata": {},
     "outputs": [
      {
       "metadata": {},
       "output_type": "display_data",
       "png": "[encoded data removed]",
       "text": [
        "<matplotlib.figure.Figure at 0x119bd2410>"
       ]
      }
     ],
     "prompt_number": 571
    },
    {
     "cell_type": "markdown",
     "metadata": {},
     "source": [
      "Answer: "
     ]
    },
    {
     "cell_type": "markdown",
     "metadata": {},
     "source": [
      "What is the standard error (SE) of the average of polls? "
     ]
    },
    {
     "cell_type": "code",
     "collapsed": false,
     "input": [
      "#your code here\n",
      "sd2 = np.std(sim2)*100\n",
      "sd2"
     ],
     "language": "python",
     "metadata": {},
     "outputs": [
      {
       "metadata": {},
       "output_type": "pyout",
       "prompt_number": 572,
       "text": [
        "1.4261374103515381"
       ]
      }
     ],
     "prompt_number": 572
    },
    {
     "cell_type": "markdown",
     "metadata": {},
     "source": [
      "Answer: "
     ]
    },
    {
     "cell_type": "markdown",
     "metadata": {},
     "source": [
      "Is the SE of the average of polls larger, the same, or smaller than that the SD of a single poll (calculated in Problem 2(b))? By how much?\n",
      "\n",
      "**Hint**: Compute a ratio of the two quantities.  "
     ]
    },
    {
     "cell_type": "code",
     "collapsed": false,
     "input": [
      "#your code here\n",
      "sd2/sd"
     ],
     "language": "python",
     "metadata": {},
     "outputs": [
      {
       "metadata": {},
       "output_type": "pyout",
       "prompt_number": 573,
       "text": [
        "1.0140010687456307"
       ]
      }
     ],
     "prompt_number": 573
    },
    {
     "cell_type": "markdown",
     "metadata": {},
     "source": [
      "Answer: The SE of the average of polls is smaller than the SD of a single pole. The ratio between them is 0.980."
     ]
    },
    {
     "cell_type": "markdown",
     "metadata": {},
     "source": [
      "#### Problem 2(d) \n",
      "\n",
      "Repeat Problem 2(c) but now record the *across poll* standard deviation in each simulation. "
     ]
    },
    {
     "cell_type": "code",
     "collapsed": false,
     "input": [
      "#your code here\n",
      "dsim2 = []\n",
      "dsim3 = []\n",
      "for i in range(1000):\n",
      "    for j in range(M):\n",
      "        dsim2.append(np.std(np.random.binomial(N, .53)))\n",
      "    across_std = np.mean(dsim2)\n",
      "    dsim3.append(across_std)"
     ],
     "language": "python",
     "metadata": {},
     "outputs": [],
     "prompt_number": 599
    },
    {
     "cell_type": "markdown",
     "metadata": {},
     "source": [
      "What is the distribution of the *across M polls* standard deviation?\n",
      "\n",
      "**Hint**: Show a plot. "
     ]
    },
    {
     "cell_type": "code",
     "collapsed": false,
     "input": [
      "#your code here\n",
      "histogram = plt.hist(dsim3, bins=50)"
     ],
     "language": "python",
     "metadata": {},
     "outputs": [
      {
       "metadata": {},
       "output_type": "display_data",
       "png": "[encoded data removed]",
       "text": [
        "<matplotlib.figure.Figure at 0x10af72b50>"
       ]
      }
     ],
     "prompt_number": 600
    },
    {
     "cell_type": "markdown",
     "metadata": {},
     "source": [
      "Answer: "
     ]
    },
    {
     "cell_type": "markdown",
     "metadata": {},
     "source": [
      "#### Problem 2(e) \n",
      "\n",
      "What is the standard deviation of M polls in our real (not simulated) 2012 presidential election data ? "
     ]
    },
    {
     "cell_type": "code",
     "collapsed": false,
     "input": [
      "#your code here\n",
      "obama = (election['Obama'])\n",
      "standard_dev = np.std(obama)\n",
      "standard_dev"
     ],
     "language": "python",
     "metadata": {},
     "outputs": [
      {
       "metadata": {},
       "output_type": "pyout",
       "prompt_number": 576,
       "text": [
        "1.0552598766190702"
       ]
      }
     ],
     "prompt_number": 576
    },
    {
     "cell_type": "markdown",
     "metadata": {},
     "source": [
      "Is this larger, the same, or smaller than what we expeced if polls were not biased."
     ]
    },
    {
     "cell_type": "code",
     "collapsed": false,
     "input": [
      "#your code here\n",
      "standard_dev/sd2"
     ],
     "language": "python",
     "metadata": {},
     "outputs": [
      {
       "metadata": {},
       "output_type": "pyout",
       "prompt_number": 577,
       "text": [
        "0.73994263733601395"
       ]
      }
     ],
     "prompt_number": 577
    },
    {
     "cell_type": "markdown",
     "metadata": {},
     "source": [
      "Answer: This standard deviation is substantially smaller (ratio is .732) that we would expect if our polls were not biased."
     ]
    },
    {
     "cell_type": "markdown",
     "metadata": {},
     "source": [
      "#### Problem 2(f)\n",
      "\n",
      "**For AC209 Students**: Learn about the normal appoximation for the binomial distribution and derive the results of Problem 2(b) and 2(c) analytically (using this approximation). Compare the results obtained analytically to those obtained from simulations."
     ]
    },
    {
     "cell_type": "code",
     "collapsed": false,
     "input": [
      "#your code here"
     ],
     "language": "python",
     "metadata": {},
     "outputs": [],
     "prompt_number": 578
    },
    {
     "cell_type": "markdown",
     "metadata": {},
     "source": [
      "Answer: "
     ]
    },
    {
     "cell_type": "markdown",
     "metadata": {},
     "source": [
      "## Discussion for Problem 2\n",
      "\n",
      "*Write a brief discussion of your conclusions to the questions and tasks above in 100 words or less.*\n",
      "\n",
      "---\n",
      "\n",
      "\n",
      "The standard error of the average of polls has been shown to be lower than the standard deviation of a particular poll. This indicates that we can generate predictions with better confidence bounds by taking as many polls as we can into account. We also have substantial evidence for bias in our polls. The standard deviation of an unbased simulation is much smaller than we have for our polls. The additional deviation indicates bias."
     ]
    },
    {
     "cell_type": "markdown",
     "metadata": {},
     "source": [
      "## Problem 3: Is the average of polls better than just one poll?"
     ]
    },
    {
     "cell_type": "markdown",
     "metadata": {},
     "source": [
      "#### Problem 3(a)\n",
      "\n",
      "Most undecided voters vote for one of the two candidates at the election. Therefore, the reported percentages underestimate the final value of both candidates. However, if we assume the undecided will split evenly, then the observed difference should be an unbiased estimate of the final difference. \n",
      "\n",
      "Add a new column to the `election` DataFrame containg the difference between Obama and Romeny called `Diff`. "
     ]
    },
    {
     "cell_type": "code",
     "collapsed": false,
     "input": [
      "#your code here\n",
      "election['Diff'] = (election['Obama']-election['Romney']) \n",
      "election.head()"
     ],
     "language": "python",
     "metadata": {},
     "outputs": [
      {
       "html": [
        "<div style=\"max-height:1000px;max-width:1500px;overflow:auto;\">\n",
        "<table border=\"1\" class=\"dataframe\">\n",
        "  <thead>\n",
        "    <tr style=\"text-align: right;\">\n",
        "      <th></th>\n",
        "      <th>Pollster</th>\n",
        "      <th>Start Date</th>\n",
        "      <th>End Date</th>\n",
        "      <th>Entry Date/Time (ET)</th>\n",
        "      <th>Number of Observations</th>\n",
        "      <th>Population</th>\n",
        "      <th>Mode</th>\n",
        "      <th>Obama</th>\n",
        "      <th>Romney</th>\n",
        "      <th>Undecided</th>\n",
        "      <th>Pollster URL</th>\n",
        "      <th>Source URL</th>\n",
        "      <th>Partisan</th>\n",
        "      <th>Affiliation</th>\n",
        "      <th>Diff</th>\n",
        "    </tr>\n",
        "  </thead>\n",
        "  <tbody>\n",
        "    <tr>\n",
        "      <th>9</th>\n",
        "      <td>                       CNN</td>\n",
        "      <td> 2012-11-02</td>\n",
        "      <td> 2012-11-04</td>\n",
        "      <td> 2012-11-04 20:16:09</td>\n",
        "      <td>  693</td>\n",
        "      <td> Likely Voters</td>\n",
        "      <td>      Live Phone</td>\n",
        "      <td> 49</td>\n",
        "      <td> 49</td>\n",
        "      <td>  2</td>\n",
        "      <td> http://elections.huffingtonpost.com/pollster/p...</td>\n",
        "      <td> http://i2.cdn.turner.com/cnn/2012/images/11/04...</td>\n",
        "      <td> Nonpartisan</td>\n",
        "      <td> None</td>\n",
        "      <td> 0</td>\n",
        "    </tr>\n",
        "    <tr>\n",
        "      <th>5</th>\n",
        "      <td>                  IBD/TIPP</td>\n",
        "      <td> 2012-11-03</td>\n",
        "      <td> 2012-11-05</td>\n",
        "      <td> 2012-11-06 08:51:48</td>\n",
        "      <td>  712</td>\n",
        "      <td> Likely Voters</td>\n",
        "      <td>      Live Phone</td>\n",
        "      <td> 50</td>\n",
        "      <td> 49</td>\n",
        "      <td>NaN</td>\n",
        "      <td> http://elections.huffingtonpost.com/pollster/p...</td>\n",
        "      <td> http://news.investors.com/special-report/50841...</td>\n",
        "      <td> Nonpartisan</td>\n",
        "      <td> None</td>\n",
        "      <td> 1</td>\n",
        "    </tr>\n",
        "    <tr>\n",
        "      <th>6</th>\n",
        "      <td>          YouGov/Economist</td>\n",
        "      <td> 2012-11-03</td>\n",
        "      <td> 2012-11-05</td>\n",
        "      <td> 2012-11-26 15:31:23</td>\n",
        "      <td>  740</td>\n",
        "      <td> Likely Voters</td>\n",
        "      <td>        Internet</td>\n",
        "      <td> 49</td>\n",
        "      <td> 47</td>\n",
        "      <td>  3</td>\n",
        "      <td> http://elections.huffingtonpost.com/pollster/p...</td>\n",
        "      <td> http://cdn.yougov.com/cumulus_uploads/document...</td>\n",
        "      <td> Nonpartisan</td>\n",
        "      <td> None</td>\n",
        "      <td> 2</td>\n",
        "    </tr>\n",
        "    <tr>\n",
        "      <th>2</th>\n",
        "      <td>          Gravis Marketing</td>\n",
        "      <td> 2012-11-03</td>\n",
        "      <td> 2012-11-05</td>\n",
        "      <td> 2012-11-06 09:22:02</td>\n",
        "      <td>  872</td>\n",
        "      <td> Likely Voters</td>\n",
        "      <td> Automated Phone</td>\n",
        "      <td> 48</td>\n",
        "      <td> 48</td>\n",
        "      <td>  4</td>\n",
        "      <td> http://elections.huffingtonpost.com/pollster/p...</td>\n",
        "      <td> http://www.gravispolls.com/2012/11/gravis-mark...</td>\n",
        "      <td> Nonpartisan</td>\n",
        "      <td> None</td>\n",
        "      <td> 0</td>\n",
        "    </tr>\n",
        "    <tr>\n",
        "      <th>0</th>\n",
        "      <td> Politico/GWU/Battleground</td>\n",
        "      <td> 2012-11-04</td>\n",
        "      <td> 2012-11-05</td>\n",
        "      <td> 2012-11-06 08:40:26</td>\n",
        "      <td> 1000</td>\n",
        "      <td> Likely Voters</td>\n",
        "      <td>      Live Phone</td>\n",
        "      <td> 47</td>\n",
        "      <td> 47</td>\n",
        "      <td>  6</td>\n",
        "      <td> http://elections.huffingtonpost.com/pollster/p...</td>\n",
        "      <td> http://www.politico.com/news/stories/1112/8338...</td>\n",
        "      <td> Nonpartisan</td>\n",
        "      <td> None</td>\n",
        "      <td> 0</td>\n",
        "    </tr>\n",
        "  </tbody>\n",
        "</table>\n",
        "</div>"
       ],
       "metadata": {},
       "output_type": "pyout",
       "prompt_number": 579,
       "text": [
        "                    Pollster  Start Date    End Date Entry Date/Time (ET)  \\\n",
        "9                        CNN  2012-11-02  2012-11-04  2012-11-04 20:16:09   \n",
        "5                   IBD/TIPP  2012-11-03  2012-11-05  2012-11-06 08:51:48   \n",
        "6           YouGov/Economist  2012-11-03  2012-11-05  2012-11-26 15:31:23   \n",
        "2           Gravis Marketing  2012-11-03  2012-11-05  2012-11-06 09:22:02   \n",
        "0  Politico/GWU/Battleground  2012-11-04  2012-11-05  2012-11-06 08:40:26   \n",
        "\n",
        "   Number of Observations     Population             Mode  Obama  Romney  \\\n",
        "9                     693  Likely Voters       Live Phone     49      49   \n",
        "5                     712  Likely Voters       Live Phone     50      49   \n",
        "6                     740  Likely Voters         Internet     49      47   \n",
        "2                     872  Likely Voters  Automated Phone     48      48   \n",
        "0                    1000  Likely Voters       Live Phone     47      47   \n",
        "\n",
        "   Undecided                                       Pollster URL  \\\n",
        "9          2  http://elections.huffingtonpost.com/pollster/p...   \n",
        "5        NaN  http://elections.huffingtonpost.com/pollster/p...   \n",
        "6          3  http://elections.huffingtonpost.com/pollster/p...   \n",
        "2          4  http://elections.huffingtonpost.com/pollster/p...   \n",
        "0          6  http://elections.huffingtonpost.com/pollster/p...   \n",
        "\n",
        "                                          Source URL     Partisan Affiliation  \\\n",
        "9  http://i2.cdn.turner.com/cnn/2012/images/11/04...  Nonpartisan        None   \n",
        "5  http://news.investors.com/special-report/50841...  Nonpartisan        None   \n",
        "6  http://cdn.yougov.com/cumulus_uploads/document...  Nonpartisan        None   \n",
        "2  http://www.gravispolls.com/2012/11/gravis-mark...  Nonpartisan        None   \n",
        "0  http://www.politico.com/news/stories/1112/8338...  Nonpartisan        None   \n",
        "\n",
        "   Diff  \n",
        "9     0  \n",
        "5     1  \n",
        "6     2  \n",
        "2     0  \n",
        "0     0  "
       ]
      }
     ],
     "prompt_number": 579
    },
    {
     "cell_type": "markdown",
     "metadata": {},
     "source": [
      "#### Problem 3(b)\n",
      "\n",
      "Make a plot of the differences for the week before the election (e.g. 5 days) where the days are on the x-axis and the differences are on the y-axis.  Add a horizontal line showing 3.9%: the difference between Obama and Romney on election day."
     ]
    },
    {
     "cell_type": "code",
     "collapsed": false,
     "input": [
      "#your code here\n",
      "x = pd.to_datetime(election['Start Date']).astype('int64')\n",
      "plt.scatter(x, election['Diff'])\n"
     ],
     "language": "python",
     "metadata": {},
     "outputs": [
      {
       "metadata": {},
       "output_type": "pyout",
       "prompt_number": 580,
       "text": [
        "<matplotlib.collections.PathCollection at 0x10ac01f10>"
       ]
      },
      {
       "metadata": {},
       "output_type": "display_data",
       "png": "[encoded data removed]",
       "text": [
        "<matplotlib.figure.Figure at 0x119b8dd10>"
       ]
      }
     ],
     "prompt_number": 580
    },
    {
     "cell_type": "heading",
     "level": 4,
     "metadata": {},
     "source": [
      "#### Problem 3(c) \n",
      "\n",
      "Make a plot showing the differences by pollster where the pollsters are on the x-axis and the differences on the y-axis. "
     ]
    },
    {
     "cell_type": "code",
     "collapsed": false,
     "input": [
      "#your code here\n",
      "plt.scatter(election.index, election['Diff'])\n",
      "plt.ylabel(\"Obama - Romney\")\n",
      "plt.xlabel(\"Pollster Index\")\n",
      "plt.hlines(3.9, -5, 25, lw=1)\n",
      "\n",
      "#Heavily influenced by lecture 8\n",
      "election.boxplot(column = \"Diff\", by = \"Pollster\")\n",
      "x = list(set(election[\"Pollster\"]))\n",
      "\n",
      "x.sort()\n",
      "x = [x.index(poll)+1 for poll in election[\"Pollster\"]]\n",
      "plt.scatter(y = election[\"Diff\"], x = x)\n",
      "plt.hlines(3.9, 0, len(set(election[\"Pollster\"]))+1, lw=1)\n",
      "plt.xticks(rotation=90)\n",
      "plt.ylabel(\"Obama - Romney\")\n",
      "plt.xlabel(\"Pollster Index\")"
     ],
     "language": "python",
     "metadata": {},
     "outputs": [
      {
       "metadata": {},
       "output_type": "pyout",
       "prompt_number": 581,
       "text": [
        "<matplotlib.text.Text at 0x10ed1f7d0>"
       ]
      },
      {
       "metadata": {},
       "output_type": "display_data",
       "png": "[encoded data removed]",
       "text": [
        "<matplotlib.figure.Figure at 0x10c95a910>"
       ]
      },
      {
       "metadata": {},
       "output_type": "display_data",
       "png": "[encoded data removed]",
       "text": [
        "<matplotlib.figure.Figure at 0x10af453d0>"
       ]
      }
     ],
     "prompt_number": 581
    },
    {
     "cell_type": "markdown",
     "metadata": {},
     "source": [
      "Is the *across poll* difference larger than the *between pollster* difference? "
     ]
    },
    {
     "cell_type": "markdown",
     "metadata": {},
     "source": [
      "Answer: We can see that the difference between particular polls is greater than the difference between a particular poll and the mean - visually, they all center vaguely around the same mean."
     ]
    },
    {
     "cell_type": "markdown",
     "metadata": {},
     "source": [
      "#### Problem 3(d)\n",
      "\n",
      "Take the average for each pollster and then compute the average of that. Given this difference how confident would you have been of an Obama victory?\n",
      "\n",
      "**Hint**: Compute an estimate of the SE of this average based exclusively on the observed data. "
     ]
    },
    {
     "cell_type": "code",
     "collapsed": false,
     "input": [
      "#your code here\n",
      "estimate = np.mean(np.std(election['Obama']))\n",
      "estimate"
     ],
     "language": "python",
     "metadata": {},
     "outputs": [
      {
       "metadata": {},
       "output_type": "pyout",
       "prompt_number": 582,
       "text": [
        "1.0552598766190702"
       ]
      }
     ],
     "prompt_number": 582
    },
    {
     "cell_type": "markdown",
     "metadata": {},
     "source": [
      "Answer: The estimate of the SE is 1.055."
     ]
    },
    {
     "cell_type": "markdown",
     "metadata": {},
     "source": [
      "#### Problem 3(e)\n",
      "\n",
      "**For AC209 Students**: Show the difference against time and see if you can detect a trend towards the end. Use this trend to see if it improves the final estimate."
     ]
    },
    {
     "cell_type": "code",
     "collapsed": false,
     "input": [
      "#your code here"
     ],
     "language": "python",
     "metadata": {},
     "outputs": [],
     "prompt_number": 583
    },
    {
     "cell_type": "markdown",
     "metadata": {},
     "source": [
      "Answer: "
     ]
    },
    {
     "cell_type": "markdown",
     "metadata": {},
     "source": [
      "## Discussion for Problem 3\n",
      "\n",
      "*Write a brief discussion of your conclusions to the questions and tasks above in 100 words or less.*\n",
      "\n",
      "---\n",
      "\n",
      "By taking the average of polls, we can generate a better prediction for the outcome of the election than by using any poll alone. Our result in 3b shows us that the difference between particular polls is greater than the difference between a particular poll and the mean - visually, they all center vaguely around the same mean."
     ]
    },
    {
     "cell_type": "markdown",
     "metadata": {},
     "source": [
      "## Problem 4\n",
      "\n",
      "In this last problem, we will use the polls from the [2014 Senate Midterm Elections](http://elections.huffingtonpost.com/pollster) from the [HuffPost Pollster API](http://elections.huffingtonpost.com/pollster/api) to create a preliminary prediction of the result of each state. \n",
      "\n",
      "The HuffPost Pollster API allows you to access the data as a CSV or a JSON response by tacking \".csv\" or \".json\" at the end of the URLs. For example the 2012 Presidential Election could be accessed as a [.json](http://elections.huffingtonpost.com/pollster/2012-general-election-romney-vs-obama.json) instead of a [.csv](http://elections.huffingtonpost.com/pollster/2012-general-election-romney-vs-obama.csv)"
     ]
    },
    {
     "cell_type": "markdown",
     "metadata": {},
     "source": [
      "#### Problem 4(a)\n",
      "\n",
      "Read in the polls for **all** of the 2014 Senate Elections using the HuffPost API. For example, we can consider the [2014 Senate race in Kentucky between Mitch McConnell and Alison Grimes](http://elections.huffingtonpost.com/pollster/2014-kentucky-senate-mcconnell-vs-grimes). \n",
      "\n",
      "To search for the 2014 Senate races, use the `topics` parameter in the API [[read more about topics here](http://elections.huffingtonpost.com/pollster/api)].  "
     ]
    },
    {
     "cell_type": "code",
     "collapsed": false,
     "input": [
      "url_str = \"http://elections.huffingtonpost.com/pollster/api/charts/?topic=2014-senate\""
     ],
     "language": "python",
     "metadata": {},
     "outputs": [],
     "prompt_number": 584
    },
    {
     "cell_type": "markdown",
     "metadata": {},
     "source": [
      "To list all the URLs related to the 2014 Senate races using the pollster API, we can use a list comprehension:"
     ]
    },
    {
     "cell_type": "code",
     "collapsed": false,
     "input": [
      "election_urls = [election['url'] + '.csv' for election in requests.get(url_str).json()]\n",
      "election_urls"
     ],
     "language": "python",
     "metadata": {},
     "outputs": [
      {
       "metadata": {},
       "output_type": "pyout",
       "prompt_number": 585,
       "text": [
        "[u'http://elections.huffingtonpost.com/pollster/2014-kentucky-senate-mcconnell-vs-grimes.csv',\n",
        " u'http://elections.huffingtonpost.com/pollster/2014-arkansas-senate-cotton-vs-pryor.csv',\n",
        " u'http://elections.huffingtonpost.com/pollster/2014-michigan-senate-land-vs-peters.csv',\n",
        " u'http://elections.huffingtonpost.com/pollster/2014-louisiana-senate-cassidy-vs-landrieu.csv',\n",
        " u'http://elections.huffingtonpost.com/pollster/2014-new-hampshire-senate-brown-vs-shaheen.csv',\n",
        " u'http://elections.huffingtonpost.com/pollster/2014-west-virginia-senate-capito-vs-tennant.csv',\n",
        " u'http://elections.huffingtonpost.com/pollster/2014-new-hampshire-senate-bass-vs-shaheen.csv',\n",
        " u'http://elections.huffingtonpost.com/pollster/2014-north-carolina-senate-tillis-vs-hagan.csv',\n",
        " u'http://elections.huffingtonpost.com/pollster/2014-virginia-senate-gillespie-vs-warner.csv',\n",
        " u'http://elections.huffingtonpost.com/pollster/2014-colorado-senate-gardner-vs-udall.csv',\n",
        " u'http://elections.huffingtonpost.com/pollster/2014-illinois-senate-oberweis-vs-durbin.csv',\n",
        " u'http://elections.huffingtonpost.com/pollster/2014-alaska-senate-sullivan-vs-begich.csv',\n",
        " u'http://elections.huffingtonpost.com/pollster/2014-iowa-senate-ernst-vs-braley.csv',\n",
        " u'http://elections.huffingtonpost.com/pollster/2014-mississippi-senate-cochran-vs-childers.csv',\n",
        " u'http://elections.huffingtonpost.com/pollster/2014-oregon-senate-wehby-vs-merkley.csv',\n",
        " u'http://elections.huffingtonpost.com/pollster/2014-georgia-senate-perdue-vs-nunn.csv',\n",
        " u'http://elections.huffingtonpost.com/pollster/2014-louisiana-senate-sasse-vs-domina.csv',\n",
        " u'http://elections.huffingtonpost.com/pollster/2014-south-dakota-senate-rounds-vs-weiland.csv',\n",
        " u'http://elections.huffingtonpost.com/pollster/2014-maine-senate-collins-vs-bellows.csv',\n",
        " u'http://elections.huffingtonpost.com/pollster/2014-minnesota-senate-mcfadden-vs-franken.csv',\n",
        " u'http://elections.huffingtonpost.com/pollster/2014-texas-senate-cornyn-vs-alameel.csv',\n",
        " u'http://elections.huffingtonpost.com/pollster/2014-south-carolina-senate-graham-vs-hutto.csv',\n",
        " u'http://elections.huffingtonpost.com/pollster/2014-south-carolina-senate-scott-vs-dickerson.csv',\n",
        " u'http://elections.huffingtonpost.com/pollster/2014-oklahoma-senate-inhofe-vs-silverstein.csv',\n",
        " u'http://elections.huffingtonpost.com/pollster/2014-new-mexico-senate-weh-vs-udall.csv',\n",
        " u'http://elections.huffingtonpost.com/pollster/2014-new-jersey-senate-bell-vs-booker.csv',\n",
        " u'http://elections.huffingtonpost.com/pollster/2014-idaho-senate-risch-vs-mitchell.csv',\n",
        " u'http://elections.huffingtonpost.com/pollster/2014-tennessee-senate-alexander-vs-ball.csv',\n",
        " u'http://elections.huffingtonpost.com/pollster/2014-wyoming-senate.csv',\n",
        " u'http://elections.huffingtonpost.com/pollster/2014-kansas-senate-roberts-vs-orman-vs-taylor.csv',\n",
        " u'http://elections.huffingtonpost.com/pollster/2014-hawaii-senate-cavasso-vs-schatz.csv',\n",
        " u'http://elections.huffingtonpost.com/pollster/2014-oklahoma-senate-lankford-vs-johnson.csv',\n",
        " u'http://elections.huffingtonpost.com/pollster/2014-montana-senate-daines-vs-curtis.csv',\n",
        " u'http://elections.huffingtonpost.com/pollster/2014-rhode-island-senate-zaccaria-vs-reed.csv',\n",
        " u'http://elections.huffingtonpost.com/pollster/2014-massachusetts-senate-herr-vs-markey.csv',\n",
        " u'http://elections.huffingtonpost.com/pollster/2014-delaware-senate-wade-vs-coons.csv']"
       ]
      }
     ],
     "prompt_number": 585
    },
    {
     "cell_type": "markdown",
     "metadata": {},
     "source": [
      "Because there so many Senate races, we can create a dictionary of pandas DataFrames that will be keyed by the name of the election (a string). "
     ]
    },
    {
     "cell_type": "code",
     "collapsed": false,
     "input": [
      "def build_frame(url):\n",
      "    \"\"\"\n",
      "    Returns a pandas DataFrame object containing\n",
      "    the data returned from the given url\n",
      "    \"\"\"\n",
      "    source = requests.get(url).text\n",
      "    \n",
      "    # Use StringIO because pd.DataFrame.from_csv requires .read() method\n",
      "    s=StringIO.StringIO(source)\n",
      "    \n",
      "    return pd.DataFrame.from_csv(s, index_col=None).convert_objects(\n",
      "            convert_dates=\"coerce\", convert_numeric=True)"
     ],
     "language": "python",
     "metadata": {},
     "outputs": [],
     "prompt_number": 586
    },
    {
     "cell_type": "code",
     "collapsed": false,
     "input": [
      "# Makes a dictionary of pandas DataFrames keyed on election string.\n",
      "import json \n",
      "dfs = dict((election.split(\"/\")[-1][:-4], build_frame(election)) for election in election_urls)\n",
      "dfs.keys()"
     ],
     "language": "python",
     "metadata": {},
     "outputs": [
      {
       "metadata": {},
       "output_type": "pyout",
       "prompt_number": 587,
       "text": [
        "[u'2014-montana-senate-daines-vs-curtis',\n",
        " u'2014-north-carolina-senate-tillis-vs-hagan',\n",
        " u'2014-tennessee-senate-alexander-vs-ball',\n",
        " u'2014-michigan-senate-land-vs-peters',\n",
        " u'2014-wyoming-senate',\n",
        " u'2014-alaska-senate-sullivan-vs-begich',\n",
        " u'2014-oregon-senate-wehby-vs-merkley',\n",
        " u'2014-new-hampshire-senate-brown-vs-shaheen',\n",
        " u'2014-mississippi-senate-cochran-vs-childers',\n",
        " u'2014-rhode-island-senate-zaccaria-vs-reed',\n",
        " u'2014-new-jersey-senate-bell-vs-booker',\n",
        " u'2014-virginia-senate-gillespie-vs-warner',\n",
        " u'2014-south-dakota-senate-rounds-vs-weiland',\n",
        " u'2014-kentucky-senate-mcconnell-vs-grimes',\n",
        " u'2014-iowa-senate-ernst-vs-braley',\n",
        " u'2014-oklahoma-senate-inhofe-vs-silverstein',\n",
        " u'2014-illinois-senate-oberweis-vs-durbin',\n",
        " u'2014-south-carolina-senate-graham-vs-hutto',\n",
        " u'2014-maine-senate-collins-vs-bellows',\n",
        " u'2014-west-virginia-senate-capito-vs-tennant',\n",
        " u'2014-hawaii-senate-cavasso-vs-schatz',\n",
        " u'2014-louisiana-senate-sasse-vs-domina',\n",
        " u'2014-delaware-senate-wade-vs-coons',\n",
        " u'2014-massachusetts-senate-herr-vs-markey',\n",
        " u'2014-minnesota-senate-mcfadden-vs-franken',\n",
        " u'2014-louisiana-senate-cassidy-vs-landrieu',\n",
        " u'2014-georgia-senate-perdue-vs-nunn',\n",
        " u'2014-kansas-senate-roberts-vs-orman-vs-taylor',\n",
        " u'2014-oklahoma-senate-lankford-vs-johnson',\n",
        " u'2014-new-mexico-senate-weh-vs-udall',\n",
        " u'2014-idaho-senate-risch-vs-mitchell',\n",
        " u'2014-texas-senate-cornyn-vs-alameel',\n",
        " u'2014-arkansas-senate-cotton-vs-pryor',\n",
        " u'2014-south-carolina-senate-scott-vs-dickerson',\n",
        " u'2014-colorado-senate-gardner-vs-udall',\n",
        " u'2014-new-hampshire-senate-bass-vs-shaheen']"
       ]
      }
     ],
     "prompt_number": 587
    },
    {
     "cell_type": "markdown",
     "metadata": {},
     "source": [
      "Show the head of the DataFrame containing the polls for the 2014 Senate race in Kentucky between McConnell and Grimes."
     ]
    },
    {
     "cell_type": "code",
     "collapsed": false,
     "input": [
      "#your code here\n",
      "dfs['2014-kentucky-senate-mcconnell-vs-grimes'].head()"
     ],
     "language": "python",
     "metadata": {},
     "outputs": [
      {
       "html": [
        "<div style=\"max-height:1000px;max-width:1500px;overflow:auto;\">\n",
        "<table border=\"1\" class=\"dataframe\">\n",
        "  <thead>\n",
        "    <tr style=\"text-align: right;\">\n",
        "      <th></th>\n",
        "      <th>Pollster</th>\n",
        "      <th>Start Date</th>\n",
        "      <th>End Date</th>\n",
        "      <th>Entry Date/Time (ET)</th>\n",
        "      <th>Number of Observations</th>\n",
        "      <th>Population</th>\n",
        "      <th>Mode</th>\n",
        "      <th>McConnell</th>\n",
        "      <th>Grimes</th>\n",
        "      <th>Undecided</th>\n",
        "      <th>Pollster URL</th>\n",
        "      <th>Source URL</th>\n",
        "      <th>Partisan</th>\n",
        "      <th>Affiliation</th>\n",
        "    </tr>\n",
        "  </thead>\n",
        "  <tbody>\n",
        "    <tr>\n",
        "      <th>0</th>\n",
        "      <td>                       Mellman (D-Grimes)</td>\n",
        "      <td>2014-09-19</td>\n",
        "      <td>2014-09-27</td>\n",
        "      <td>2014-10-01 15:13:47</td>\n",
        "      <td> 1800</td>\n",
        "      <td> Likely Voters</td>\n",
        "      <td>      Live Phone</td>\n",
        "      <td> 40</td>\n",
        "      <td> 42</td>\n",
        "      <td> 16</td>\n",
        "      <td> http://elections.huffingtonpost.com/pollster/p...</td>\n",
        "      <td> http://images.politico.com/global/2014/09/30/m...</td>\n",
        "      <td>     Sponsor</td>\n",
        "      <td>  Dem</td>\n",
        "    </tr>\n",
        "    <tr>\n",
        "      <th>1</th>\n",
        "      <td>                  Gravis/Human Events (R)</td>\n",
        "      <td>2014-09-13</td>\n",
        "      <td>2014-09-16</td>\n",
        "      <td>2014-09-19 14:57:03</td>\n",
        "      <td>  839</td>\n",
        "      <td> Likely Voters</td>\n",
        "      <td> Automated Phone</td>\n",
        "      <td> 51</td>\n",
        "      <td> 41</td>\n",
        "      <td>  8</td>\n",
        "      <td> http://elections.huffingtonpost.com/pollster/p...</td>\n",
        "      <td> http://gravismarketing.com/polling-and-market-...</td>\n",
        "      <td>     Sponsor</td>\n",
        "      <td>  Rep</td>\n",
        "    </tr>\n",
        "    <tr>\n",
        "      <th>2</th>\n",
        "      <td>                            Ipsos/Reuters</td>\n",
        "      <td>2014-09-08</td>\n",
        "      <td>2014-09-12</td>\n",
        "      <td>2014-09-22 15:23:23</td>\n",
        "      <td>  944</td>\n",
        "      <td> Likely Voters</td>\n",
        "      <td>        Internet</td>\n",
        "      <td> 46</td>\n",
        "      <td> 42</td>\n",
        "      <td>  6</td>\n",
        "      <td> http://elections.huffingtonpost.com/pollster/p...</td>\n",
        "      <td>     http://ipsos-na.com/download/pr.aspx?id=13904</td>\n",
        "      <td> Nonpartisan</td>\n",
        "      <td> None</td>\n",
        "    </tr>\n",
        "    <tr>\n",
        "      <th>3</th>\n",
        "      <td> Magellan (R-National Mining Association)</td>\n",
        "      <td>2014-09-04</td>\n",
        "      <td>2014-09-07</td>\n",
        "      <td>2014-09-10 15:44:29</td>\n",
        "      <td>  742</td>\n",
        "      <td> Likely Voters</td>\n",
        "      <td> Automated Phone</td>\n",
        "      <td> 50</td>\n",
        "      <td> 42</td>\n",
        "      <td>  2</td>\n",
        "      <td> http://elections.huffingtonpost.com/pollster/p...</td>\n",
        "      <td> http://www.slideshare.net/MagellanStrat/nation...</td>\n",
        "      <td>     Sponsor</td>\n",
        "      <td>  Rep</td>\n",
        "    </tr>\n",
        "    <tr>\n",
        "      <th>4</th>\n",
        "      <td>                       Mellman (D-Grimes)</td>\n",
        "      <td>2014-09-04</td>\n",
        "      <td>2014-09-07</td>\n",
        "      <td>2014-09-10 18:53:37</td>\n",
        "      <td>  800</td>\n",
        "      <td> Likely Voters</td>\n",
        "      <td>      Live Phone</td>\n",
        "      <td> 42</td>\n",
        "      <td> 43</td>\n",
        "      <td> 15</td>\n",
        "      <td> http://elections.huffingtonpost.com/pollster/p...</td>\n",
        "      <td> http://images.politico.com/global/2014/09/09/1...</td>\n",
        "      <td>     Sponsor</td>\n",
        "      <td>  Dem</td>\n",
        "    </tr>\n",
        "  </tbody>\n",
        "</table>\n",
        "</div>"
       ],
       "metadata": {},
       "output_type": "pyout",
       "prompt_number": 588,
       "text": [
        "                                   Pollster Start Date   End Date  \\\n",
        "0                        Mellman (D-Grimes) 2014-09-19 2014-09-27   \n",
        "1                   Gravis/Human Events (R) 2014-09-13 2014-09-16   \n",
        "2                             Ipsos/Reuters 2014-09-08 2014-09-12   \n",
        "3  Magellan (R-National Mining Association) 2014-09-04 2014-09-07   \n",
        "4                        Mellman (D-Grimes) 2014-09-04 2014-09-07   \n",
        "\n",
        "  Entry Date/Time (ET)  Number of Observations     Population  \\\n",
        "0  2014-10-01 15:13:47                    1800  Likely Voters   \n",
        "1  2014-09-19 14:57:03                     839  Likely Voters   \n",
        "2  2014-09-22 15:23:23                     944  Likely Voters   \n",
        "3  2014-09-10 15:44:29                     742  Likely Voters   \n",
        "4  2014-09-10 18:53:37                     800  Likely Voters   \n",
        "\n",
        "              Mode  McConnell  Grimes  Undecided  \\\n",
        "0       Live Phone         40      42         16   \n",
        "1  Automated Phone         51      41          8   \n",
        "2         Internet         46      42          6   \n",
        "3  Automated Phone         50      42          2   \n",
        "4       Live Phone         42      43         15   \n",
        "\n",
        "                                        Pollster URL  \\\n",
        "0  http://elections.huffingtonpost.com/pollster/p...   \n",
        "1  http://elections.huffingtonpost.com/pollster/p...   \n",
        "2  http://elections.huffingtonpost.com/pollster/p...   \n",
        "3  http://elections.huffingtonpost.com/pollster/p...   \n",
        "4  http://elections.huffingtonpost.com/pollster/p...   \n",
        "\n",
        "                                          Source URL     Partisan Affiliation  \n",
        "0  http://images.politico.com/global/2014/09/30/m...      Sponsor         Dem  \n",
        "1  http://gravismarketing.com/polling-and-market-...      Sponsor         Rep  \n",
        "2      http://ipsos-na.com/download/pr.aspx?id=13904  Nonpartisan        None  \n",
        "3  http://www.slideshare.net/MagellanStrat/nation...      Sponsor         Rep  \n",
        "4  http://images.politico.com/global/2014/09/09/1...      Sponsor         Dem  "
       ]
      }
     ],
     "prompt_number": 588
    },
    {
     "cell_type": "markdown",
     "metadata": {},
     "source": [
      "#### Problem 4(b)\n",
      "\n",
      "For each 2014 Senate race, create a preliminary prediction of the result for that state."
     ]
    },
    {
     "cell_type": "code",
     "collapsed": false,
     "input": [
      "#your code here\n",
      "\n",
      "results = dfs.keys()\n",
      "for i in results:\n",
      "    avg = np.mean(dfs[(i)])\n",
      "    \n",
      "# The preliminary prediction of the result is the Senator with the higher value."
     ],
     "language": "python",
     "metadata": {},
     "outputs": [],
     "prompt_number": 589
    },
    {
     "cell_type": "markdown",
     "metadata": {},
     "source": [
      "# Submission Instructions\n",
      "\n",
      "To submit your homework, create a folder named **lastname_firstinitial_hw#** and place your IPython notebooks, data files, and any other files in this folder. Your IPython Notebooks should be completely executed with the results visible in the notebook. We should not have to run any code.  Compress the folder (please use .zip compression) and submit to the CS109 dropbox in the appropriate folder. *If we cannot access your work because these directions are not followed correctly, we will not grade your work.*\n"
     ]
    },
    {
     "cell_type": "code",
     "collapsed": false,
     "input": [],
     "language": "python",
     "metadata": {},
     "outputs": [],
     "prompt_number": 589
    }
   ],
   "metadata": {}
  }
 ]
}