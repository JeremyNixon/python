{
 "metadata": {
  "name": "",
  "signature": "sha256:33570e1ee2984d7be53ee2df5a45c9a85a8ed86885bd83e762b66b5f553baa3a"
 },
 "nbformat": 3,
 "nbformat_minor": 0,
 "worksheets": [
  {
   "cells": [
    {
     "cell_type": "markdown",
     "metadata": {},
     "source": [
      "Advanced Python Workshop\n",
      "========================\n",
      "**Copyright Continuum Analytics**\n",
      "\n",
      "<center><img src=\"http://ijstokes-public.s3.amazonaws.com/img/continuum-logo-color.png\"></center>\n",
      "\n",
      "Taught by:\n",
      "\n",
      "* Ian Stokes-Rees [ijstokes@continuum.io](mailto:ijstokes@continuum.io)\n",
      "    * Twitter: [@ijstokes](http://twitter.com/ijstokes)\n",
      "    * About.Me: [http://about.me/ijstokes](http://about.me/ijstokes)\n",
      "    * LinkedIn: [http://linkedin.com/in/ijstokes](http://linkedin.com/in/ijstokes)\n",
      "\n",
      "Course Website: \n",
      " [http://j.mp/python-adv-3h](http://j.mp/python-adv-3h)\n",
      " \n",
      "GitHub Version:\n",
      " [https://github.com/ijstokes/python-adv-3h.git](https://github.com/ijstokes/python-adv-3h.git)"
     ]
    },
    {
     "cell_type": "markdown",
     "metadata": {},
     "source": [
      "`lambda`\n",
      "========\n",
      "What is `lambda`?  I could tell you about its origin in *lambda calculus*, but for all intents and purposes:\n",
      "\n",
      "**In Python, `lambda` means:** *\"make function\"*"
     ]
    },
    {
     "cell_type": "code",
     "collapsed": false,
     "input": [
      "# upper_swap()"
     ],
     "language": "python",
     "metadata": {},
     "outputs": [],
     "prompt_number": 1
    },
    {
     "cell_type": "code",
     "collapsed": false,
     "input": [
      "# lambda version"
     ],
     "language": "python",
     "metadata": {},
     "outputs": [],
     "prompt_number": 3
    },
    {
     "cell_type": "markdown",
     "metadata": {},
     "source": [
      "It creates a function object just like `def` does, however:\n",
      "\n",
      "* the function consists of a single expression (no statements!) of arbitrary complexity\n",
      "* the result of calling the function is the result of the expression\n",
      "* the function is anonymous (it has no name)\n",
      "* lambda is an expression, not a statement\n",
      "* the function object is *returned*, so if you need a reference to it, use an *assignment statement*"
     ]
    },
    {
     "cell_type": "markdown",
     "metadata": {},
     "source": [
      "Comprehensions\n",
      "==============\n",
      "A standard operation is to generate a list from another list or from a set of lists:"
     ]
    },
    {
     "cell_type": "code",
     "collapsed": false,
     "input": [
      "# meta words, weird spellings, normalized with length"
     ],
     "language": "python",
     "metadata": {},
     "outputs": [],
     "prompt_number": 53
    },
    {
     "cell_type": "code",
     "collapsed": false,
     "input": [
      "# two vectors of values, combined by some function when second vector is positive"
     ],
     "language": "python",
     "metadata": {},
     "outputs": [],
     "prompt_number": 54
    },
    {
     "cell_type": "markdown",
     "metadata": {},
     "source": [
      "These follow the standard pattern of:\n",
      "\n",
      "```python\n",
      "result = []\n",
      "for VALS in ITERABLE:\n",
      "    if COND(VALS):\n",
      "        result.append(EXPR(VALS))\n",
      "```\n",
      "\n",
      "Comprehensions let us express these more succinctly:\n",
      "\n",
      "```python\n",
      "[ EXPR(VALS) for VALS in ITERABLE if COND(VALS) ]\n",
      "```"
     ]
    },
    {
     "cell_type": "code",
     "collapsed": false,
     "input": [
      "# redo earlier examples"
     ],
     "language": "python",
     "metadata": {},
     "outputs": [],
     "prompt_number": 55
    },
    {
     "cell_type": "code",
     "collapsed": false,
     "input": [
      "# dict comprehensions: 2-tup and result of function; normalized word and length"
     ],
     "language": "python",
     "metadata": {},
     "outputs": [],
     "prompt_number": 57
    },
    {
     "cell_type": "code",
     "collapsed": false,
     "input": [
      "# set comprehension: colors with inconsistent spellings"
     ],
     "language": "python",
     "metadata": {},
     "outputs": []
    },
    {
     "cell_type": "markdown",
     "metadata": {},
     "source": [
      "These all generate real lists, dicts, sets:\n",
      "* random access\n",
      "* updates\n",
      "\n",
      "Generator expressions, on the other hand:\n",
      "* return results on demand\n",
      "* in order\n",
      "* no \"rewind\"\n",
      "* no \"random access\"\n",
      "* consume very little memory\n",
      "* are \"read once, and in order\""
     ]
    },
    {
     "cell_type": "code",
     "collapsed": false,
     "input": [
      "# generator expressions"
     ],
     "language": "python",
     "metadata": {},
     "outputs": [],
     "prompt_number": 56
    },
    {
     "cell_type": "markdown",
     "metadata": {},
     "source": [
      "Exercise: Comprehensions\n",
      "------------------------\n",
      "* Create a list of 8 numbers between -20 and 20, with repeats\n",
      "* Write a list comp to create a list of the those numbers divided by 3\n",
      "* Write a set comp to create a set of those numbers squared\n",
      "* Write a generator comp to create a generator of those numbers doubled\n",
      "* Call `.next()` twice on the generator object returned by the generator comp\n",
      "* Use the generator object in a `for` loop and print out the object.\n",
      "* Try calling `.next()` on the generator object *after* the `for` loop has completed\n",
      "\n",
      "```python\n",
      "g = (YOUR GENERATOR COMPREHENSION)\n",
      "g.next()\n",
      "g.next()\n",
      "for thing in g:\n",
      "    print g\n",
      "g.next()\n",
      "```"
     ]
    },
    {
     "cell_type": "markdown",
     "metadata": {},
     "source": [
      "**This is a big deal!** Generation of results on-demand is a huge win: save time, save memory."
     ]
    },
    {
     "cell_type": "code",
     "collapsed": false,
     "input": [
      "# sum of first ten million integers:"
     ],
     "language": "python",
     "metadata": {},
     "outputs": [],
     "prompt_number": 75
    },
    {
     "cell_type": "code",
     "collapsed": false,
     "input": [
      "# use xrange so giant list isn't created"
     ],
     "language": "python",
     "metadata": {},
     "outputs": [],
     "prompt_number": 76
    },
    {
     "cell_type": "code",
     "collapsed": false,
     "input": [
      "# pre-create result list"
     ],
     "language": "python",
     "metadata": {},
     "outputs": [],
     "prompt_number": 77
    },
    {
     "cell_type": "code",
     "collapsed": false,
     "input": [
      "# list comp"
     ],
     "language": "python",
     "metadata": {},
     "outputs": [],
     "prompt_number": 81
    },
    {
     "cell_type": "code",
     "collapsed": false,
     "input": [
      "# list comp: contrast with using range"
     ],
     "language": "python",
     "metadata": {},
     "outputs": [],
     "prompt_number": 82
    },
    {
     "cell_type": "code",
     "collapsed": false,
     "input": [
      "# sys.getsizeof"
     ],
     "language": "python",
     "metadata": {},
     "outputs": [],
     "prompt_number": 80
    },
    {
     "cell_type": "code",
     "collapsed": false,
     "input": [
      "# generator expression"
     ],
     "language": "python",
     "metadata": {},
     "outputs": [],
     "prompt_number": 83
    },
    {
     "cell_type": "markdown",
     "metadata": {},
     "source": [
      "Iterator Protocol\n",
      "================="
     ]
    },
    {
     "cell_type": "code",
     "collapsed": false,
     "input": [
      "# meta"
     ],
     "language": "python",
     "metadata": {},
     "outputs": [],
     "prompt_number": 115
    },
    {
     "cell_type": "code",
     "collapsed": false,
     "input": [
      "# len, index"
     ],
     "language": "python",
     "metadata": {},
     "outputs": [],
     "prompt_number": 116
    },
    {
     "cell_type": "code",
     "collapsed": false,
     "input": [
      "# proper for loop"
     ],
     "language": "python",
     "metadata": {},
     "outputs": [],
     "prompt_number": 117
    },
    {
     "cell_type": "code",
     "collapsed": false,
     "input": [
      "# iter"
     ],
     "language": "python",
     "metadata": {},
     "outputs": [],
     "prompt_number": 119
    },
    {
     "cell_type": "code",
     "collapsed": false,
     "input": [
      "# next"
     ],
     "language": "python",
     "metadata": {},
     "outputs": []
    },
    {
     "cell_type": "markdown",
     "metadata": {},
     "source": [
      "Explicitly, what is the iterator protocol that `for` implements?"
     ]
    },
    {
     "cell_type": "code",
     "collapsed": false,
     "input": [
      "# it = iter(ITERABLE); while True: ..."
     ],
     "language": "python",
     "metadata": {},
     "outputs": []
    },
    {
     "cell_type": "markdown",
     "metadata": {},
     "source": [
      "Generator Functions\n",
      "===================\n",
      "I completely credit [Raymond Hettinger](http://pyvideo.org/speaker/138/raymond-hettinger) with the following story describing the evolution of generators."
     ]
    },
    {
     "cell_type": "code",
     "collapsed": false,
     "input": [
      "# print"
     ],
     "language": "python",
     "metadata": {},
     "outputs": [],
     "prompt_number": 84
    },
    {
     "cell_type": "code",
     "collapsed": false,
     "input": [
      "# return"
     ],
     "language": "python",
     "metadata": {},
     "outputs": [],
     "prompt_number": 85
    },
    {
     "cell_type": "code",
     "collapsed": false,
     "input": [
      "# yield"
     ],
     "language": "python",
     "metadata": {},
     "outputs": [],
     "prompt_number": 86
    },
    {
     "cell_type": "code",
     "collapsed": false,
     "input": [
      "# thrice"
     ],
     "language": "python",
     "metadata": {},
     "outputs": [],
     "prompt_number": 118
    },
    {
     "cell_type": "code",
     "collapsed": false,
     "input": [
      "# next"
     ],
     "language": "python",
     "metadata": {},
     "outputs": []
    },
    {
     "cell_type": "code",
     "collapsed": false,
     "input": [
      "# for loop"
     ],
     "language": "python",
     "metadata": {},
     "outputs": []
    },
    {
     "cell_type": "markdown",
     "metadata": {},
     "source": [
      "***Iteration over arbitrary computation***\n",
      "\n",
      "* A bit like iteration over a container -- but there is no container, only a function/code\n",
      "* A bit like a generator (on-demand invocation of an expression) -- but the expression that is evaluated can change at each step, and arbitrary computations can happen between steps"
     ]
    },
    {
     "cell_type": "code",
     "collapsed": false,
     "input": [
      "vals = [-3, 2, 7, 4, -6]"
     ],
     "language": "python",
     "metadata": {},
     "outputs": [],
     "prompt_number": 121
    },
    {
     "cell_type": "code",
     "collapsed": false,
     "input": [
      "# generator comp of squares"
     ],
     "language": "python",
     "metadata": {},
     "outputs": [],
     "prompt_number": 122
    },
    {
     "cell_type": "code",
     "collapsed": false,
     "input": [
      "# next"
     ],
     "language": "python",
     "metadata": {},
     "outputs": [],
     "prompt_number": 125
    },
    {
     "cell_type": "code",
     "collapsed": false,
     "input": [
      "# generator function"
     ],
     "language": "python",
     "metadata": {},
     "outputs": [],
     "prompt_number": 126
    },
    {
     "cell_type": "markdown",
     "metadata": {},
     "source": [
      "Exercise: Countdown Generator\n",
      "-----------------------------\n",
      "Create a generator function called `countdown` that takes a positive integer argument and then will do a countdown to zero when iterated over.  Each step returns the current countdown value."
     ]
    },
    {
     "cell_type": "markdown",
     "metadata": {},
     "source": [
      "Coroutines\n",
      "----------\n",
      "Possible to create coordinated generator functions that don't just `yield` result but also receive input at each step.\n",
      "\n",
      "Can be used to implement protocol handlers.  Probably other amazing uses: please let me know what they are!"
     ]
    },
    {
     "cell_type": "code",
     "collapsed": false,
     "input": [
      "# send"
     ],
     "language": "python",
     "metadata": {},
     "outputs": []
    },
    {
     "cell_type": "markdown",
     "metadata": {},
     "source": [
      "Context Manager\n",
      "===============\n",
      "`with` statements can be used with objects that implement the `Context Manager` interface.  These can be used to manage a resource where certain actions always must be taken at the start or end of using an object."
     ]
    },
    {
     "cell_type": "code",
     "collapsed": false,
     "input": [
      "# VanillaDBConn\n",
      "# random chance of query failure"
     ],
     "language": "python",
     "metadata": {},
     "outputs": [],
     "prompt_number": 28
    },
    {
     "cell_type": "code",
     "collapsed": false,
     "input": [
      "# exceptions"
     ],
     "language": "python",
     "metadata": {},
     "outputs": [],
     "prompt_number": 27
    },
    {
     "cell_type": "code",
     "collapsed": false,
     "input": [
      "# create"
     ],
     "language": "python",
     "metadata": {},
     "outputs": [],
     "prompt_number": 36
    },
    {
     "cell_type": "code",
     "collapsed": false,
     "input": [
      "# query"
     ],
     "language": "python",
     "metadata": {},
     "outputs": [],
     "prompt_number": 35
    },
    {
     "cell_type": "code",
     "collapsed": false,
     "input": [
      "# connect"
     ],
     "language": "python",
     "metadata": {},
     "outputs": [],
     "prompt_number": 34
    },
    {
     "cell_type": "code",
     "collapsed": false,
     "input": [
      "# query"
     ],
     "language": "python",
     "metadata": {},
     "outputs": [],
     "prompt_number": 37
    },
    {
     "cell_type": "code",
     "collapsed": false,
     "input": [
      "# close"
     ],
     "language": "python",
     "metadata": {},
     "outputs": [],
     "prompt_number": 38
    },
    {
     "cell_type": "code",
     "collapsed": false,
     "input": [
      "# query"
     ],
     "language": "python",
     "metadata": {},
     "outputs": [],
     "prompt_number": 39
    },
    {
     "cell_type": "code",
     "collapsed": false,
     "input": [
      "# random chance of failure during query or other related code\n",
      "# try/finally technique    "
     ],
     "language": "python",
     "metadata": {},
     "outputs": [],
     "prompt_number": 40
    },
    {
     "cell_type": "code",
     "collapsed": false,
     "input": [
      "# Context Manager version\n",
      "#     __enter__(self):return self\n",
      "#     __exit__(self, exc_type, exc_val, exc_tb)\n",
      "#     lower FAILURE to 0.0"
     ],
     "language": "python",
     "metadata": {},
     "outputs": [],
     "prompt_number": 48
    },
    {
     "cell_type": "code",
     "collapsed": false,
     "input": [
      "# demonstrate use"
     ],
     "language": "python",
     "metadata": {},
     "outputs": [],
     "prompt_number": 52
    },
    {
     "cell_type": "code",
     "collapsed": false,
     "input": [
      "# introduce exception"
     ],
     "language": "python",
     "metadata": {},
     "outputs": []
    },
    {
     "cell_type": "code",
     "collapsed": false,
     "input": [
      "# raise FAILURE rate"
     ],
     "language": "python",
     "metadata": {},
     "outputs": []
    },
    {
     "cell_type": "markdown",
     "metadata": {},
     "source": [
      "Exercise: Create a Context Manager\n",
      "----------------------------------\n",
      "Create a `LoggedPrint` Context Manager class that is an alternative to using the standard `print` statement.\n",
      "\n",
      "* `.start()` method that starts logging.\n",
      "* `.stop()` method that stops logging and prints out log\n",
      "* `.p(str)` method that prints out str and also logs it\n",
      "* `.log` attribute that is a list containing all printed strings\n",
      "\n",
      "The `.p()` method should only work after `.start()` has been called and should not work any more after `.stop()` has been called.\n",
      "\n",
      "Once this is implemented, add in:\n",
      "* `.__enter__(self)` method that calls `.start()` and then returns `self`\n",
      "* `.__exit__(self, exc_type, exc_value, exc_tb)` method that checks for any exceptions and reports them and calls `.stop()`\n",
      "\n",
      "Test with code along these lines:\n",
      "\n",
      "```python\n",
      "printer = LoggedPrint()\n",
      "printer.p(\"No Context Manager: not started, so shouldn't work\")\n",
      "printer.start()\n",
      "printer.p(\"Started, so this is OK\")\n",
      "printer.p(\"Another entry\")\n",
      "print printer.log\n",
      "printer.p(\"Last entry before stop\")\n",
      "printer.stop() # should print out 3 entries\n",
      "printer.p(\"After stop: shouldn't work\")\n",
      "```\n",
      "\n",
      "And then as a context manager:\n",
      "```python\n",
      "with LoggedPrint() as printer:\n",
      "    printer.p(\"inside Context Manager\")\n",
      "    printer.p(\"another entry\")\n",
      "    print printer.log\n",
      "    printer.p(\"third entry\")\n",
      "    \n",
      "printer.p(\"outside of Context Manager\")\n",
      "```"
     ]
    },
    {
     "cell_type": "code",
     "collapsed": false,
     "input": [
      "action_log = []\n",
      "\n",
      "class LoggedFile:\n",
      "    def __init__(self, filename, mode):\n",
      "        self.filename = filename\n",
      "        self.mode     = mode\n",
      "        self.active   = False\n",
      "        \n",
      "    def activate(self):\n",
      "        self.active = True\n",
      "        \n",
      "    def read(self):\n",
      "        if not self.active:\n",
      "            raise IOError(\"{n} is not yet active\".format(n=self.filename))\n",
      "        \n",
      "        data = 'abcd'\n",
      "        event = ('read', self.filename, data)\n",
      "        action_log.append(event)\n",
      "        return data\n",
      "    \n",
      "    def write(self, data):\n",
      "        if not self.active:\n",
      "            raise IOError(\"{n} is not yet active\".format(n=self.filename))\n",
      "        print \"Writing [{d}] to file {n}\".format(d=data, n=self.name)\n",
      "        \n",
      "    def close(self):\n",
      "        self.active = False"
     ],
     "language": "python",
     "metadata": {},
     "outputs": []
    },
    {
     "cell_type": "markdown",
     "metadata": {},
     "source": [
      "Closures\n",
      "========"
     ]
    },
    {
     "cell_type": "code",
     "collapsed": false,
     "input": [
      "# roll"
     ],
     "language": "python",
     "metadata": {},
     "outputs": [],
     "prompt_number": 130
    },
    {
     "cell_type": "code",
     "collapsed": false,
     "input": [
      "# oracle"
     ],
     "language": "python",
     "metadata": {},
     "outputs": [],
     "prompt_number": 131
    },
    {
     "cell_type": "markdown",
     "metadata": {},
     "source": [
      "Function generators\n",
      "-------------------"
     ]
    },
    {
     "cell_type": "code",
     "collapsed": false,
     "input": [
      "# adder()"
     ],
     "language": "python",
     "metadata": {},
     "outputs": []
    },
    {
     "cell_type": "code",
     "collapsed": false,
     "input": [
      "# dis"
     ],
     "language": "python",
     "metadata": {},
     "outputs": []
    },
    {
     "cell_type": "code",
     "collapsed": false,
     "input": [
      "# global OFFSET"
     ],
     "language": "python",
     "metadata": {},
     "outputs": []
    },
    {
     "cell_type": "code",
     "collapsed": false,
     "input": [
      "# genadder()"
     ],
     "language": "python",
     "metadata": {},
     "outputs": [],
     "prompt_number": 132
    },
    {
     "cell_type": "code",
     "collapsed": false,
     "input": [
      "# genadder(val)"
     ],
     "language": "python",
     "metadata": {},
     "outputs": [],
     "prompt_number": 133
    },
    {
     "cell_type": "code",
     "collapsed": false,
     "input": [
      "# dis"
     ],
     "language": "python",
     "metadata": {},
     "outputs": []
    },
    {
     "cell_type": "code",
     "collapsed": false,
     "input": [
      "# log(func) (2x return)"
     ],
     "language": "python",
     "metadata": {},
     "outputs": [],
     "prompt_number": 143
    },
    {
     "cell_type": "code",
     "collapsed": false,
     "input": [
      "# loggedadder"
     ],
     "language": "python",
     "metadata": {},
     "outputs": [],
     "prompt_number": 148
    },
    {
     "cell_type": "code",
     "collapsed": false,
     "input": [
      "# dis"
     ],
     "language": "python",
     "metadata": {},
     "outputs": [],
     "prompt_number": 149
    },
    {
     "cell_type": "code",
     "collapsed": false,
     "input": [
      "# adder = log(adder)"
     ],
     "language": "python",
     "metadata": {},
     "outputs": [],
     "prompt_number": 150
    },
    {
     "cell_type": "code",
     "collapsed": false,
     "input": [
      "# decorator"
     ],
     "language": "python",
     "metadata": {},
     "outputs": [],
     "prompt_number": 151
    },
    {
     "cell_type": "code",
     "collapsed": false,
     "input": [
      "# comment on parameterized decorators"
     ],
     "language": "python",
     "metadata": {},
     "outputs": []
    },
    {
     "cell_type": "markdown",
     "metadata": {},
     "source": [
      "Descriptor Protocol\n",
      "===================\n",
      "*new-style* classes provide the descriptor protocol: this intercepts regular attribute operations: `set, get, delete`\n",
      "\n",
      "*Properties* are a kind of *Descriptor*"
     ]
    },
    {
     "cell_type": "code",
     "collapsed": false,
     "input": [
      "# class Point: x, y, dist, angle\n",
      "import math as m"
     ],
     "language": "python",
     "metadata": {},
     "outputs": [],
     "prompt_number": 152
    },
    {
     "cell_type": "code",
     "collapsed": false,
     "input": [
      "# angle = atan2(y,x) * 180/pi"
     ],
     "language": "python",
     "metadata": {},
     "outputs": [],
     "prompt_number": 157
    },
    {
     "cell_type": "code",
     "collapsed": false,
     "input": [
      "# consider interface"
     ],
     "language": "python",
     "metadata": {},
     "outputs": [],
     "prompt_number": 161
    },
    {
     "cell_type": "code",
     "collapsed": false,
     "input": [
      "# add __repr__"
     ],
     "language": "python",
     "metadata": {},
     "outputs": [],
     "prompt_number": 162
    },
    {
     "cell_type": "code",
     "collapsed": false,
     "input": [
      "# @property"
     ],
     "language": "python",
     "metadata": {},
     "outputs": [],
     "prompt_number": 163
    },
    {
     "cell_type": "code",
     "collapsed": false,
     "input": [
      "# setter"
     ],
     "language": "python",
     "metadata": {},
     "outputs": [],
     "prompt_number": 164
    },
    {
     "cell_type": "code",
     "collapsed": false,
     "input": [
      "# property function"
     ],
     "language": "python",
     "metadata": {},
     "outputs": []
    },
    {
     "cell_type": "markdown",
     "metadata": {},
     "source": [
      "`deque`\n",
      "=======\n",
      "Double-ended queue (pronounced *\"DECK\"*)\n",
      "\n",
      "Lists are great for small collections of things, or for big collections of things that are:\n",
      "* accessed like in a LIFO model\n",
      "* WORM: write-once, read-many\n",
      "* have size-preserving updates"
     ]
    },
    {
     "cell_type": "markdown",
     "metadata": {},
     "source": [
      "`list` internals:\n",
      "* `list` uses contiguous memory\n",
      "* `list` only \"contains\" references to objects (32 or 64 bits per reference)\n",
      "* overallocates space so `.append()` and `.extend()` are reasonably fast\n",
      "    * usually `O(1)`, but sometimes need to allocate new block of space\n",
      "* reference updates (changing a reference) are fast\n",
      "    * `foo[3] = ping`\n",
      "    * `bar[4:7] = ['a', 'b', 'c']`\n",
      "* `.pop()` is cheap: `free` is only called when reserved space is less than half full"
     ]
    },
    {
     "cell_type": "markdown",
     "metadata": {},
     "source": [
      "But the bad news:\n",
      "* `del foo[0]` is expensive: `memcpy` of all subsequent references `foo[1:]` \"one space to the left\"\n",
      "* similarly for operations like `.remove` or `foo[4:7] = []`\n",
      "* and inserts anywhere other than the end are also expensive"
     ]
    },
    {
     "cell_type": "markdown",
     "metadata": {},
     "source": [
      "`deque` to the rescue!\n",
      "\n",
      "* fast operations on both ends: `.popleft`, `.appendleft`, `.extendleft`\n",
      "* `.rotate` allows a deque to operate as a circular buffer\n",
      "* `maxlen` instantiation parameter provides fixed size buffer\n",
      "    * values fall off other end when `maxsize` is reached\n",
      "* relatively cheap size-changing inserts in middle of `deque`\n",
      "* a bit slower than `list` for index lookup\n",
      "* a bit bigger than `list` due to implementation"
     ]
    },
    {
     "cell_type": "code",
     "collapsed": false,
     "input": [
      "# deque of q r s"
     ],
     "language": "python",
     "metadata": {},
     "outputs": [],
     "prompt_number": 1
    },
    {
     "cell_type": "code",
     "collapsed": false,
     "input": [
      "# appendleft p, then o"
     ],
     "language": "python",
     "metadata": {},
     "outputs": [],
     "prompt_number": 2
    },
    {
     "cell_type": "code",
     "collapsed": false,
     "input": [
      "# popleft"
     ],
     "language": "python",
     "metadata": {},
     "outputs": [],
     "prompt_number": 3
    },
    {
     "cell_type": "code",
     "collapsed": false,
     "input": [
      "# rotate"
     ],
     "language": "python",
     "metadata": {},
     "outputs": [],
     "prompt_number": 4
    },
    {
     "cell_type": "code",
     "collapsed": false,
     "input": [
      "# maxlen=4"
     ],
     "language": "python",
     "metadata": {},
     "outputs": []
    },
    {
     "cell_type": "markdown",
     "metadata": {},
     "source": [
      "Reading and Reference\n",
      "=====================\n",
      "* Idiomatic Python: [http://python.net/~goodger/projects/pycon/2007/idiomatic/handout.html](http://python.net/~goodger/projects/pycon/2007/idiomatic/handout.html)\n",
      "* Python Style Guides:\n",
      "    * PEP 8: [http://legacy.python.org/dev/peps/pep-0008/](http://legacy.python.org/dev/peps/pep-0008/)\n",
      "    * Google Python Style Guide:[http://google-styleguide.googlecode.com/svn/trunk/pyguide.html](http://google-styleguide.googlecode.com/svn/trunk/pyguide.html)\n",
      "* Magic methods:\n",
      "    * official specs: [http://docs.python.org/reference/datamodel.html#special-method-names](http://docs.python.org/reference/datamodel.html#special-method-names)\n",
      "    * great summary: [http://www.rafekettler.com/magicmethods.html](http://www.rafekettler.com/magicmethods.html)"
     ]
    },
    {
     "cell_type": "markdown",
     "metadata": {},
     "source": [
      "Python Language Mental Model\n",
      "============================\n",
      "* 30 reserved words (aka keywords)\n",
      "    * http://docs.python.org/2.7/reference/lexical_analysis.html#keywords\n",
      "    * *logic:* `and, not, or`\n",
      "    * *namespaces:* `import, from, as, del, global`\n",
      "    * *object creation:* `class, def, lambda`\n",
      "    * *functions:* `return, print, yield`\n",
      "    * *looping:* `while, for, break, continue`\n",
      "    * *conditional:* `if, else, elif`\n",
      "    * *exeptions:* `try, except, finally, raise`\n",
      "    * *misc:* `pass, assert, with, exec, in, is`\n",
      "                  \n",
      "* Interpreter starts up knowing (almost) *nothing* but language syntax"
     ]
    },
    {
     "cell_type": "markdown",
     "metadata": {},
     "source": [
      "`__builtin__`\n",
      "=============\n",
      "* The Python Language defines a special module called *__builtin__* that is part of the Standard Library\n",
      "* It contains *functions*, *exceptions*, and *classes* that are very common:\n",
      "    * 3 special entries: *None*, *True*, *False* (keywords in Python 3)\n",
      "    * 10 core types\n",
      "        * *int, long, float, bool, complex, str, list, dict, tuple, set*\n",
      "    * 20 supporting types\n",
      "        * *file, xrange, object, ...*\n",
      "    * 40 exceptions (upper camel case, mostly ending in *Error* or *Warning*)\n",
      "    * 50 functions\n",
      "        * Math: *abs min max pow round sum divmod*\n",
      "        * Logic: *all any apply map filter reduce*\n",
      "        * Check: *callable isinstance issubclass*\n",
      "        * Convert: *bin chr hex cmp coerce oct ord unichr*\n",
      "        * Introspect: *dir id vars locals globals hasattr getattr setattr delattr compile eval execfile intern hash repr*\n",
      "        * File: *open*\n",
      "        * Iterable: *len range zip iter next sorted*\n",
      "        * Other: *format reload*\n",
      "\n",
      "* Any reference lookup that doesn't find the reference in the *local* namespace (first) or the *global* (which means *module*) namespace (second) will check the `__builtin__` modules namespace (third)\n",
      "* CPython automatically provides a reference to the `__builtin__` module in every *global* namespace but gives it the name `__builtins__`\n",
      "    * under normal use, you never need to use this module reference\n",
      "* If the *local* or *global* namespace has a reference that is found in `__builtin__` then the `__builtin__` reference will be masked"
     ]
    },
    {
     "cell_type": "markdown",
     "metadata": {},
     "source": [
      "Python Interpreter At Startup\n",
      "-----------------------------\n",
      "Think of a *virgin python interpreter* as an *empty box*.  This is what your program will see when it starts running, and what you will see when you start an interactive interpreter session.\n",
      "\n",
      "The interpreter only knows about:\n",
      "\n",
      "* Core sytnax\n",
      "* `__main__` module scope (`local` and `global` scope both refer to this)\n",
      "* how to resolve references:\n",
      "    * *local scope* (`locals()`)\n",
      "    * *global scope* (`globals()`)\n",
      "    * `__builtin__` Standard Library module\n",
      "* Interpreter starts with usual module meta-data references:\n",
      "    * `__name__`: name of the module (always `__main__` for initial interpreter instance)\n",
      "    * `__package__`: name of the package this module is in (always `None` for initial interpreter instance)\n",
      "    * `__doc__`: module *docstring* (always `None` for initial interpreter instance)\n",
      "    * *CPython implementation detail:* CPython interpreter will automatically add a reference `__builtins__` to all *global* scopes\n",
      "    \n",
      "Everything else needs to \"appear\" via:\n",
      "\n",
      "1. *assignment statements*:\n",
      "    `REFERENCE = EXPRESSION`,\n",
      "    e.g. `x = 3` or `y = sort(['foo', 'bar', 'zip'])`\n",
      "2. *import statements*: imports modules or creates references to objects defined in modules\n",
      "3. *class statements*: creates a class object and adds a reference in the *local* scope\n",
      "4. *def statements*: creates a function object and adds a reference in the *local* scope"
     ]
    },
    {
     "cell_type": "code",
     "collapsed": false,
     "input": [],
     "language": "python",
     "metadata": {},
     "outputs": []
    }
   ],
   "metadata": {}
  }
 ]
}