{
 "metadata": {
  "name": "",
  "signature": "sha256:ae5dc684d6f50f902e3ab8dc3320e560100a9b9cefb33de342607181ee8d21f9"
 },
 "nbformat": 3,
 "nbformat_minor": 0,
 "worksheets": [
  {
   "cells": [
    {
     "cell_type": "markdown",
     "metadata": {},
     "source": [
      "Advanced Python Workshop\n",
      "========================\n",
      "**Copyright Continuum Analytics**\n",
      "\n",
      "<center><img src=\"http://ijstokes-public.s3.amazonaws.com/img/continuum-logo-color.png\"></center>\n",
      "\n",
      "Taught by:\n",
      "\n",
      "* Ian Stokes-Rees [ijstokes@continuum.io](mailto:ijstokes@continuum.io)\n",
      "    * Twitter: [@ijstokes](http://twitter.com/ijstokes)\n",
      "    * About.Me: [http://about.me/ijstokes](http://about.me/ijstokes)\n",
      "    * LinkedIn: [http://linkedin.com/in/ijstokes](http://linkedin.com/in/ijstokes)\n",
      "\n",
      "Course Website: \n",
      " [http://j.mp/python-adv-3h](http://j.mp/python-adv-3h)\n",
      " \n",
      "GitHub Version:\n",
      " [https://github.com/ijstokes/python-adv-3h.git](https://github.com/ijstokes/python-adv-3h.git)"
     ]
    },
    {
     "cell_type": "markdown",
     "metadata": {},
     "source": [
      "`lambda`\n",
      "========\n",
      "What is `lambda`?  I could tell you about its origin in *lambda calculus*, but for all intents and purposes:\n",
      "\n",
      "**In Python, `lambda` means:** *\"make function\"*"
     ]
    },
    {
     "cell_type": "code",
     "collapsed": false,
     "input": [
      "import numpy as np"
     ],
     "language": "python",
     "metadata": {},
     "outputs": [],
     "prompt_number": 85
    },
    {
     "cell_type": "code",
     "collapsed": false,
     "input": [
      "# upper_swap()\n",
      "\n",
      "def upper_swap(word):\n",
      "    upper = word.upper()\n",
      "    swap = upper[-1] + upper[1:-1] + upper[0]\n",
      "    return swap"
     ],
     "language": "python",
     "metadata": {},
     "outputs": [],
     "prompt_number": 86
    },
    {
     "cell_type": "code",
     "collapsed": false,
     "input": [
      "upper_swap('blORt')"
     ],
     "language": "python",
     "metadata": {},
     "outputs": [
      {
       "metadata": {},
       "output_type": "pyout",
       "prompt_number": 87,
       "text": [
        "'TLORB'"
       ]
      }
     ],
     "prompt_number": 87
    },
    {
     "cell_type": "code",
     "collapsed": false,
     "input": [
      "# upper_swap()\n",
      "\n",
      "def upper_swap(word):\n",
      "    return (word[-1] + word[1:-1] + word[0]).upper()"
     ],
     "language": "python",
     "metadata": {},
     "outputs": [],
     "prompt_number": 88
    },
    {
     "cell_type": "code",
     "collapsed": false,
     "input": [
      "upper_swap('wiBbLe')"
     ],
     "language": "python",
     "metadata": {},
     "outputs": [
      {
       "metadata": {},
       "output_type": "pyout",
       "prompt_number": 89,
       "text": [
        "'EIBBLW'"
       ]
      }
     ],
     "prompt_number": 89
    },
    {
     "cell_type": "code",
     "collapsed": false,
     "input": [
      "# lambda version\n",
      "us = lambda word: (word[-1] + word[1:-1] + word[0]).upper()"
     ],
     "language": "python",
     "metadata": {},
     "outputs": [],
     "prompt_number": 90
    },
    {
     "cell_type": "code",
     "collapsed": false,
     "input": [
      "us('ploNk')"
     ],
     "language": "python",
     "metadata": {},
     "outputs": [
      {
       "metadata": {},
       "output_type": "pyout",
       "prompt_number": 91,
       "text": [
        "'KLONP'"
       ]
      }
     ],
     "prompt_number": 91
    },
    {
     "cell_type": "code",
     "collapsed": false,
     "input": [
      "\n",
      "\n",
      "# In python, all objects are autonomous (no scope or namespace)\n",
      "# All objects are anonymous (they have no name)\n",
      "# References map to objects\n",
      "# References have a scope, a namespace\n",
      "\n",
      "# The def adds a reference to the object as well as creating the function\n",
      "# lambda also creates a function as an object, it simply doesn't create a reference to it.\n",
      "\n"
     ],
     "language": "python",
     "metadata": {},
     "outputs": [],
     "prompt_number": 92
    },
    {
     "cell_type": "markdown",
     "metadata": {},
     "source": [
      "lambda creates a function object just like `def` does, however:\n",
      "\n",
      "* the function consists of a single expression (no statements!) of arbitrary complexity\n",
      "* the result of calling the function is the result of the expression\n",
      "* the function is anonymous (it has no name)\n",
      "* lambda is an expression, not a statement\n",
      "* the function object is *returned*, so if you need a reference to it, use an *assignment statement*"
     ]
    },
    {
     "cell_type": "markdown",
     "metadata": {},
     "source": [
      "Comprehensions\n",
      "==============\n",
      "A standard operation is to generate a list from another list or from a set of lists:"
     ]
    },
    {
     "cell_type": "code",
     "collapsed": false,
     "input": [
      "# meta words, weird spellings, normalized with length\n",
      "\n",
      "# protip - use a list and call .split() to create a set of strings, instead of creating them independently\n",
      "meta = 'foo BaR FOO zip Zap PiNG ponG ZAP'.split()\n",
      "meta"
     ],
     "language": "python",
     "metadata": {},
     "outputs": [
      {
       "metadata": {},
       "output_type": "pyout",
       "prompt_number": 93,
       "text": [
        "['foo', 'BaR', 'FOO', 'zip', 'Zap', 'PiNG', 'ponG', 'ZAP']"
       ]
      }
     ],
     "prompt_number": 93
    },
    {
     "cell_type": "code",
     "collapsed": false,
     "input": [
      "clean = []\n",
      "for m in meta:\n",
      "    clean.append(m.upper())"
     ],
     "language": "python",
     "metadata": {},
     "outputs": [],
     "prompt_number": 94
    },
    {
     "cell_type": "code",
     "collapsed": false,
     "input": [
      "clean"
     ],
     "language": "python",
     "metadata": {},
     "outputs": [
      {
       "metadata": {},
       "output_type": "pyout",
       "prompt_number": 95,
       "text": [
        "['FOO', 'BAR', 'FOO', 'ZIP', 'ZAP', 'PING', 'PONG', 'ZAP']"
       ]
      }
     ],
     "prompt_number": 95
    },
    {
     "cell_type": "code",
     "collapsed": false,
     "input": [
      "# two vectors of values, combined by some function when second vector is positive\n",
      "a = [1,4,5,7,-3,5]\n",
      "b = [-3,2,6,8,-4,1]"
     ],
     "language": "python",
     "metadata": {},
     "outputs": [],
     "prompt_number": 96
    },
    {
     "cell_type": "code",
     "collapsed": false,
     "input": [
      "zip(a,b)"
     ],
     "language": "python",
     "metadata": {},
     "outputs": [
      {
       "metadata": {},
       "output_type": "pyout",
       "prompt_number": 97,
       "text": [
        "[(1, -3), (4, 2), (5, 6), (7, 8), (-3, -4), (5, 1)]"
       ]
      }
     ],
     "prompt_number": 97
    },
    {
     "cell_type": "code",
     "collapsed": false,
     "input": [
      "def favorite_numbers():\n",
      "    a = 3\n",
      "    b = 7\n",
      "    c = 42\n",
      "    return a, b, c # implicit tuple packing"
     ],
     "language": "python",
     "metadata": {},
     "outputs": [],
     "prompt_number": 98
    },
    {
     "cell_type": "code",
     "collapsed": false,
     "input": [
      "r = favorite_numbers()\n",
      "r"
     ],
     "language": "python",
     "metadata": {},
     "outputs": [
      {
       "metadata": {},
       "output_type": "pyout",
       "prompt_number": 99,
       "text": [
        "(3, 7, 42)"
       ]
      }
     ],
     "prompt_number": 99
    },
    {
     "cell_type": "code",
     "collapsed": false,
     "input": [
      "x, y, z = favorite_numbers()\n",
      "print x, y, z"
     ],
     "language": "python",
     "metadata": {},
     "outputs": [
      {
       "output_type": "stream",
       "stream": "stdout",
       "text": [
        "3 7 42\n"
       ]
      }
     ],
     "prompt_number": 100
    },
    {
     "cell_type": "code",
     "collapsed": false,
     "input": [
      "def merge(s,t):\n",
      "    return s*t\n",
      "\n",
      "result = []\n",
      "for m,n in zip(a,b):\n",
      "    if m > 0 and n > 0:\n",
      "        result.append(merge(m,n))\n",
      "        "
     ],
     "language": "python",
     "metadata": {},
     "outputs": [],
     "prompt_number": 101
    },
    {
     "cell_type": "code",
     "collapsed": false,
     "input": [
      "result"
     ],
     "language": "python",
     "metadata": {},
     "outputs": [
      {
       "metadata": {},
       "output_type": "pyout",
       "prompt_number": 102,
       "text": [
        "[8, 30, 56, 5]"
       ]
      }
     ],
     "prompt_number": 102
    },
    {
     "cell_type": "markdown",
     "metadata": {},
     "source": [
      "These follow the standard pattern of:\n",
      "\n",
      "```python\n",
      "result = []\n",
      "for VALS in ITERABLE:\n",
      "    if COND(VALS):\n",
      "        result.append(EXPR(VALS))\n",
      "```\n",
      "\n",
      "Comprehensions let us express these more succinctly:\n",
      "\n",
      "```python\n",
      "[ EXPR(VALS) for VALS in ITERABLE if COND(VALS) ]\n",
      "```"
     ]
    },
    {
     "cell_type": "code",
     "collapsed": false,
     "input": [
      "# redo earlier examples\n",
      "meta"
     ],
     "language": "python",
     "metadata": {},
     "outputs": [
      {
       "metadata": {},
       "output_type": "pyout",
       "prompt_number": 103,
       "text": [
        "['foo', 'BaR', 'FOO', 'zip', 'Zap', 'PiNG', 'ponG', 'ZAP']"
       ]
      }
     ],
     "prompt_number": 103
    },
    {
     "cell_type": "code",
     "collapsed": false,
     "input": [
      "[m.upper() for m in meta]"
     ],
     "language": "python",
     "metadata": {},
     "outputs": [
      {
       "metadata": {},
       "output_type": "pyout",
       "prompt_number": 104,
       "text": [
        "['FOO', 'BAR', 'FOO', 'ZIP', 'ZAP', 'PING', 'PONG', 'ZAP']"
       ]
      }
     ],
     "prompt_number": 104
    },
    {
     "cell_type": "code",
     "collapsed": false,
     "input": [
      "[merge(m,n) for m,n in zip(a,b) if m > 0 and n > 0]"
     ],
     "language": "python",
     "metadata": {},
     "outputs": [
      {
       "metadata": {},
       "output_type": "pyout",
       "prompt_number": 105,
       "text": [
        "[8, 30, 56, 5]"
       ]
      }
     ],
     "prompt_number": 105
    },
    {
     "cell_type": "code",
     "collapsed": false,
     "input": [
      "# dict comprehensions: 2-tup and result of function; normalized word and length\n",
      "{(m,n):merge(m,n) for m,n in zip(a,b) if m > 0 and n > 0}"
     ],
     "language": "python",
     "metadata": {},
     "outputs": [
      {
       "metadata": {},
       "output_type": "pyout",
       "prompt_number": 106,
       "text": [
        "{(4, 2): 8, (5, 1): 5, (5, 6): 30, (7, 8): 56}"
       ]
      }
     ],
     "prompt_number": 106
    },
    {
     "cell_type": "code",
     "collapsed": false,
     "input": [
      "# set comprehension: colors with inconsistent spellings\n",
      "[m.upper() for m in meta]"
     ],
     "language": "python",
     "metadata": {},
     "outputs": [
      {
       "metadata": {},
       "output_type": "pyout",
       "prompt_number": 107,
       "text": [
        "['FOO', 'BAR', 'FOO', 'ZIP', 'ZAP', 'PING', 'PONG', 'ZAP']"
       ]
      }
     ],
     "prompt_number": 107
    },
    {
     "cell_type": "code",
     "collapsed": false,
     "input": [
      "{m.upper() for m in meta}"
     ],
     "language": "python",
     "metadata": {},
     "outputs": [
      {
       "metadata": {},
       "output_type": "pyout",
       "prompt_number": 108,
       "text": [
        "{'BAR', 'FOO', 'PING', 'PONG', 'ZAP', 'ZIP'}"
       ]
      }
     ],
     "prompt_number": 108
    },
    {
     "cell_type": "code",
     "collapsed": false,
     "input": [
      "%pprint"
     ],
     "language": "python",
     "metadata": {},
     "outputs": [
      {
       "output_type": "stream",
       "stream": "stdout",
       "text": [
        "Pretty printing has been turned OFF\n"
       ]
      }
     ],
     "prompt_number": 109
    },
    {
     "cell_type": "code",
     "collapsed": false,
     "input": [
      "{m.upper() for m in meta}"
     ],
     "language": "python",
     "metadata": {},
     "outputs": [
      {
       "metadata": {},
       "output_type": "pyout",
       "prompt_number": 110,
       "text": [
        "set(['BAR', 'ZIP', 'PING', 'PONG', 'FOO', 'ZAP'])"
       ]
      }
     ],
     "prompt_number": 110
    },
    {
     "cell_type": "code",
     "collapsed": false,
     "input": [
      "cleanset = {'FOO', 'BAR', 'FOO', 'ZIP', 'ZAP', 'PING', 'PONG', 'ZAP'}\n",
      "cleanlist = meta"
     ],
     "language": "python",
     "metadata": {},
     "outputs": [],
     "prompt_number": 111
    },
    {
     "cell_type": "code",
     "collapsed": false,
     "input": [
      "cleanset"
     ],
     "language": "python",
     "metadata": {},
     "outputs": [
      {
       "metadata": {},
       "output_type": "pyout",
       "prompt_number": 112,
       "text": [
        "set(['BAR', 'ZIP', 'PING', 'PONG', 'FOO', 'ZAP'])"
       ]
      }
     ],
     "prompt_number": 112
    },
    {
     "cell_type": "code",
     "collapsed": false,
     "input": [
      "cleanlist"
     ],
     "language": "python",
     "metadata": {},
     "outputs": [
      {
       "metadata": {},
       "output_type": "pyout",
       "prompt_number": 113,
       "text": [
        "['foo', 'BaR', 'FOO', 'zip', 'Zap', 'PiNG', 'ponG', 'ZAP']"
       ]
      }
     ],
     "prompt_number": 113
    },
    {
     "cell_type": "code",
     "collapsed": false,
     "input": [
      "'PONG' in cleanset"
     ],
     "language": "python",
     "metadata": {},
     "outputs": [
      {
       "metadata": {},
       "output_type": "pyout",
       "prompt_number": 114,
       "text": [
        "True"
       ]
      }
     ],
     "prompt_number": 114
    },
    {
     "cell_type": "code",
     "collapsed": false,
     "input": [
      "'PONG' in cleanlist"
     ],
     "language": "python",
     "metadata": {},
     "outputs": [
      {
       "metadata": {},
       "output_type": "pyout",
       "prompt_number": 115,
       "text": [
        "False"
       ]
      }
     ],
     "prompt_number": 115
    },
    {
     "cell_type": "code",
     "collapsed": false,
     "input": [
      "'FOO' in cleanlist"
     ],
     "language": "python",
     "metadata": {},
     "outputs": [
      {
       "metadata": {},
       "output_type": "pyout",
       "prompt_number": 116,
       "text": [
        "True"
       ]
      }
     ],
     "prompt_number": 116
    },
    {
     "cell_type": "code",
     "collapsed": false,
     "input": [
      "'POW' in cleanlist"
     ],
     "language": "python",
     "metadata": {},
     "outputs": [
      {
       "metadata": {},
       "output_type": "pyout",
       "prompt_number": 117,
       "text": [
        "False"
       ]
      }
     ],
     "prompt_number": 117
    },
    {
     "cell_type": "markdown",
     "metadata": {},
     "source": [
      "These all generate real lists, dicts, sets:\n",
      "* random access\n",
      "* updates\n",
      "\n",
      "Generator expressions, on the other hand:\n",
      "* return results on demand\n",
      "* in order\n",
      "* no \"rewind\"\n",
      "* no \"random access\"\n",
      "* consume very little memory\n",
      "* are \"read once, and in order\""
     ]
    },
    {
     "cell_type": "code",
     "collapsed": false,
     "input": [
      "# generator expressions\n",
      "\n",
      "meta"
     ],
     "language": "python",
     "metadata": {},
     "outputs": [
      {
       "metadata": {},
       "output_type": "pyout",
       "prompt_number": 118,
       "text": [
        "['foo', 'BaR', 'FOO', 'zip', 'Zap', 'PiNG', 'ponG', 'ZAP']"
       ]
      }
     ],
     "prompt_number": 118
    },
    {
     "cell_type": "code",
     "collapsed": false,
     "input": [
      "g = (m.upper() for m in meta)\n",
      "# a generator is an iterator. we're not creating a giant list. "
     ],
     "language": "python",
     "metadata": {},
     "outputs": [],
     "prompt_number": 119
    },
    {
     "cell_type": "code",
     "collapsed": false,
     "input": [
      "for thing in g:\n",
      "    print \"found thing\", thing, \" in our generator object\""
     ],
     "language": "python",
     "metadata": {},
     "outputs": [
      {
       "output_type": "stream",
       "stream": "stdout",
       "text": [
        "found thing FOO  in our generator object\n",
        "found thing BAR  in our generator object\n",
        "found thing FOO  in our generator object\n",
        "found thing ZIP  in our generator object\n",
        "found thing ZAP  in our generator object\n",
        "found thing PING  in our generator object\n",
        "found thing PONG  in our generator object\n",
        "found thing ZAP  in our generator object\n"
       ]
      }
     ],
     "prompt_number": 120
    },
    {
     "cell_type": "code",
     "collapsed": false,
     "input": [
      "len(g)"
     ],
     "language": "python",
     "metadata": {},
     "outputs": [
      {
       "ename": "TypeError",
       "evalue": "object of type 'generator' has no len()",
       "output_type": "pyerr",
       "traceback": [
        "\u001b[0;31m---------------------------------------------------------------------------\u001b[0m\n\u001b[0;31mTypeError\u001b[0m                                 Traceback (most recent call last)",
        "\u001b[0;32m<ipython-input-121-baf0f4fee012>\u001b[0m in \u001b[0;36m<module>\u001b[0;34m()\u001b[0m\n\u001b[0;32m----> 1\u001b[0;31m \u001b[0mlen\u001b[0m\u001b[0;34m(\u001b[0m\u001b[0mg\u001b[0m\u001b[0;34m)\u001b[0m\u001b[0;34m\u001b[0m\u001b[0m\n\u001b[0m",
        "\u001b[0;31mTypeError\u001b[0m: object of type 'generator' has no len()"
       ]
      }
     ],
     "prompt_number": 121
    },
    {
     "cell_type": "code",
     "collapsed": false,
     "input": [
      "type(g)"
     ],
     "language": "python",
     "metadata": {},
     "outputs": []
    },
    {
     "cell_type": "code",
     "collapsed": false,
     "input": [
      "g.next()"
     ],
     "language": "python",
     "metadata": {},
     "outputs": []
    },
    {
     "cell_type": "code",
     "collapsed": false,
     "input": [
      "for word in (m.upper() for m in meta):\n",
      "    if len(word) >= 4:\n",
      "        print \"Found a word 4+ chars long:\", word, \"Breaking!\"\n",
      "        break\n",
      "    print \"found:\", word"
     ],
     "language": "python",
     "metadata": {},
     "outputs": []
    },
    {
     "cell_type": "markdown",
     "metadata": {},
     "source": [
      "Exercise: Comprehensions\n",
      "------------------------\n",
      "* Create a list of 8 numbers between -20 and 20, with repeats\n",
      "* Write a list comp to create a list of the those numbers divided by 3\n",
      "* Write a set comp to create a set of those numbers squared\n",
      "* Write a generator comp to create a generator of those numbers doubled\n",
      "* Call `.next()` twice on the generator object returned by the generator comp\n",
      "* Use the generator object in a `for` loop and print out the object.\n",
      "* Try calling `.next()` on the generator object *after* the `for` loop has completed\n",
      "\n",
      "```python\n",
      "g = (YOUR GENERATOR COMPREHENSION)\n",
      "g.next()\n",
      "g.next()\n",
      "for thing in g:\n",
      "    print g\n",
      "g.next()\n",
      "```"
     ]
    },
    {
     "cell_type": "markdown",
     "metadata": {},
     "source": [
      "**This is a big deal!** Generation of results on-demand is a huge win: save time, save memory."
     ]
    },
    {
     "cell_type": "code",
     "collapsed": false,
     "input": [
      "l = np.random.randint(-20,20,8)\n",
      "l = list(l)\n",
      "print l"
     ],
     "language": "python",
     "metadata": {},
     "outputs": []
    },
    {
     "cell_type": "code",
     "collapsed": false,
     "input": [
      "s = 0\n",
      "for i in range(0, 10000000):\n",
      "    s+= i\n",
      "print s"
     ],
     "language": "python",
     "metadata": {},
     "outputs": [
      {
       "output_type": "stream",
       "stream": "stdout",
       "text": [
        "49999995000000\n"
       ]
      }
     ],
     "prompt_number": 124
    },
    {
     "cell_type": "code",
     "collapsed": false,
     "input": [
      "# sum of first ten million integers:\n",
      "t = 0\n",
      "gen = (i for i in range(0,10000000))\n",
      "for g in gen:\n",
      "    t = t + g\n",
      "print t"
     ],
     "language": "python",
     "metadata": {},
     "outputs": []
    },
    {
     "cell_type": "code",
     "collapsed": false,
     "input": [
      "gen"
     ],
     "language": "python",
     "metadata": {},
     "outputs": [
      {
       "metadata": {},
       "output_type": "pyout",
       "prompt_number": 122,
       "text": [
        "<generator object <genexpr> at 0x1050ead70>"
       ]
      }
     ],
     "prompt_number": 122
    },
    {
     "cell_type": "code",
     "collapsed": false,
     "input": [],
     "language": "python",
     "metadata": {},
     "outputs": [
      {
       "output_type": "stream",
       "stream": "stdout",
       "text": [
        "49999995000000\n",
        "49999995000000"
       ]
      },
      {
       "output_type": "stream",
       "stream": "stdout",
       "text": [
        "\n",
        "49999995000000"
       ]
      },
      {
       "output_type": "stream",
       "stream": "stdout",
       "text": [
        "\n",
        "49999995000000"
       ]
      },
      {
       "output_type": "stream",
       "stream": "stdout",
       "text": [
        "\n",
        "1 loops, best of 3: 1.51 s per loop\n"
       ]
      }
     ],
     "prompt_number": 140
    },
    {
     "cell_type": "code",
     "collapsed": false,
     "input": [
      "vals = [-10, 6,2,-5,8,7]"
     ],
     "language": "python",
     "metadata": {},
     "outputs": [],
     "prompt_number": 126
    },
    {
     "cell_type": "code",
     "collapsed": false,
     "input": [
      "g = (v*2 for v in vals)"
     ],
     "language": "python",
     "metadata": {},
     "outputs": [],
     "prompt_number": 127
    },
    {
     "cell_type": "code",
     "collapsed": false,
     "input": [
      "g"
     ],
     "language": "python",
     "metadata": {},
     "outputs": [
      {
       "metadata": {},
       "output_type": "pyout",
       "prompt_number": 128,
       "text": [
        "<generator object <genexpr> at 0x1050eafa0>"
       ]
      }
     ],
     "prompt_number": 128
    },
    {
     "cell_type": "code",
     "collapsed": false,
     "input": [
      "g.next()"
     ],
     "language": "python",
     "metadata": {},
     "outputs": [
      {
       "metadata": {},
       "output_type": "pyout",
       "prompt_number": 129,
       "text": [
        "-20"
       ]
      }
     ],
     "prompt_number": 129
    },
    {
     "cell_type": "code",
     "collapsed": false,
     "input": [
      "vals"
     ],
     "language": "python",
     "metadata": {},
     "outputs": [
      {
       "metadata": {},
       "output_type": "pyout",
       "prompt_number": 130,
       "text": [
        "[-10, 6, 2, -5, 8, 7]"
       ]
      }
     ],
     "prompt_number": 130
    },
    {
     "cell_type": "code",
     "collapsed": false,
     "input": [
      "ita = iter(vals)"
     ],
     "language": "python",
     "metadata": {},
     "outputs": [],
     "prompt_number": 131
    },
    {
     "cell_type": "code",
     "collapsed": false,
     "input": [
      "itb = iter(vals)"
     ],
     "language": "python",
     "metadata": {},
     "outputs": [],
     "prompt_number": 133
    },
    {
     "cell_type": "code",
     "collapsed": false,
     "input": [
      "hex(id(ita))"
     ],
     "language": "python",
     "metadata": {},
     "outputs": [
      {
       "metadata": {},
       "output_type": "pyout",
       "prompt_number": 134,
       "text": [
        "'0x1050fd450'"
       ]
      }
     ],
     "prompt_number": 134
    },
    {
     "cell_type": "code",
     "collapsed": false,
     "input": [
      "hex(id(itb))"
     ],
     "language": "python",
     "metadata": {},
     "outputs": [
      {
       "metadata": {},
       "output_type": "pyout",
       "prompt_number": 136,
       "text": [
        "'0x1050fd7d0'"
       ]
      }
     ],
     "prompt_number": 136
    },
    {
     "cell_type": "code",
     "collapsed": false,
     "input": [
      "%%timeit\n",
      "result = []\n",
      "for i in range(1, int(1e7)):\n",
      "    result.append(i**2)"
     ],
     "language": "python",
     "metadata": {},
     "outputs": [
      {
       "output_type": "stream",
       "stream": "stdout",
       "text": [
        "1 loops, best of 3: 1.82 s per loop\n"
       ]
      }
     ],
     "prompt_number": 141
    },
    {
     "cell_type": "code",
     "collapsed": false,
     "input": [
      "\n",
      "%%timeit\n",
      "\n",
      "# use xrange so giant list isn't created\n",
      "t = 0\n",
      "gen = (i for i in xrange(1,10000000))\n",
      "for g in gen:\n",
      "    t = t + g\n",
      "print t"
     ],
     "language": "python",
     "metadata": {},
     "outputs": []
    },
    {
     "cell_type": "code",
     "collapsed": false,
     "input": [
      "import sys"
     ],
     "language": "python",
     "metadata": {},
     "outputs": [],
     "prompt_number": 145
    },
    {
     "cell_type": "code",
     "collapsed": false,
     "input": [
      "r = range(1, int(1e7))"
     ],
     "language": "python",
     "metadata": {},
     "outputs": [],
     "prompt_number": 142
    },
    {
     "cell_type": "code",
     "collapsed": false,
     "input": [
      "xr = xrange(1, int(1e7))"
     ],
     "language": "python",
     "metadata": {},
     "outputs": [],
     "prompt_number": 143
    },
    {
     "cell_type": "code",
     "collapsed": false,
     "input": [
      "sys.getsizeof(xr)"
     ],
     "language": "python",
     "metadata": {},
     "outputs": [
      {
       "metadata": {},
       "output_type": "pyout",
       "prompt_number": 146,
       "text": [
        "40"
       ]
      }
     ],
     "prompt_number": 146
    },
    {
     "cell_type": "code",
     "collapsed": false,
     "input": [
      "sys.getsizeof(r)"
     ],
     "language": "python",
     "metadata": {},
     "outputs": [
      {
       "metadata": {},
       "output_type": "pyout",
       "prompt_number": 147,
       "text": [
        "80000064"
       ]
      }
     ],
     "prompt_number": 147
    },
    {
     "cell_type": "code",
     "collapsed": false,
     "input": [
      "# almost everyone uses c python."
     ],
     "language": "python",
     "metadata": {},
     "outputs": []
    },
    {
     "cell_type": "code",
     "collapsed": false,
     "input": [
      "5 + 5 + 5"
     ],
     "language": "python",
     "metadata": {},
     "outputs": [
      {
       "metadata": {},
       "output_type": "pyout",
       "prompt_number": 148,
       "text": [
        "15"
       ]
      }
     ],
     "prompt_number": 148
    },
    {
     "cell_type": "code",
     "collapsed": false,
     "input": [
      "# There is no transmogrification in python\n",
      "'5' + '5' + '5'"
     ],
     "language": "python",
     "metadata": {},
     "outputs": [
      {
       "metadata": {},
       "output_type": "pyout",
       "prompt_number": 149,
       "text": [
        "'555'"
       ]
      }
     ],
     "prompt_number": 149
    },
    {
     "cell_type": "code",
     "collapsed": false,
     "input": [
      "'5'.__add__('7')"
     ],
     "language": "python",
     "metadata": {},
     "outputs": [
      {
       "metadata": {},
       "output_type": "pyout",
       "prompt_number": 151,
       "text": [
        "'57'"
       ]
      }
     ],
     "prompt_number": 151
    },
    {
     "cell_type": "code",
     "collapsed": false,
     "input": [
      "'5'.__mul__(10)"
     ],
     "language": "python",
     "metadata": {},
     "outputs": [
      {
       "metadata": {},
       "output_type": "pyout",
       "prompt_number": 152,
       "text": [
        "'5555555555'"
       ]
      }
     ],
     "prompt_number": 152
    },
    {
     "cell_type": "code",
     "collapsed": false,
     "input": [
      "a = 7\n",
      "b = 7\n",
      "c = 421\n",
      "d = 421\n",
      "\n",
      "print id(a)\n",
      "print id(b)\n",
      "print id(c)\n",
      "print id(d)\n"
     ],
     "language": "python",
     "metadata": {},
     "outputs": [
      {
       "output_type": "stream",
       "stream": "stdout",
       "text": [
        "4300221832\n",
        "4300221832\n",
        "5031282864\n",
        "5031282768\n"
       ]
      }
     ],
     "prompt_number": 155
    },
    {
     "cell_type": "code",
     "collapsed": false,
     "input": [
      "%%timeit\n",
      "\n",
      "# pre-create result list\n",
      "results = [None]*int(1e7) # exactly pre-allocates a really big list!\n",
      "for i in xrange(1, int(1e7)):\n",
      "    results[i-1] = i**2\n"
     ],
     "language": "python",
     "metadata": {},
     "outputs": [
      {
       "output_type": "stream",
       "stream": "stdout",
       "text": [
        "1 loops, best of 3: 1.66 s per loop\n"
       ]
      }
     ],
     "prompt_number": 160
    },
    {
     "cell_type": "code",
     "collapsed": false,
     "input": [],
     "language": "python",
     "metadata": {},
     "outputs": []
    },
    {
     "cell_type": "code",
     "collapsed": false,
     "input": [
      "%%timeit\n",
      "# list comp\n",
      "results = [i**2 for i in xrange(1, int(1e7))]"
     ],
     "language": "python",
     "metadata": {},
     "outputs": [
      {
       "output_type": "stream",
       "stream": "stdout",
       "text": [
        "1 loops, best of 3: 941 ms per loop\n"
       ]
      }
     ],
     "prompt_number": 165
    },
    {
     "cell_type": "code",
     "collapsed": false,
     "input": [
      "%%timeit\n",
      "g = (1**2 for i in xrange(1, int(1e7)))\n",
      "results = list(g)"
     ],
     "language": "python",
     "metadata": {},
     "outputs": [
      {
       "output_type": "stream",
       "stream": "stdout",
       "text": [
        "1 loops, best of 3: 638 ms per loop\n"
       ]
      }
     ],
     "prompt_number": 168
    },
    {
     "cell_type": "code",
     "collapsed": false,
     "input": [],
     "language": "python",
     "metadata": {},
     "outputs": []
    },
    {
     "cell_type": "code",
     "collapsed": false,
     "input": [],
     "language": "python",
     "metadata": {},
     "outputs": []
    },
    {
     "cell_type": "code",
     "collapsed": false,
     "input": [
      "# list comp: contrast with using range"
     ],
     "language": "python",
     "metadata": {},
     "outputs": []
    },
    {
     "cell_type": "code",
     "collapsed": false,
     "input": [
      "# sys.getsizeof"
     ],
     "language": "python",
     "metadata": {},
     "outputs": []
    },
    {
     "cell_type": "code",
     "collapsed": false,
     "input": [
      "# generator expression"
     ],
     "language": "python",
     "metadata": {},
     "outputs": []
    },
    {
     "cell_type": "markdown",
     "metadata": {},
     "source": [
      "Iterator Protocol\n",
      "================="
     ]
    },
    {
     "cell_type": "code",
     "collapsed": false,
     "input": [
      "# meta"
     ],
     "language": "python",
     "metadata": {},
     "outputs": []
    },
    {
     "cell_type": "code",
     "collapsed": false,
     "input": [
      "# len, index"
     ],
     "language": "python",
     "metadata": {},
     "outputs": []
    },
    {
     "cell_type": "code",
     "collapsed": false,
     "input": [
      "# proper for loop"
     ],
     "language": "python",
     "metadata": {},
     "outputs": []
    },
    {
     "cell_type": "code",
     "collapsed": false,
     "input": [
      "# iter"
     ],
     "language": "python",
     "metadata": {},
     "outputs": []
    },
    {
     "cell_type": "code",
     "collapsed": false,
     "input": [
      "# next"
     ],
     "language": "python",
     "metadata": {},
     "outputs": []
    },
    {
     "cell_type": "markdown",
     "metadata": {},
     "source": [
      "Explicitly, what is the iterator protocol that `for` implements?"
     ]
    },
    {
     "cell_type": "code",
     "collapsed": false,
     "input": [
      "# it = iter(ITERABLE); while True: ..."
     ],
     "language": "python",
     "metadata": {},
     "outputs": []
    },
    {
     "cell_type": "markdown",
     "metadata": {},
     "source": [
      "Generator Functions\n",
      "===================\n",
      "I completely credit [Raymond Hettinger](http://pyvideo.org/speaker/138/raymond-hettinger) with the following story describing the evolution of generators."
     ]
    },
    {
     "cell_type": "code",
     "collapsed": false,
     "input": [
      "# print\n",
      "def f(x):\n",
      "    x += 10\n",
      "    print x\n",
      "    x += 100\n",
      "    print x\n",
      "    x += 1000\n",
      "    print x"
     ],
     "language": "python",
     "metadata": {},
     "outputs": [],
     "prompt_number": 170
    },
    {
     "cell_type": "code",
     "collapsed": false,
     "input": [
      "f(7)"
     ],
     "language": "python",
     "metadata": {},
     "outputs": [
      {
       "output_type": "stream",
       "stream": "stdout",
       "text": [
        "17\n",
        "117\n",
        "1117\n"
       ]
      }
     ],
     "prompt_number": 171
    },
    {
     "cell_type": "code",
     "collapsed": false,
     "input": [
      "# yield\n",
      "def f(x):\n",
      "    x += 10\n",
      "    yield x\n",
      "    x += 100\n",
      "    yield x\n",
      "    x += 1000\n",
      "    yield x"
     ],
     "language": "python",
     "metadata": {},
     "outputs": [],
     "prompt_number": 172
    },
    {
     "cell_type": "code",
     "collapsed": false,
     "input": [
      "g = f(7)"
     ],
     "language": "python",
     "metadata": {},
     "outputs": [],
     "prompt_number": 174
    },
    {
     "cell_type": "code",
     "collapsed": false,
     "input": [
      "g"
     ],
     "language": "python",
     "metadata": {},
     "outputs": [
      {
       "metadata": {},
       "output_type": "pyout",
       "prompt_number": 175,
       "text": [
        "<generator object f at 0x1051683c0>"
       ]
      }
     ],
     "prompt_number": 175
    },
    {
     "cell_type": "code",
     "collapsed": false,
     "input": [
      "g.next()"
     ],
     "language": "python",
     "metadata": {},
     "outputs": [
      {
       "metadata": {},
       "output_type": "pyout",
       "prompt_number": 176,
       "text": [
        "17"
       ]
      }
     ],
     "prompt_number": 176
    },
    {
     "cell_type": "code",
     "collapsed": false,
     "input": [
      "g.next()"
     ],
     "language": "python",
     "metadata": {},
     "outputs": [
      {
       "metadata": {},
       "output_type": "pyout",
       "prompt_number": 177,
       "text": [
        "117"
       ]
      }
     ],
     "prompt_number": 177
    },
    {
     "cell_type": "code",
     "collapsed": false,
     "input": [
      "g.next()"
     ],
     "language": "python",
     "metadata": {},
     "outputs": [
      {
       "metadata": {},
       "output_type": "pyout",
       "prompt_number": 178,
       "text": [
        "1117"
       ]
      }
     ],
     "prompt_number": 178
    },
    {
     "cell_type": "code",
     "collapsed": false,
     "input": [
      "g.next()"
     ],
     "language": "python",
     "metadata": {},
     "outputs": [
      {
       "ename": "StopIteration",
       "evalue": "",
       "output_type": "pyerr",
       "traceback": [
        "\u001b[0;31m---------------------------------------------------------------------------\u001b[0m\n\u001b[0;31mStopIteration\u001b[0m                             Traceback (most recent call last)",
        "\u001b[0;32m<ipython-input-180-d7e53364a9a7>\u001b[0m in \u001b[0;36m<module>\u001b[0;34m()\u001b[0m\n\u001b[0;32m----> 1\u001b[0;31m \u001b[0mg\u001b[0m\u001b[0;34m.\u001b[0m\u001b[0mnext\u001b[0m\u001b[0;34m(\u001b[0m\u001b[0;34m)\u001b[0m\u001b[0;34m\u001b[0m\u001b[0m\n\u001b[0m",
        "\u001b[0;31mStopIteration\u001b[0m: "
       ]
      }
     ],
     "prompt_number": 180
    },
    {
     "cell_type": "code",
     "collapsed": false,
     "input": [],
     "language": "python",
     "metadata": {},
     "outputs": []
    },
    {
     "cell_type": "code",
     "collapsed": false,
     "input": [
      "# return"
     ],
     "language": "python",
     "metadata": {},
     "outputs": []
    },
    {
     "cell_type": "code",
     "collapsed": false,
     "input": [
      "# yield"
     ],
     "language": "python",
     "metadata": {},
     "outputs": []
    },
    {
     "cell_type": "code",
     "collapsed": false,
     "input": [
      "# thrice\n",
      "def thrice(val):\n",
      "    ' return val 3 times '\n",
      "    yield (1, val)\n",
      "    yield (2, val)\n",
      "    yield (3, val)\n",
      "    "
     ],
     "language": "python",
     "metadata": {},
     "outputs": [],
     "prompt_number": 181
    },
    {
     "cell_type": "code",
     "collapsed": false,
     "input": [
      "a = thrice ('ping')"
     ],
     "language": "python",
     "metadata": {},
     "outputs": [],
     "prompt_number": 182
    },
    {
     "cell_type": "code",
     "collapsed": false,
     "input": [
      "b = thrice('zap')"
     ],
     "language": "python",
     "metadata": {},
     "outputs": [],
     "prompt_number": 184
    },
    {
     "cell_type": "code",
     "collapsed": false,
     "input": [
      "a.next()"
     ],
     "language": "python",
     "metadata": {},
     "outputs": [
      {
       "metadata": {},
       "output_type": "pyout",
       "prompt_number": 186,
       "text": [
        "(1, 'ping')"
       ]
      }
     ],
     "prompt_number": 186
    },
    {
     "cell_type": "code",
     "collapsed": false,
     "input": [
      "a.next()"
     ],
     "language": "python",
     "metadata": {},
     "outputs": [
      {
       "metadata": {},
       "output_type": "pyout",
       "prompt_number": 187,
       "text": [
        "(2, 'ping')"
       ]
      }
     ],
     "prompt_number": 187
    },
    {
     "cell_type": "code",
     "collapsed": false,
     "input": [],
     "language": "python",
     "metadata": {},
     "outputs": []
    },
    {
     "cell_type": "code",
     "collapsed": false,
     "input": [
      "# next"
     ],
     "language": "python",
     "metadata": {},
     "outputs": []
    },
    {
     "cell_type": "code",
     "collapsed": false,
     "input": [
      "# for loop"
     ],
     "language": "python",
     "metadata": {},
     "outputs": []
    },
    {
     "cell_type": "markdown",
     "metadata": {},
     "source": [
      "***Iteration over arbitrary computation***\n",
      "\n",
      "* A bit like iteration over a container -- but there is no container, only a function/code\n",
      "* A bit like a generator (on-demand invocation of an expression) -- but the expression that is evaluated can change at each step, and arbitrary computations can happen between steps"
     ]
    },
    {
     "cell_type": "code",
     "collapsed": false,
     "input": [
      "vals = [-3, 2, 7, 4, -6]"
     ],
     "language": "python",
     "metadata": {},
     "outputs": []
    },
    {
     "cell_type": "code",
     "collapsed": false,
     "input": [
      "# generator comp of squares"
     ],
     "language": "python",
     "metadata": {},
     "outputs": []
    },
    {
     "cell_type": "code",
     "collapsed": false,
     "input": [
      "# next"
     ],
     "language": "python",
     "metadata": {},
     "outputs": []
    },
    {
     "cell_type": "code",
     "collapsed": false,
     "input": [
      "# generator function"
     ],
     "language": "python",
     "metadata": {},
     "outputs": []
    },
    {
     "cell_type": "markdown",
     "metadata": {},
     "source": [
      "Exercise: Countdown Generator\n",
      "-----------------------------\n",
      "Create a generator function called `countdown` that takes a positive integer argument and then will do a countdown to zero when iterated over.  Each step returns the current countdown value."
     ]
    },
    {
     "cell_type": "code",
     "collapsed": false,
     "input": [
      "def countdown(t):\n",
      "    t = abs(t)\n",
      "    while t >= 0:\n",
      "        yield t\n",
      "        t-=1"
     ],
     "language": "python",
     "metadata": {},
     "outputs": [],
     "prompt_number": 188
    },
    {
     "cell_type": "markdown",
     "metadata": {},
     "source": [
      "Coroutines\n",
      "----------\n",
      "Possible to create coordinated generator functions that don't just `yield` result but also receive input at each step.\n",
      "\n",
      "Can be used to implement protocol handlers.  Probably other amazing uses: please let me know what they are!"
     ]
    },
    {
     "cell_type": "code",
     "collapsed": false,
     "input": [
      "# send\n",
      "def h(x):\n",
      "    x += 10\n",
      "    y = yield x\n",
      "    x += y\n",
      "    z = yield x\n",
      "    x *= z\n",
      "    yield x"
     ],
     "language": "python",
     "metadata": {},
     "outputs": [],
     "prompt_number": 189
    },
    {
     "cell_type": "code",
     "collapsed": false,
     "input": [
      "g = h(7)"
     ],
     "language": "python",
     "metadata": {},
     "outputs": [],
     "prompt_number": 192
    },
    {
     "cell_type": "code",
     "collapsed": false,
     "input": [
      "g.next()"
     ],
     "language": "python",
     "metadata": {},
     "outputs": [
      {
       "metadata": {},
       "output_type": "pyout",
       "prompt_number": 193,
       "text": [
        "17"
       ]
      }
     ],
     "prompt_number": 193
    },
    {
     "cell_type": "code",
     "collapsed": false,
     "input": [
      "g.send(3)"
     ],
     "language": "python",
     "metadata": {},
     "outputs": [
      {
       "metadata": {},
       "output_type": "pyout",
       "prompt_number": 194,
       "text": [
        "20"
       ]
      }
     ],
     "prompt_number": 194
    },
    {
     "cell_type": "code",
     "collapsed": false,
     "input": [
      "g.send(4)"
     ],
     "language": "python",
     "metadata": {},
     "outputs": [
      {
       "ename": "StopIteration",
       "evalue": "",
       "output_type": "pyerr",
       "traceback": [
        "\u001b[0;31m---------------------------------------------------------------------------\u001b[0m\n\u001b[0;31mStopIteration\u001b[0m                             Traceback (most recent call last)",
        "\u001b[0;32m<ipython-input-196-06e8fd10dc61>\u001b[0m in \u001b[0;36m<module>\u001b[0;34m()\u001b[0m\n\u001b[0;32m----> 1\u001b[0;31m \u001b[0mg\u001b[0m\u001b[0;34m.\u001b[0m\u001b[0msend\u001b[0m\u001b[0;34m(\u001b[0m\u001b[0;36m4\u001b[0m\u001b[0;34m)\u001b[0m\u001b[0;34m\u001b[0m\u001b[0m\n\u001b[0m",
        "\u001b[0;31mStopIteration\u001b[0m: "
       ]
      }
     ],
     "prompt_number": 196
    },
    {
     "cell_type": "code",
     "collapsed": false,
     "input": [],
     "language": "python",
     "metadata": {},
     "outputs": [],
     "prompt_number": 191
    },
    {
     "cell_type": "code",
     "collapsed": false,
     "input": [],
     "language": "python",
     "metadata": {},
     "outputs": []
    },
    {
     "cell_type": "markdown",
     "metadata": {},
     "source": [
      "Context Manager\n",
      "===============\n",
      "`with` statements can be used with objects that implement the `Context Manager` interface.  These can be used to manage a resource where certain actions always must be taken at the start or end of using an object."
     ]
    },
    {
     "cell_type": "code",
     "collapsed": false,
     "input": [
      "# VanillaDBConn\n",
      "# random chance of query failure"
     ],
     "language": "python",
     "metadata": {},
     "outputs": []
    },
    {
     "cell_type": "code",
     "collapsed": false,
     "input": [
      "# exceptions"
     ],
     "language": "python",
     "metadata": {},
     "outputs": []
    },
    {
     "cell_type": "code",
     "collapsed": false,
     "input": [
      "# create"
     ],
     "language": "python",
     "metadata": {},
     "outputs": []
    },
    {
     "cell_type": "code",
     "collapsed": false,
     "input": [
      "# query"
     ],
     "language": "python",
     "metadata": {},
     "outputs": []
    },
    {
     "cell_type": "code",
     "collapsed": false,
     "input": [
      "# connect"
     ],
     "language": "python",
     "metadata": {},
     "outputs": []
    },
    {
     "cell_type": "code",
     "collapsed": false,
     "input": [
      "# query"
     ],
     "language": "python",
     "metadata": {},
     "outputs": []
    },
    {
     "cell_type": "code",
     "collapsed": false,
     "input": [
      "# close"
     ],
     "language": "python",
     "metadata": {},
     "outputs": []
    },
    {
     "cell_type": "code",
     "collapsed": false,
     "input": [
      "# query"
     ],
     "language": "python",
     "metadata": {},
     "outputs": []
    },
    {
     "cell_type": "code",
     "collapsed": false,
     "input": [
      "# random chance of failure during query or other related code\n",
      "# try/finally technique    "
     ],
     "language": "python",
     "metadata": {},
     "outputs": []
    },
    {
     "cell_type": "code",
     "collapsed": false,
     "input": [
      "# Context Manager version\n",
      "#     __enter__(self):return self\n",
      "#     __exit__(self, exc_type, exc_val, exc_tb)\n",
      "#     lower FAILURE to 0.0"
     ],
     "language": "python",
     "metadata": {},
     "outputs": []
    },
    {
     "cell_type": "code",
     "collapsed": false,
     "input": [
      "# demonstrate use"
     ],
     "language": "python",
     "metadata": {},
     "outputs": []
    },
    {
     "cell_type": "code",
     "collapsed": false,
     "input": [
      "# introduce exception"
     ],
     "language": "python",
     "metadata": {},
     "outputs": []
    },
    {
     "cell_type": "code",
     "collapsed": false,
     "input": [
      "# raise FAILURE rate"
     ],
     "language": "python",
     "metadata": {},
     "outputs": []
    },
    {
     "cell_type": "markdown",
     "metadata": {},
     "source": [
      "Exercise: Create a Context Manager\n",
      "----------------------------------\n",
      "Create a `LoggedPrint` Context Manager class that is an alternative to using the standard `print` statement.\n",
      "\n",
      "* `.start()` method that starts logging.\n",
      "* `.stop()` method that stops logging and prints out log\n",
      "* `.p(str)` method that prints out str and also logs it\n",
      "* `.log` attribute that is a list containing all printed strings\n",
      "\n",
      "The `.p()` method should only work after `.start()` has been called and should not work any more after `.stop()` has been called.\n",
      "\n",
      "Once this is implemented, add in:\n",
      "* `.__enter__(self)` method that calls `.start()` and then returns `self`\n",
      "* `.__exit__(self, exc_type, exc_value, exc_tb)` method that checks for any exceptions and reports them and calls `.stop()`\n",
      "\n",
      "Test with code along these lines:\n",
      "\n",
      "```python\n",
      "printer = LoggedPrint()\n",
      "printer.p(\"No Context Manager: not started, so shouldn't work\")\n",
      "printer.start()\n",
      "printer.p(\"Started, so this is OK\")\n",
      "printer.p(\"Another entry\")\n",
      "print printer.log\n",
      "printer.p(\"Last entry before stop\")\n",
      "printer.stop() # should print out 3 entries\n",
      "printer.p(\"After stop: shouldn't work\")\n",
      "```\n",
      "\n",
      "And then as a context manager:\n",
      "```python\n",
      "with LoggedPrint() as printer:\n",
      "    printer.p(\"inside Context Manager\")\n",
      "    printer.p(\"another entry\")\n",
      "    print printer.log\n",
      "    printer.p(\"third entry\")\n",
      "    \n",
      "printer.p(\"outside of Context Manager\")\n",
      "```"
     ]
    },
    {
     "cell_type": "code",
     "collapsed": false,
     "input": [
      "action_log = []\n",
      "\n",
      "class LoggedFile:\n",
      "    def __init__(self, filename, mode):\n",
      "        self.filename = filename\n",
      "        self.mode     = mode\n",
      "        self.active   = False\n",
      "        \n",
      "    def activate(self):\n",
      "        self.active = True\n",
      "        \n",
      "    def read(self):\n",
      "        if not self.active:\n",
      "            raise IOError(\"{n} is not yet active\".format(n=self.filename))\n",
      "        \n",
      "        data = 'abcd'\n",
      "        event = ('read', self.filename, data)\n",
      "        action_log.append(event)\n",
      "        return data\n",
      "    \n",
      "    def write(self, data):\n",
      "        if not self.active:\n",
      "            raise IOError(\"{n} is not yet active\".format(n=self.filename))\n",
      "        print \"Writing [{d}] to file {n}\".format(d=data, n=self.name)\n",
      "        \n",
      "    def close(self):\n",
      "        self.active = False"
     ],
     "language": "python",
     "metadata": {},
     "outputs": []
    },
    {
     "cell_type": "markdown",
     "metadata": {},
     "source": [
      "Closures\n",
      "========"
     ]
    },
    {
     "cell_type": "code",
     "collapsed": false,
     "input": [
      "# roll"
     ],
     "language": "python",
     "metadata": {},
     "outputs": []
    },
    {
     "cell_type": "code",
     "collapsed": false,
     "input": [
      "# oracle"
     ],
     "language": "python",
     "metadata": {},
     "outputs": []
    },
    {
     "cell_type": "markdown",
     "metadata": {},
     "source": [
      "Function generators\n",
      "-------------------"
     ]
    },
    {
     "cell_type": "code",
     "collapsed": false,
     "input": [
      "# adder()\n",
      "def adder(a, b):\n",
      "    ' add together a and b '\n",
      "    print 'adding together', a, 'and', b\n",
      "    return a + b"
     ],
     "language": "python",
     "metadata": {},
     "outputs": [],
     "prompt_number": 202
    },
    {
     "cell_type": "code",
     "collapsed": false,
     "input": [
      "adder (3,7)"
     ],
     "language": "python",
     "metadata": {},
     "outputs": [
      {
       "output_type": "stream",
       "stream": "stdout",
       "text": [
        "adding together 3 and 7\n"
       ]
      },
      {
       "metadata": {},
       "output_type": "pyout",
       "prompt_number": 203,
       "text": [
        "10"
       ]
      }
     ],
     "prompt_number": 203
    },
    {
     "cell_type": "code",
     "collapsed": false,
     "input": [
      "import dis\n",
      "dis.dis(adder)"
     ],
     "language": "python",
     "metadata": {},
     "outputs": [
      {
       "output_type": "stream",
       "stream": "stdout",
       "text": [
        "  4           0 LOAD_CONST               1 ('adding together')\n",
        "              3 PRINT_ITEM          \n",
        "              4 LOAD_FAST                0 (a)\n",
        "              7 PRINT_ITEM          \n",
        "              8 LOAD_CONST               2 ('and')\n",
        "             11 PRINT_ITEM          \n",
        "             12 LOAD_FAST                1 (b)\n",
        "             15 PRINT_ITEM          \n",
        "             16 PRINT_NEWLINE       \n",
        "\n",
        "  5          17 LOAD_FAST                0 (a)\n",
        "             20 LOAD_FAST                1 (b)\n",
        "             23 BINARY_ADD          \n",
        "             24 RETURN_VALUE        \n"
       ]
      }
     ],
     "prompt_number": 204
    },
    {
     "cell_type": "code",
     "collapsed": false,
     "input": [
      "def genadder():\n",
      "    \n",
      "    def adder(a,b):\n",
      "        result = a + b + OFFSET\n",
      "        return result\n",
      "    \n",
      "    return adder"
     ],
     "language": "python",
     "metadata": {},
     "outputs": [],
     "prompt_number": 206
    },
    {
     "cell_type": "code",
     "collapsed": false,
     "input": [
      "dis.dis(genadder)"
     ],
     "language": "python",
     "metadata": {},
     "outputs": [
      {
       "output_type": "stream",
       "stream": "stdout",
       "text": [
        "  3           0 LOAD_CONST               1 (<code object adder at 0x104b26db0, file \"<ipython-input-206-fa73fe249aac>\", line 3>)\n",
        "              3 MAKE_FUNCTION            0\n",
        "              6 STORE_FAST               0 (adder)\n",
        "\n",
        "  7           9 LOAD_FAST                0 (adder)\n",
        "             12 RETURN_VALUE        \n"
       ]
      }
     ],
     "prompt_number": 207
    },
    {
     "cell_type": "code",
     "collapsed": false,
     "input": [
      "myadder=genadder()\n",
      "dis.dis(myadder)"
     ],
     "language": "python",
     "metadata": {},
     "outputs": [
      {
       "output_type": "stream",
       "stream": "stdout",
       "text": [
        "  4           0 LOAD_FAST                0 (a)\n",
        "              3 LOAD_FAST                1 (b)\n",
        "              6 BINARY_ADD          \n",
        "              7 LOAD_GLOBAL              0 (OFFSET)\n",
        "             10 BINARY_ADD          \n",
        "             11 STORE_FAST               2 (result)\n",
        "\n",
        "  5          14 LOAD_FAST                2 (result)\n",
        "             17 RETURN_VALUE        \n"
       ]
      }
     ],
     "prompt_number": 208
    },
    {
     "cell_type": "code",
     "collapsed": false,
     "input": [
      "# global OFFSET\n",
      "def log(func):\n",
      "    func.log = []\n",
      "    def wrapper(*args, **kwargs):\n",
      "        print \"calling function\", func.__name__,\n",
      "        print \"/twith args\", args,\n",
      "        print \"/tand keyword args\", kwargs\n",
      "        result = func(*args, **kwargs)\n",
      "        func.log.append((args, kwargs, result))\n",
      "        print \"/tRESULT:\", result\n",
      "        return result\n",
      "    wrapper.log = func.log\n",
      "    return wrapper"
     ],
     "language": "python",
     "metadata": {},
     "outputs": [],
     "prompt_number": 211
    },
    {
     "cell_type": "code",
     "collapsed": false,
     "input": [
      "adder(3,7)"
     ],
     "language": "python",
     "metadata": {},
     "outputs": [
      {
       "output_type": "stream",
       "stream": "stdout",
       "text": [
        "adding together 3 and 7\n"
       ]
      },
      {
       "metadata": {},
       "output_type": "pyout",
       "prompt_number": 212,
       "text": [
        "10"
       ]
      }
     ],
     "prompt_number": 212
    },
    {
     "cell_type": "code",
     "collapsed": false,
     "input": [
      "loggedadder = log(adder)"
     ],
     "language": "python",
     "metadata": {},
     "outputs": [],
     "prompt_number": 213
    },
    {
     "cell_type": "code",
     "collapsed": false,
     "input": [
      "loggedadder(3,7)"
     ],
     "language": "python",
     "metadata": {},
     "outputs": [
      {
       "output_type": "stream",
       "stream": "stdout",
       "text": [
        "calling function adder /twith args (3, 7) /tand keyword args {}\n",
        "adding together 3 and 7\n",
        "/tRESULT: 10\n"
       ]
      },
      {
       "metadata": {},
       "output_type": "pyout",
       "prompt_number": 215,
       "text": [
        "10"
       ]
      }
     ],
     "prompt_number": 215
    },
    {
     "cell_type": "code",
     "collapsed": false,
     "input": [
      "loggedadder.log"
     ],
     "language": "python",
     "metadata": {},
     "outputs": [
      {
       "metadata": {},
       "output_type": "pyout",
       "prompt_number": 217,
       "text": [
        "[((3, 7), {}, 10), ((3, 7), {}, 10)]"
       ]
      }
     ],
     "prompt_number": 217
    },
    {
     "cell_type": "code",
     "collapsed": false,
     "input": [
      "def subtractor(a,b):\n",
      "    ' subtract b from a '\n",
      "    result = a-b\n",
      "    return result"
     ],
     "language": "python",
     "metadata": {},
     "outputs": [],
     "prompt_number": 218
    },
    {
     "cell_type": "code",
     "collapsed": false,
     "input": [
      "subtractor(10,2)"
     ],
     "language": "python",
     "metadata": {},
     "outputs": [
      {
       "metadata": {},
       "output_type": "pyout",
       "prompt_number": 220,
       "text": [
        "8"
       ]
      }
     ],
     "prompt_number": 220
    },
    {
     "cell_type": "code",
     "collapsed": false,
     "input": [
      "loggedsub = log(subtractor)"
     ],
     "language": "python",
     "metadata": {},
     "outputs": [],
     "prompt_number": 221
    },
    {
     "cell_type": "code",
     "collapsed": false,
     "input": [
      "loggedsub(10,2)"
     ],
     "language": "python",
     "metadata": {},
     "outputs": [
      {
       "output_type": "stream",
       "stream": "stdout",
       "text": [
        "calling function subtractor /twith args (10, 2) /tand keyword args {}\n",
        "/tRESULT: 8\n"
       ]
      },
      {
       "metadata": {},
       "output_type": "pyout",
       "prompt_number": 222,
       "text": [
        "8"
       ]
      }
     ],
     "prompt_number": 222
    },
    {
     "cell_type": "code",
     "collapsed": false,
     "input": [
      "loggedsub(25,7)"
     ],
     "language": "python",
     "metadata": {},
     "outputs": [
      {
       "output_type": "stream",
       "stream": "stdout",
       "text": [
        "calling function subtractor /twith args (25, 7) /tand keyword args {}\n",
        "/tRESULT: 18\n"
       ]
      },
      {
       "metadata": {},
       "output_type": "pyout",
       "prompt_number": 223,
       "text": [
        "18"
       ]
      }
     ],
     "prompt_number": 223
    },
    {
     "cell_type": "code",
     "collapsed": false,
     "input": [
      "loggedsub.log"
     ],
     "language": "python",
     "metadata": {},
     "outputs": [
      {
       "metadata": {},
       "output_type": "pyout",
       "prompt_number": 224,
       "text": [
        "[((10, 2), {}, 8), ((25, 7), {}, 18)]"
       ]
      }
     ],
     "prompt_number": 224
    },
    {
     "cell_type": "code",
     "collapsed": false,
     "input": [
      "subtractor = log(subtractor)"
     ],
     "language": "python",
     "metadata": {},
     "outputs": [],
     "prompt_number": 225
    },
    {
     "cell_type": "code",
     "collapsed": false,
     "input": [],
     "language": "python",
     "metadata": {},
     "outputs": []
    },
    {
     "cell_type": "code",
     "collapsed": false,
     "input": [],
     "language": "python",
     "metadata": {},
     "outputs": []
    },
    {
     "cell_type": "code",
     "collapsed": false,
     "input": [
      "# genadder()"
     ],
     "language": "python",
     "metadata": {},
     "outputs": []
    },
    {
     "cell_type": "code",
     "collapsed": false,
     "input": [
      "# genadder(val)"
     ],
     "language": "python",
     "metadata": {},
     "outputs": []
    },
    {
     "cell_type": "code",
     "collapsed": false,
     "input": [
      "# dis"
     ],
     "language": "python",
     "metadata": {},
     "outputs": []
    },
    {
     "cell_type": "code",
     "collapsed": false,
     "input": [
      "# log(func) (2x return)"
     ],
     "language": "python",
     "metadata": {},
     "outputs": []
    },
    {
     "cell_type": "code",
     "collapsed": false,
     "input": [
      "# loggedadder"
     ],
     "language": "python",
     "metadata": {},
     "outputs": []
    },
    {
     "cell_type": "code",
     "collapsed": false,
     "input": [
      "# dis"
     ],
     "language": "python",
     "metadata": {},
     "outputs": []
    },
    {
     "cell_type": "code",
     "collapsed": false,
     "input": [
      "# adder = log(adder)"
     ],
     "language": "python",
     "metadata": {},
     "outputs": []
    },
    {
     "cell_type": "code",
     "collapsed": false,
     "input": [
      "# decorator"
     ],
     "language": "python",
     "metadata": {},
     "outputs": []
    },
    {
     "cell_type": "code",
     "collapsed": false,
     "input": [
      "# comment on parameterized decorators"
     ],
     "language": "python",
     "metadata": {},
     "outputs": []
    },
    {
     "cell_type": "markdown",
     "metadata": {},
     "source": [
      "Descriptor Protocol\n",
      "===================\n",
      "*new-style* classes provide the descriptor protocol: this intercepts regular attribute operations: `set, get, delete`\n",
      "\n",
      "*Properties* are a kind of *Descriptor*"
     ]
    },
    {
     "cell_type": "code",
     "collapsed": false,
     "input": [
      "# class Point: x, y, dist, angle\n",
      "import math as m"
     ],
     "language": "python",
     "metadata": {},
     "outputs": []
    },
    {
     "cell_type": "code",
     "collapsed": false,
     "input": [
      "# angle = atan2(y,x) * 180/pi"
     ],
     "language": "python",
     "metadata": {},
     "outputs": []
    },
    {
     "cell_type": "code",
     "collapsed": false,
     "input": [
      "# consider interface"
     ],
     "language": "python",
     "metadata": {},
     "outputs": []
    },
    {
     "cell_type": "code",
     "collapsed": false,
     "input": [
      "# add __repr__"
     ],
     "language": "python",
     "metadata": {},
     "outputs": []
    },
    {
     "cell_type": "code",
     "collapsed": false,
     "input": [
      "# @property"
     ],
     "language": "python",
     "metadata": {},
     "outputs": []
    },
    {
     "cell_type": "code",
     "collapsed": false,
     "input": [
      "# setter"
     ],
     "language": "python",
     "metadata": {},
     "outputs": []
    },
    {
     "cell_type": "code",
     "collapsed": false,
     "input": [
      "# property function"
     ],
     "language": "python",
     "metadata": {},
     "outputs": []
    },
    {
     "cell_type": "markdown",
     "metadata": {},
     "source": [
      "`deque`\n",
      "=======\n",
      "Double-ended queue (pronounced *\"DECK\"*)\n",
      "\n",
      "Lists are great for small collections of things, or for big collections of things that are:\n",
      "* accessed like in a LIFO model\n",
      "* WORM: write-once, read-many\n",
      "* have size-preserving updates"
     ]
    },
    {
     "cell_type": "markdown",
     "metadata": {},
     "source": [
      "`list` internals:\n",
      "* `list` uses contiguous memory\n",
      "* `list` only \"contains\" references to objects (32 or 64 bits per reference)\n",
      "* overallocates space so `.append()` and `.extend()` are reasonably fast\n",
      "    * usually `O(1)`, but sometimes need to allocate new block of space\n",
      "* reference updates (changing a reference) are fast\n",
      "    * `foo[3] = ping`\n",
      "    * `bar[4:7] = ['a', 'b', 'c']`\n",
      "* `.pop()` is cheap: `free` is only called when reserved space is less than half full"
     ]
    },
    {
     "cell_type": "markdown",
     "metadata": {},
     "source": [
      "But the bad news:\n",
      "* `del foo[0]` is expensive: `memcpy` of all subsequent references `foo[1:]` \"one space to the left\"\n",
      "* similarly for operations like `.remove` or `foo[4:7] = []`\n",
      "* and inserts anywhere other than the end are also expensive"
     ]
    },
    {
     "cell_type": "markdown",
     "metadata": {},
     "source": [
      "`deque` to the rescue!\n",
      "\n",
      "* fast operations on both ends: `.popleft`, `.appendleft`, `.extendleft`\n",
      "* `.rotate` allows a deque to operate as a circular buffer\n",
      "* `maxlen` instantiation parameter provides fixed size buffer\n",
      "    * values fall off other end when `maxsize` is reached\n",
      "* relatively cheap size-changing inserts in middle of `deque`\n",
      "* a bit slower than `list` for index lookup\n",
      "* a bit bigger than `list` due to implementation"
     ]
    },
    {
     "cell_type": "code",
     "collapsed": false,
     "input": [
      "# deque of q r s"
     ],
     "language": "python",
     "metadata": {},
     "outputs": []
    },
    {
     "cell_type": "code",
     "collapsed": false,
     "input": [
      "# appendleft p, then o"
     ],
     "language": "python",
     "metadata": {},
     "outputs": []
    },
    {
     "cell_type": "code",
     "collapsed": false,
     "input": [
      "# popleft"
     ],
     "language": "python",
     "metadata": {},
     "outputs": []
    },
    {
     "cell_type": "code",
     "collapsed": false,
     "input": [
      "# rotate"
     ],
     "language": "python",
     "metadata": {},
     "outputs": []
    },
    {
     "cell_type": "code",
     "collapsed": false,
     "input": [
      "# maxlen=4"
     ],
     "language": "python",
     "metadata": {},
     "outputs": []
    },
    {
     "cell_type": "markdown",
     "metadata": {},
     "source": [
      "Reading and Reference\n",
      "=====================\n",
      "* Idiomatic Python: [http://python.net/~goodger/projects/pycon/2007/idiomatic/handout.html](http://python.net/~goodger/projects/pycon/2007/idiomatic/handout.html)\n",
      "* Python Style Guides:\n",
      "    * PEP 8: [http://legacy.python.org/dev/peps/pep-0008/](http://legacy.python.org/dev/peps/pep-0008/)\n",
      "    * Google Python Style Guide:[http://google-styleguide.googlecode.com/svn/trunk/pyguide.html](http://google-styleguide.googlecode.com/svn/trunk/pyguide.html)\n",
      "* Magic methods:\n",
      "    * official specs: [http://docs.python.org/reference/datamodel.html#special-method-names](http://docs.python.org/reference/datamodel.html#special-method-names)\n",
      "    * great summary: [http://www.rafekettler.com/magicmethods.html](http://www.rafekettler.com/magicmethods.html)"
     ]
    },
    {
     "cell_type": "markdown",
     "metadata": {},
     "source": [
      "Python Language Mental Model\n",
      "============================\n",
      "* 30 reserved words (aka keywords)\n",
      "    * http://docs.python.org/2.7/reference/lexical_analysis.html#keywords\n",
      "    * *logic:* `and, not, or`\n",
      "    * *namespaces:* `import, from, as, del, global`\n",
      "    * *object creation:* `class, def, lambda`\n",
      "    * *functions:* `return, print, yield`\n",
      "    * *looping:* `while, for, break, continue`\n",
      "    * *conditional:* `if, else, elif`\n",
      "    * *exeptions:* `try, except, finally, raise`\n",
      "    * *misc:* `pass, assert, with, exec, in, is`\n",
      "                  \n",
      "* Interpreter starts up knowing (almost) *nothing* but language syntax"
     ]
    },
    {
     "cell_type": "markdown",
     "metadata": {},
     "source": [
      "`__builtin__`\n",
      "=============\n",
      "* The Python Language defines a special module called *__builtin__* that is part of the Standard Library\n",
      "* It contains *functions*, *exceptions*, and *classes* that are very common:\n",
      "    * 3 special entries: *None*, *True*, *False* (keywords in Python 3)\n",
      "    * 10 core types\n",
      "        * *int, long, float, bool, complex, str, list, dict, tuple, set*\n",
      "    * 20 supporting types\n",
      "        * *file, xrange, object, ...*\n",
      "    * 40 exceptions (upper camel case, mostly ending in *Error* or *Warning*)\n",
      "    * 50 functions\n",
      "        * Math: *abs min max pow round sum divmod*\n",
      "        * Logic: *all any apply map filter reduce*\n",
      "        * Check: *callable isinstance issubclass*\n",
      "        * Convert: *bin chr hex cmp coerce oct ord unichr*\n",
      "        * Introspect: *dir id vars locals globals hasattr getattr setattr delattr compile eval execfile intern hash repr*\n",
      "        * File: *open*\n",
      "        * Iterable: *len range zip iter next sorted*\n",
      "        * Other: *format reload*\n",
      "\n",
      "* Any reference lookup that doesn't find the reference in the *local* namespace (first) or the *global* (which means *module*) namespace (second) will check the `__builtin__` modules namespace (third)\n",
      "* CPython automatically provides a reference to the `__builtin__` module in every *global* namespace but gives it the name `__builtins__`\n",
      "    * under normal use, you never need to use this module reference\n",
      "* If the *local* or *global* namespace has a reference that is found in `__builtin__` then the `__builtin__` reference will be masked"
     ]
    },
    {
     "cell_type": "markdown",
     "metadata": {},
     "source": [
      "Python Interpreter At Startup\n",
      "-----------------------------\n",
      "Think of a *virgin python interpreter* as an *empty box*.  This is what your program will see when it starts running, and what you will see when you start an interactive interpreter session.\n",
      "\n",
      "The interpreter only knows about:\n",
      "\n",
      "* Core sytnax\n",
      "* `__main__` module scope (`local` and `global` scope both refer to this)\n",
      "* how to resolve references:\n",
      "    * *local scope* (`locals()`)\n",
      "    * *global scope* (`globals()`)\n",
      "    * `__builtin__` Standard Library module\n",
      "* Interpreter starts with usual module meta-data references:\n",
      "    * `__name__`: name of the module (always `__main__` for initial interpreter instance)\n",
      "    * `__package__`: name of the package this module is in (always `None` for initial interpreter instance)\n",
      "    * `__doc__`: module *docstring* (always `None` for initial interpreter instance)\n",
      "    * *CPython implementation detail:* CPython interpreter will automatically add a reference `__builtins__` to all *global* scopes\n",
      "    \n",
      "Everything else needs to \"appear\" via:\n",
      "\n",
      "1. *assignment statements*:\n",
      "    `REFERENCE = EXPRESSION`,\n",
      "    e.g. `x = 3` or `y = sort(['foo', 'bar', 'zip'])`\n",
      "2. *import statements*: imports modules or creates references to objects defined in modules\n",
      "3. *class statements*: creates a class object and adds a reference in the *local* scope\n",
      "4. *def statements*: creates a function object and adds a reference in the *local* scope"
     ]
    },
    {
     "cell_type": "code",
     "collapsed": false,
     "input": [],
     "language": "python",
     "metadata": {},
     "outputs": []
    }
   ],
   "metadata": {}
  }
 ]
}